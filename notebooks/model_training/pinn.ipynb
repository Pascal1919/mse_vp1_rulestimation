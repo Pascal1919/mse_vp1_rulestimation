{
 "cells": [
  {
   "cell_type": "code",
   "execution_count": 25,
   "metadata": {},
   "outputs": [],
   "source": [
    "import numpy as np\n",
    "import sys\n",
    "import os\n",
    "import torch\n",
    "import wandb\n",
    "\n",
    "import torch.nn as nn\n",
    "import torch.nn.functional as F\n",
    "from tqdm.notebook import tqdm\n",
    "from torchinfo import summary\n",
    "\n",
    "import matplotlib.pyplot as plt\n",
    "\n",
    "# Define the path to the parent project folder\n",
    "project_path = r'C:/Users/palig/MSE/Vertiefungsprojekt1/mse_vp1_rulestimation'\n",
    "\n",
    "# Add the path to sys.path if it does not already exist\n",
    "if project_path not in sys.path:\n",
    "    sys.path.append(project_path)\n",
    "\n",
    "from torch import optim as optim\n",
    "from torch.utils.data import DataLoader, random_split\n",
    "\n",
    "from models.pinn import PINN, PhysicsBasedLoss, AdaptivePhysicsBasedLoss, Adan, Score\n",
    "from utils.preprocess_pinn import CMAPSSDataset\n",
    "from utils.train_pinn import Trainer, test_model\n",
    "\n",
    "# Configure device\n",
    "device = torch.device(\"cuda:0\" if torch.cuda.is_available() else \"cpu\")\n",
    "# normalization\n",
    "\n",
    "data_path = os.path.join(project_path, 'data', 'final')\n",
    "save_path = os.path.join(project_path, 'models', 'trained_models')\n",
    "model_path = os.path.join(project_path, 'models')\n",
    "result_path = os.path.join(project_path, 'data', 'results')\n",
    "\n",
    "model_results = {}"
   ]
  },
  {
   "cell_type": "code",
   "execution_count": 26,
   "metadata": {},
   "outputs": [],
   "source": [
    "api = wandb.Api()\n",
    "\n",
    "project_name = \"mse-vp1\"\n",
    "entity = \"p-alig-fh-ost\"\n",
    "\n",
    "config = {\n",
    "    \"learning_rate\": 1e-3,\n",
    "    \"num_epochs\": 400,\n",
    "    \"batch_size\": 128,\n",
    "    \"derivatives_order\": 2,\n",
    "    \"hidden_dim\": 3,\n",
    "    \"loss_lambda\": 100,\n",
    "    \"dataset\": \"13\",\n",
    "    \"model\": \"PINN_13\"\n",
    "}"
   ]
  },
  {
   "cell_type": "markdown",
   "metadata": {},
   "source": [
    "Load data from group 1 (DF1 and DF3)"
   ]
  },
  {
   "cell_type": "code",
   "execution_count": 3,
   "metadata": {},
   "outputs": [
    {
     "name": "stdout",
     "output_type": "stream",
     "text": [
      "Found 200 unique motor IDs in the data set.\n",
      "(45351, 16)\n",
      "torch.Size([128])\n",
      "Warmed up\n"
     ]
    }
   ],
   "source": [
    "ds_train = CMAPSSDataset(mode='train', data_path=data_path, subset=config[\"dataset\"], max_rul=125)\n",
    "\n",
    "total_size = len(ds_train)\n",
    "\n",
    "val_size = int(0.2 * total_size)  # 20% für Validierung\n",
    "train_size = total_size - val_size  # Rest für Training\n",
    "train_ds, val_ds = random_split(ds_train, [train_size, val_size])\n",
    "\n",
    "train_loader = DataLoader(train_ds, batch_size=config[\"batch_size\"], shuffle=True, num_workers=0)\n",
    "val_loader = DataLoader(val_ds, batch_size=config[\"batch_size\"], shuffle=False, num_workers=0)\n",
    "\n",
    "# Warm up (can take a while!)\n",
    "for batch in train_loader:\n",
    "    print(batch[2].shape)\n",
    "    print(\"Warmed up\")\n",
    "    break"
   ]
  },
  {
   "cell_type": "code",
   "execution_count": 27,
   "metadata": {},
   "outputs": [
    {
     "data": {
      "text/plain": [
       "================================================================================\n",
       "Layer (type:depth-idx)                                  Param #\n",
       "================================================================================\n",
       "PINN                                                    --\n",
       "├─xNN: 1-1                                              --\n",
       "│    └─MultiheadAttention: 2-1                          630\n",
       "│    │    └─NonDynamicallyQuantizableLinear: 3-1        210\n",
       "│    └─Linear: 2-2                                      210\n",
       "│    └─Linear: 2-3                                      45\n",
       "│    └─LayerNorm: 2-4                                   28\n",
       "│    └─ReLU: 2-5                                        --\n",
       "├─MLP: 1-2                                              6\n",
       "│    └─Sequential: 2-6                                  --\n",
       "│    │    └─Linear: 3-2                                 50\n",
       "│    │    └─Tanh: 3-3                                   --\n",
       "│    │    └─Linear: 3-4                                 110\n",
       "│    │    └─Tanh: 3-5                                   --\n",
       "│    │    └─Linear: 3-6                                 110\n",
       "│    │    └─Tanh: 3-7                                   --\n",
       "│    │    └─Linear: 3-8                                 110\n",
       "│    │    └─Tanh: 3-9                                   --\n",
       "│    │    └─Linear: 3-10                                110\n",
       "│    │    └─Tanh: 3-11                                  --\n",
       "│    │    └─Linear: 3-12                                66\n",
       "├─DeepHPM: 1-3                                          --\n",
       "│    └─MultiheadAttention: 2-7                          330\n",
       "│    │    └─NonDynamicallyQuantizableLinear: 3-13       110\n",
       "│    └─Linear: 2-8                                      110\n",
       "│    └─Linear: 2-9                                      11\n",
       "│    └─LayerNorm: 2-10                                  20\n",
       "│    └─ReLU: 2-11                                       --\n",
       "================================================================================\n",
       "Total params: 2,266\n",
       "Trainable params: 2,266\n",
       "Non-trainable params: 0\n",
       "================================================================================"
      ]
     },
     "execution_count": 27,
     "metadata": {},
     "output_type": "execute_result"
    }
   ],
   "source": [
    "model = PINN(input_dim=14, hidden_dim=config[\"hidden_dim\"], derivatives_order=config[\"derivatives_order\"]).to(device)\n",
    "optimizer = Adan(model.parameters(), lr=config[\"learning_rate\"])\n",
    "criterion = AdaptivePhysicsBasedLoss(loss_lambda=config[\"loss_lambda\"])\n",
    "summary(model)"
   ]
  },
  {
   "cell_type": "code",
   "execution_count": 5,
   "metadata": {},
   "outputs": [
    {
     "name": "stderr",
     "output_type": "stream",
     "text": [
      "\u001b[34m\u001b[1mwandb\u001b[0m: Currently logged in as: \u001b[33mp-alig\u001b[0m (\u001b[33mp-alig-fh-ost\u001b[0m). Use \u001b[1m`wandb login --relogin`\u001b[0m to force relogin\n",
      "\u001b[34m\u001b[1mwandb\u001b[0m: Using wandb-core as the SDK backend.  Please refer to https://wandb.me/wandb-core for more information.\n"
     ]
    },
    {
     "data": {
      "text/html": [
       "Tracking run with wandb version 0.19.2"
      ],
      "text/plain": [
       "<IPython.core.display.HTML object>"
      ]
     },
     "metadata": {},
     "output_type": "display_data"
    },
    {
     "data": {
      "text/html": [
       "Run data is saved locally in <code>c:\\Users\\palig\\MSE\\Vertiefungsprojekt1\\mse_vp1_rulestimation\\notebooks\\model_training\\wandb\\run-20250204_211059-jbsoccxv</code>"
      ],
      "text/plain": [
       "<IPython.core.display.HTML object>"
      ]
     },
     "metadata": {},
     "output_type": "display_data"
    },
    {
     "data": {
      "text/html": [
       "Syncing run <strong><a href='https://wandb.ai/p-alig-fh-ost/mse-vp1/runs/jbsoccxv' target=\"_blank\">PINN_13</a></strong> to <a href='https://wandb.ai/p-alig-fh-ost/mse-vp1' target=\"_blank\">Weights & Biases</a> (<a href='https://wandb.me/developer-guide' target=\"_blank\">docs</a>)<br>"
      ],
      "text/plain": [
       "<IPython.core.display.HTML object>"
      ]
     },
     "metadata": {},
     "output_type": "display_data"
    },
    {
     "data": {
      "text/html": [
       " View project at <a href='https://wandb.ai/p-alig-fh-ost/mse-vp1' target=\"_blank\">https://wandb.ai/p-alig-fh-ost/mse-vp1</a>"
      ],
      "text/plain": [
       "<IPython.core.display.HTML object>"
      ]
     },
     "metadata": {},
     "output_type": "display_data"
    },
    {
     "data": {
      "text/html": [
       " View run at <a href='https://wandb.ai/p-alig-fh-ost/mse-vp1/runs/jbsoccxv' target=\"_blank\">https://wandb.ai/p-alig-fh-ost/mse-vp1/runs/jbsoccxv</a>"
      ],
      "text/plain": [
       "<IPython.core.display.HTML object>"
      ]
     },
     "metadata": {},
     "output_type": "display_data"
    }
   ],
   "source": [
    "run = wandb.init(\n",
    "    project=project_name,\n",
    "    name=f'PINN_{config[\"dataset\"]}',\n",
    "    config = config\n",
    ")"
   ]
  },
  {
   "cell_type": "markdown",
   "metadata": {},
   "source": [
    "Training of group 1 (DF1 and DF3)"
   ]
  },
  {
   "cell_type": "code",
   "execution_count": 6,
   "metadata": {},
   "outputs": [
    {
     "name": "stdout",
     "output_type": "stream",
     "text": [
      "Epoch 1/400\n"
     ]
    },
    {
     "name": "stderr",
     "output_type": "stream",
     "text": [
      "Training Epoch 1: 100%|██████████| 284/284 [00:08<00:00, 33.52it/s]\n",
      "Validation Epoch 1: 100%|██████████| 71/71 [00:09<00:00,  7.13it/s]\n"
     ]
    },
    {
     "name": "stdout",
     "output_type": "stream",
     "text": [
      "Epoch 2/400\n"
     ]
    },
    {
     "name": "stderr",
     "output_type": "stream",
     "text": [
      "Training Epoch 2: 100%|██████████| 284/284 [00:09<00:00, 31.50it/s]\n",
      "Validation Epoch 2: 100%|██████████| 71/71 [00:10<00:00,  6.75it/s]\n"
     ]
    },
    {
     "name": "stdout",
     "output_type": "stream",
     "text": [
      "Epoch 3/400\n"
     ]
    },
    {
     "name": "stderr",
     "output_type": "stream",
     "text": [
      "Training Epoch 3: 100%|██████████| 284/284 [00:09<00:00, 31.10it/s]\n",
      "Validation Epoch 3: 100%|██████████| 71/71 [00:10<00:00,  6.63it/s]\n"
     ]
    },
    {
     "name": "stdout",
     "output_type": "stream",
     "text": [
      "Epoch 4/400\n"
     ]
    },
    {
     "name": "stderr",
     "output_type": "stream",
     "text": [
      "Training Epoch 4: 100%|██████████| 284/284 [00:09<00:00, 29.38it/s]\n",
      "Validation Epoch 4: 100%|██████████| 71/71 [00:11<00:00,  6.24it/s]\n"
     ]
    },
    {
     "name": "stdout",
     "output_type": "stream",
     "text": [
      "Epoch 5/400\n"
     ]
    },
    {
     "name": "stderr",
     "output_type": "stream",
     "text": [
      "Training Epoch 5: 100%|██████████| 284/284 [00:09<00:00, 29.12it/s]\n",
      "Validation Epoch 5: 100%|██████████| 71/71 [00:11<00:00,  6.25it/s]\n"
     ]
    },
    {
     "name": "stdout",
     "output_type": "stream",
     "text": [
      "Epoch 6/400\n"
     ]
    },
    {
     "name": "stderr",
     "output_type": "stream",
     "text": [
      "Training Epoch 6: 100%|██████████| 284/284 [00:09<00:00, 30.10it/s]\n",
      "Validation Epoch 6: 100%|██████████| 71/71 [00:11<00:00,  6.44it/s]\n"
     ]
    },
    {
     "name": "stdout",
     "output_type": "stream",
     "text": [
      "Epoch 7/400\n"
     ]
    },
    {
     "name": "stderr",
     "output_type": "stream",
     "text": [
      "Training Epoch 7: 100%|██████████| 284/284 [00:09<00:00, 29.76it/s]\n",
      "Validation Epoch 7: 100%|██████████| 71/71 [00:11<00:00,  6.36it/s]\n"
     ]
    },
    {
     "name": "stdout",
     "output_type": "stream",
     "text": [
      "Epoch 8/400\n"
     ]
    },
    {
     "name": "stderr",
     "output_type": "stream",
     "text": [
      "Training Epoch 8: 100%|██████████| 284/284 [00:09<00:00, 29.86it/s]\n",
      "Validation Epoch 8: 100%|██████████| 71/71 [00:11<00:00,  6.45it/s]\n"
     ]
    },
    {
     "name": "stdout",
     "output_type": "stream",
     "text": [
      "Epoch 9/400\n"
     ]
    },
    {
     "name": "stderr",
     "output_type": "stream",
     "text": [
      "Training Epoch 9: 100%|██████████| 284/284 [00:09<00:00, 30.47it/s]\n",
      "Validation Epoch 9: 100%|██████████| 71/71 [00:10<00:00,  6.52it/s]\n"
     ]
    },
    {
     "name": "stdout",
     "output_type": "stream",
     "text": [
      "Epoch 10/400\n"
     ]
    },
    {
     "name": "stderr",
     "output_type": "stream",
     "text": [
      "Training Epoch 10: 100%|██████████| 284/284 [00:09<00:00, 30.65it/s]\n",
      "Validation Epoch 10: 100%|██████████| 71/71 [00:10<00:00,  6.51it/s]\n"
     ]
    },
    {
     "name": "stdout",
     "output_type": "stream",
     "text": [
      "Epoch 11/400\n"
     ]
    },
    {
     "name": "stderr",
     "output_type": "stream",
     "text": [
      "Training Epoch 11: 100%|██████████| 284/284 [00:09<00:00, 30.91it/s]\n",
      "Validation Epoch 11: 100%|██████████| 71/71 [00:10<00:00,  6.60it/s]\n"
     ]
    },
    {
     "name": "stdout",
     "output_type": "stream",
     "text": [
      "Epoch 12/400\n"
     ]
    },
    {
     "name": "stderr",
     "output_type": "stream",
     "text": [
      "Training Epoch 12: 100%|██████████| 284/284 [00:09<00:00, 30.15it/s]\n",
      "Validation Epoch 12: 100%|██████████| 71/71 [00:11<00:00,  6.45it/s]\n"
     ]
    },
    {
     "name": "stdout",
     "output_type": "stream",
     "text": [
      "Epoch 13/400\n"
     ]
    },
    {
     "name": "stderr",
     "output_type": "stream",
     "text": [
      "Training Epoch 13: 100%|██████████| 284/284 [00:09<00:00, 31.32it/s]\n",
      "Validation Epoch 13: 100%|██████████| 71/71 [00:10<00:00,  6.67it/s]\n"
     ]
    },
    {
     "name": "stdout",
     "output_type": "stream",
     "text": [
      "Epoch 14/400\n"
     ]
    },
    {
     "name": "stderr",
     "output_type": "stream",
     "text": [
      "Training Epoch 14: 100%|██████████| 284/284 [00:09<00:00, 29.98it/s]\n",
      "Validation Epoch 14: 100%|██████████| 71/71 [00:10<00:00,  6.47it/s]\n"
     ]
    },
    {
     "name": "stdout",
     "output_type": "stream",
     "text": [
      "Epoch 15/400\n"
     ]
    },
    {
     "name": "stderr",
     "output_type": "stream",
     "text": [
      "Training Epoch 15: 100%|██████████| 284/284 [00:09<00:00, 30.04it/s]\n",
      "Validation Epoch 15: 100%|██████████| 71/71 [00:10<00:00,  6.48it/s]\n"
     ]
    },
    {
     "name": "stdout",
     "output_type": "stream",
     "text": [
      "Epoch 16/400\n"
     ]
    },
    {
     "name": "stderr",
     "output_type": "stream",
     "text": [
      "Training Epoch 16: 100%|██████████| 284/284 [00:09<00:00, 29.91it/s]\n",
      "Validation Epoch 16: 100%|██████████| 71/71 [00:11<00:00,  6.42it/s]\n"
     ]
    },
    {
     "name": "stdout",
     "output_type": "stream",
     "text": [
      "Epoch 17/400\n"
     ]
    },
    {
     "name": "stderr",
     "output_type": "stream",
     "text": [
      "Training Epoch 17: 100%|██████████| 284/284 [00:09<00:00, 29.75it/s]\n",
      "Validation Epoch 17: 100%|██████████| 71/71 [00:11<00:00,  6.40it/s]\n"
     ]
    },
    {
     "name": "stdout",
     "output_type": "stream",
     "text": [
      "Epoch 18/400\n"
     ]
    },
    {
     "name": "stderr",
     "output_type": "stream",
     "text": [
      "Training Epoch 18: 100%|██████████| 284/284 [00:09<00:00, 30.51it/s]\n",
      "Validation Epoch 18: 100%|██████████| 71/71 [00:11<00:00,  6.44it/s]\n"
     ]
    },
    {
     "name": "stdout",
     "output_type": "stream",
     "text": [
      "Epoch 19/400\n"
     ]
    },
    {
     "name": "stderr",
     "output_type": "stream",
     "text": [
      "Training Epoch 19: 100%|██████████| 284/284 [00:09<00:00, 31.28it/s]\n",
      "Validation Epoch 19: 100%|██████████| 71/71 [00:10<00:00,  6.69it/s]\n"
     ]
    },
    {
     "name": "stdout",
     "output_type": "stream",
     "text": [
      "Epoch 20/400\n"
     ]
    },
    {
     "name": "stderr",
     "output_type": "stream",
     "text": [
      "Training Epoch 20: 100%|██████████| 284/284 [00:09<00:00, 30.94it/s]\n",
      "Validation Epoch 20: 100%|██████████| 71/71 [00:10<00:00,  6.62it/s]\n"
     ]
    },
    {
     "name": "stdout",
     "output_type": "stream",
     "text": [
      "Epoch 21/400\n"
     ]
    },
    {
     "name": "stderr",
     "output_type": "stream",
     "text": [
      "Training Epoch 21: 100%|██████████| 284/284 [00:09<00:00, 30.67it/s]\n",
      "Validation Epoch 21: 100%|██████████| 71/71 [00:11<00:00,  6.41it/s]\n"
     ]
    },
    {
     "name": "stdout",
     "output_type": "stream",
     "text": [
      "Epoch 22/400\n"
     ]
    },
    {
     "name": "stderr",
     "output_type": "stream",
     "text": [
      "Training Epoch 22: 100%|██████████| 284/284 [00:09<00:00, 31.27it/s]\n",
      "Validation Epoch 22: 100%|██████████| 71/71 [00:10<00:00,  6.63it/s]\n"
     ]
    },
    {
     "name": "stdout",
     "output_type": "stream",
     "text": [
      "Epoch 23/400\n"
     ]
    },
    {
     "name": "stderr",
     "output_type": "stream",
     "text": [
      "Training Epoch 23: 100%|██████████| 284/284 [00:09<00:00, 30.86it/s]\n",
      "Validation Epoch 23: 100%|██████████| 71/71 [00:10<00:00,  6.54it/s]\n"
     ]
    },
    {
     "name": "stdout",
     "output_type": "stream",
     "text": [
      "Epoch 24/400\n"
     ]
    },
    {
     "name": "stderr",
     "output_type": "stream",
     "text": [
      "Training Epoch 24: 100%|██████████| 284/284 [00:09<00:00, 29.37it/s]\n",
      "Validation Epoch 24: 100%|██████████| 71/71 [00:11<00:00,  6.32it/s]\n"
     ]
    },
    {
     "name": "stdout",
     "output_type": "stream",
     "text": [
      "Epoch 25/400\n"
     ]
    },
    {
     "name": "stderr",
     "output_type": "stream",
     "text": [
      "Training Epoch 25: 100%|██████████| 284/284 [00:09<00:00, 31.14it/s]\n",
      "Validation Epoch 25: 100%|██████████| 71/71 [00:10<00:00,  6.70it/s]\n"
     ]
    },
    {
     "name": "stdout",
     "output_type": "stream",
     "text": [
      "Epoch 26/400\n"
     ]
    },
    {
     "name": "stderr",
     "output_type": "stream",
     "text": [
      "Training Epoch 26: 100%|██████████| 284/284 [00:09<00:00, 30.42it/s]\n",
      "Validation Epoch 26: 100%|██████████| 71/71 [00:10<00:00,  6.49it/s]\n"
     ]
    },
    {
     "name": "stdout",
     "output_type": "stream",
     "text": [
      "Epoch 27/400\n"
     ]
    },
    {
     "name": "stderr",
     "output_type": "stream",
     "text": [
      "Training Epoch 27: 100%|██████████| 284/284 [00:09<00:00, 29.21it/s]\n",
      "Validation Epoch 27: 100%|██████████| 71/71 [00:11<00:00,  6.28it/s]\n"
     ]
    },
    {
     "name": "stdout",
     "output_type": "stream",
     "text": [
      "Epoch 28/400\n"
     ]
    },
    {
     "name": "stderr",
     "output_type": "stream",
     "text": [
      "Training Epoch 28: 100%|██████████| 284/284 [00:09<00:00, 31.55it/s]\n",
      "Validation Epoch 28: 100%|██████████| 71/71 [00:10<00:00,  6.76it/s]\n"
     ]
    },
    {
     "name": "stdout",
     "output_type": "stream",
     "text": [
      "Epoch 29/400\n"
     ]
    },
    {
     "name": "stderr",
     "output_type": "stream",
     "text": [
      "Training Epoch 29: 100%|██████████| 284/284 [00:09<00:00, 30.86it/s]\n",
      "Validation Epoch 29: 100%|██████████| 71/71 [00:10<00:00,  6.58it/s]\n"
     ]
    },
    {
     "name": "stdout",
     "output_type": "stream",
     "text": [
      "Epoch 30/400\n"
     ]
    },
    {
     "name": "stderr",
     "output_type": "stream",
     "text": [
      "Training Epoch 30: 100%|██████████| 284/284 [00:09<00:00, 30.25it/s]\n",
      "Validation Epoch 30: 100%|██████████| 71/71 [00:10<00:00,  6.54it/s]\n"
     ]
    },
    {
     "name": "stdout",
     "output_type": "stream",
     "text": [
      "Epoch 31/400\n"
     ]
    },
    {
     "name": "stderr",
     "output_type": "stream",
     "text": [
      "Training Epoch 31: 100%|██████████| 284/284 [00:09<00:00, 30.14it/s]\n",
      "Validation Epoch 31: 100%|██████████| 71/71 [00:10<00:00,  6.50it/s]\n"
     ]
    },
    {
     "name": "stdout",
     "output_type": "stream",
     "text": [
      "Epoch 32/400\n"
     ]
    },
    {
     "name": "stderr",
     "output_type": "stream",
     "text": [
      "Training Epoch 32: 100%|██████████| 284/284 [00:09<00:00, 31.01it/s]\n",
      "Validation Epoch 32: 100%|██████████| 71/71 [00:10<00:00,  6.58it/s]\n"
     ]
    },
    {
     "name": "stdout",
     "output_type": "stream",
     "text": [
      "Epoch 33/400\n"
     ]
    },
    {
     "name": "stderr",
     "output_type": "stream",
     "text": [
      "Training Epoch 33: 100%|██████████| 284/284 [00:08<00:00, 32.09it/s]\n",
      "Validation Epoch 33: 100%|██████████| 71/71 [00:10<00:00,  6.91it/s]\n"
     ]
    },
    {
     "name": "stdout",
     "output_type": "stream",
     "text": [
      "Epoch 34/400\n"
     ]
    },
    {
     "name": "stderr",
     "output_type": "stream",
     "text": [
      "Training Epoch 34: 100%|██████████| 284/284 [00:09<00:00, 29.14it/s]\n",
      "Validation Epoch 34: 100%|██████████| 71/71 [00:11<00:00,  6.25it/s]\n"
     ]
    },
    {
     "name": "stdout",
     "output_type": "stream",
     "text": [
      "Epoch 35/400\n"
     ]
    },
    {
     "name": "stderr",
     "output_type": "stream",
     "text": [
      "Training Epoch 35: 100%|██████████| 284/284 [00:09<00:00, 30.19it/s]\n",
      "Validation Epoch 35: 100%|██████████| 71/71 [00:11<00:00,  6.45it/s]\n"
     ]
    },
    {
     "name": "stdout",
     "output_type": "stream",
     "text": [
      "Epoch 36/400\n"
     ]
    },
    {
     "name": "stderr",
     "output_type": "stream",
     "text": [
      "Training Epoch 36: 100%|██████████| 284/284 [00:09<00:00, 30.40it/s]\n",
      "Validation Epoch 36: 100%|██████████| 71/71 [00:10<00:00,  6.54it/s]\n"
     ]
    },
    {
     "name": "stdout",
     "output_type": "stream",
     "text": [
      "Epoch 37/400\n"
     ]
    },
    {
     "name": "stderr",
     "output_type": "stream",
     "text": [
      "Training Epoch 37: 100%|██████████| 284/284 [00:09<00:00, 30.68it/s]\n",
      "Validation Epoch 37: 100%|██████████| 71/71 [00:10<00:00,  6.55it/s]\n"
     ]
    },
    {
     "name": "stdout",
     "output_type": "stream",
     "text": [
      "Epoch 38/400\n"
     ]
    },
    {
     "name": "stderr",
     "output_type": "stream",
     "text": [
      "Training Epoch 38: 100%|██████████| 284/284 [00:09<00:00, 30.44it/s]\n",
      "Validation Epoch 38: 100%|██████████| 71/71 [00:10<00:00,  6.53it/s]\n"
     ]
    },
    {
     "name": "stdout",
     "output_type": "stream",
     "text": [
      "Epoch 39/400\n"
     ]
    },
    {
     "name": "stderr",
     "output_type": "stream",
     "text": [
      "Training Epoch 39: 100%|██████████| 284/284 [00:09<00:00, 30.30it/s]\n",
      "Validation Epoch 39: 100%|██████████| 71/71 [00:10<00:00,  6.46it/s]\n"
     ]
    },
    {
     "name": "stdout",
     "output_type": "stream",
     "text": [
      "Epoch 40/400\n"
     ]
    },
    {
     "name": "stderr",
     "output_type": "stream",
     "text": [
      "Training Epoch 40: 100%|██████████| 284/284 [00:09<00:00, 30.38it/s]\n",
      "Validation Epoch 40: 100%|██████████| 71/71 [00:10<00:00,  6.47it/s]\n"
     ]
    },
    {
     "name": "stdout",
     "output_type": "stream",
     "text": [
      "Epoch 41/400\n"
     ]
    },
    {
     "name": "stderr",
     "output_type": "stream",
     "text": [
      "Training Epoch 41: 100%|██████████| 284/284 [00:09<00:00, 31.09it/s]\n",
      "Validation Epoch 41: 100%|██████████| 71/71 [00:10<00:00,  6.58it/s]\n"
     ]
    },
    {
     "name": "stdout",
     "output_type": "stream",
     "text": [
      "Epoch 42/400\n"
     ]
    },
    {
     "name": "stderr",
     "output_type": "stream",
     "text": [
      "Training Epoch 42: 100%|██████████| 284/284 [00:09<00:00, 30.84it/s]\n",
      "Validation Epoch 42: 100%|██████████| 71/71 [00:10<00:00,  6.57it/s]\n"
     ]
    },
    {
     "name": "stdout",
     "output_type": "stream",
     "text": [
      "Epoch 43/400\n"
     ]
    },
    {
     "name": "stderr",
     "output_type": "stream",
     "text": [
      "Training Epoch 43: 100%|██████████| 284/284 [00:09<00:00, 30.59it/s]\n",
      "Validation Epoch 43: 100%|██████████| 71/71 [00:10<00:00,  6.55it/s]\n"
     ]
    },
    {
     "name": "stdout",
     "output_type": "stream",
     "text": [
      "Epoch 44/400\n"
     ]
    },
    {
     "name": "stderr",
     "output_type": "stream",
     "text": [
      "Training Epoch 44: 100%|██████████| 284/284 [00:09<00:00, 30.58it/s]\n",
      "Validation Epoch 44: 100%|██████████| 71/71 [00:10<00:00,  6.58it/s]\n"
     ]
    },
    {
     "name": "stdout",
     "output_type": "stream",
     "text": [
      "Epoch 45/400\n"
     ]
    },
    {
     "name": "stderr",
     "output_type": "stream",
     "text": [
      "Training Epoch 45: 100%|██████████| 284/284 [00:09<00:00, 29.97it/s]\n",
      "Validation Epoch 45: 100%|██████████| 71/71 [00:11<00:00,  6.41it/s]\n"
     ]
    },
    {
     "name": "stdout",
     "output_type": "stream",
     "text": [
      "Epoch 46/400\n"
     ]
    },
    {
     "name": "stderr",
     "output_type": "stream",
     "text": [
      "Training Epoch 46: 100%|██████████| 284/284 [00:09<00:00, 30.73it/s]\n",
      "Validation Epoch 46: 100%|██████████| 71/71 [00:10<00:00,  6.56it/s]\n"
     ]
    },
    {
     "name": "stdout",
     "output_type": "stream",
     "text": [
      "Epoch 47/400\n"
     ]
    },
    {
     "name": "stderr",
     "output_type": "stream",
     "text": [
      "Training Epoch 47: 100%|██████████| 284/284 [00:09<00:00, 31.02it/s]\n",
      "Validation Epoch 47: 100%|██████████| 71/71 [00:10<00:00,  6.65it/s]\n"
     ]
    },
    {
     "name": "stdout",
     "output_type": "stream",
     "text": [
      "Epoch 48/400\n"
     ]
    },
    {
     "name": "stderr",
     "output_type": "stream",
     "text": [
      "Training Epoch 48: 100%|██████████| 284/284 [00:09<00:00, 30.33it/s]\n",
      "Validation Epoch 48: 100%|██████████| 71/71 [00:10<00:00,  6.51it/s]\n"
     ]
    },
    {
     "name": "stdout",
     "output_type": "stream",
     "text": [
      "Epoch 49/400\n"
     ]
    },
    {
     "name": "stderr",
     "output_type": "stream",
     "text": [
      "Training Epoch 49: 100%|██████████| 284/284 [00:09<00:00, 30.26it/s]\n",
      "Validation Epoch 49: 100%|██████████| 71/71 [00:10<00:00,  6.52it/s]\n"
     ]
    },
    {
     "name": "stdout",
     "output_type": "stream",
     "text": [
      "Epoch 50/400\n"
     ]
    },
    {
     "name": "stderr",
     "output_type": "stream",
     "text": [
      "Training Epoch 50: 100%|██████████| 284/284 [00:09<00:00, 30.24it/s]\n",
      "Validation Epoch 50: 100%|██████████| 71/71 [00:10<00:00,  6.50it/s]\n"
     ]
    },
    {
     "name": "stdout",
     "output_type": "stream",
     "text": [
      "Epoch 51/400\n"
     ]
    },
    {
     "name": "stderr",
     "output_type": "stream",
     "text": [
      "Training Epoch 51: 100%|██████████| 284/284 [00:09<00:00, 28.83it/s]\n",
      "Validation Epoch 51: 100%|██████████| 71/71 [00:11<00:00,  6.22it/s]\n"
     ]
    },
    {
     "name": "stdout",
     "output_type": "stream",
     "text": [
      "Epoch 52/400\n"
     ]
    },
    {
     "name": "stderr",
     "output_type": "stream",
     "text": [
      "Training Epoch 52: 100%|██████████| 284/284 [00:09<00:00, 30.80it/s]\n",
      "Validation Epoch 52: 100%|██████████| 71/71 [00:10<00:00,  6.61it/s]\n"
     ]
    },
    {
     "name": "stdout",
     "output_type": "stream",
     "text": [
      "Epoch 53/400\n"
     ]
    },
    {
     "name": "stderr",
     "output_type": "stream",
     "text": [
      "Training Epoch 53: 100%|██████████| 284/284 [00:09<00:00, 30.88it/s]\n",
      "Validation Epoch 53: 100%|██████████| 71/71 [00:10<00:00,  6.63it/s]\n"
     ]
    },
    {
     "name": "stdout",
     "output_type": "stream",
     "text": [
      "Epoch 54/400\n"
     ]
    },
    {
     "name": "stderr",
     "output_type": "stream",
     "text": [
      "Training Epoch 54: 100%|██████████| 284/284 [00:09<00:00, 29.76it/s]\n",
      "Validation Epoch 54: 100%|██████████| 71/71 [00:11<00:00,  6.34it/s]\n"
     ]
    },
    {
     "name": "stdout",
     "output_type": "stream",
     "text": [
      "Epoch 55/400\n"
     ]
    },
    {
     "name": "stderr",
     "output_type": "stream",
     "text": [
      "Training Epoch 55: 100%|██████████| 284/284 [00:09<00:00, 30.20it/s]\n",
      "Validation Epoch 55: 100%|██████████| 71/71 [00:10<00:00,  6.46it/s]\n"
     ]
    },
    {
     "name": "stdout",
     "output_type": "stream",
     "text": [
      "Epoch 56/400\n"
     ]
    },
    {
     "name": "stderr",
     "output_type": "stream",
     "text": [
      "Training Epoch 56: 100%|██████████| 284/284 [00:09<00:00, 29.58it/s]\n",
      "Validation Epoch 56: 100%|██████████| 71/71 [00:11<00:00,  6.34it/s]\n"
     ]
    },
    {
     "name": "stdout",
     "output_type": "stream",
     "text": [
      "Epoch 57/400\n"
     ]
    },
    {
     "name": "stderr",
     "output_type": "stream",
     "text": [
      "Training Epoch 57: 100%|██████████| 284/284 [00:09<00:00, 30.84it/s]\n",
      "Validation Epoch 57: 100%|██████████| 71/71 [00:10<00:00,  6.50it/s]\n"
     ]
    },
    {
     "name": "stdout",
     "output_type": "stream",
     "text": [
      "Epoch 58/400\n"
     ]
    },
    {
     "name": "stderr",
     "output_type": "stream",
     "text": [
      "Training Epoch 58: 100%|██████████| 284/284 [00:09<00:00, 29.53it/s]\n",
      "Validation Epoch 58: 100%|██████████| 71/71 [00:11<00:00,  6.26it/s]\n"
     ]
    },
    {
     "name": "stdout",
     "output_type": "stream",
     "text": [
      "Epoch 59/400\n"
     ]
    },
    {
     "name": "stderr",
     "output_type": "stream",
     "text": [
      "Training Epoch 59: 100%|██████████| 284/284 [00:09<00:00, 29.33it/s]\n",
      "Validation Epoch 59: 100%|██████████| 71/71 [00:11<00:00,  6.26it/s]\n"
     ]
    },
    {
     "name": "stdout",
     "output_type": "stream",
     "text": [
      "Epoch 60/400\n"
     ]
    },
    {
     "name": "stderr",
     "output_type": "stream",
     "text": [
      "Training Epoch 60: 100%|██████████| 284/284 [00:09<00:00, 30.47it/s]\n",
      "Validation Epoch 60: 100%|██████████| 71/71 [00:11<00:00,  6.25it/s]\n"
     ]
    },
    {
     "name": "stdout",
     "output_type": "stream",
     "text": [
      "Epoch 61/400\n"
     ]
    },
    {
     "name": "stderr",
     "output_type": "stream",
     "text": [
      "Training Epoch 61: 100%|██████████| 284/284 [00:10<00:00, 27.34it/s]\n",
      "Validation Epoch 61: 100%|██████████| 71/71 [00:12<00:00,  5.89it/s]\n"
     ]
    },
    {
     "name": "stdout",
     "output_type": "stream",
     "text": [
      "Epoch 62/400\n"
     ]
    },
    {
     "name": "stderr",
     "output_type": "stream",
     "text": [
      "Training Epoch 62: 100%|██████████| 284/284 [00:10<00:00, 28.13it/s]\n",
      "Validation Epoch 62: 100%|██████████| 71/71 [00:11<00:00,  6.05it/s]\n"
     ]
    },
    {
     "name": "stdout",
     "output_type": "stream",
     "text": [
      "Epoch 63/400\n"
     ]
    },
    {
     "name": "stderr",
     "output_type": "stream",
     "text": [
      "Training Epoch 63: 100%|██████████| 284/284 [00:10<00:00, 28.33it/s]\n",
      "Validation Epoch 63: 100%|██████████| 71/71 [00:11<00:00,  6.04it/s]\n"
     ]
    },
    {
     "name": "stdout",
     "output_type": "stream",
     "text": [
      "Epoch 64/400\n"
     ]
    },
    {
     "name": "stderr",
     "output_type": "stream",
     "text": [
      "Training Epoch 64: 100%|██████████| 284/284 [00:09<00:00, 29.27it/s]\n",
      "Validation Epoch 64: 100%|██████████| 71/71 [00:11<00:00,  6.23it/s]\n"
     ]
    },
    {
     "name": "stdout",
     "output_type": "stream",
     "text": [
      "Epoch 65/400\n"
     ]
    },
    {
     "name": "stderr",
     "output_type": "stream",
     "text": [
      "Training Epoch 65: 100%|██████████| 284/284 [00:09<00:00, 28.43it/s]\n",
      "Validation Epoch 65: 100%|██████████| 71/71 [00:11<00:00,  6.12it/s]\n"
     ]
    },
    {
     "name": "stdout",
     "output_type": "stream",
     "text": [
      "Epoch 66/400\n"
     ]
    },
    {
     "name": "stderr",
     "output_type": "stream",
     "text": [
      "Training Epoch 66: 100%|██████████| 284/284 [00:09<00:00, 28.72it/s]\n",
      "Validation Epoch 66: 100%|██████████| 71/71 [00:11<00:00,  6.16it/s]\n"
     ]
    },
    {
     "name": "stdout",
     "output_type": "stream",
     "text": [
      "Epoch 67/400\n"
     ]
    },
    {
     "name": "stderr",
     "output_type": "stream",
     "text": [
      "Training Epoch 67: 100%|██████████| 284/284 [00:09<00:00, 29.21it/s]\n",
      "Validation Epoch 67: 100%|██████████| 71/71 [00:11<00:00,  6.19it/s]\n"
     ]
    },
    {
     "name": "stdout",
     "output_type": "stream",
     "text": [
      "Epoch 68/400\n"
     ]
    },
    {
     "name": "stderr",
     "output_type": "stream",
     "text": [
      "Training Epoch 68: 100%|██████████| 284/284 [00:09<00:00, 28.96it/s]\n",
      "Validation Epoch 68: 100%|██████████| 71/71 [00:11<00:00,  6.17it/s]\n"
     ]
    },
    {
     "name": "stdout",
     "output_type": "stream",
     "text": [
      "Epoch 69/400\n"
     ]
    },
    {
     "name": "stderr",
     "output_type": "stream",
     "text": [
      "Training Epoch 69: 100%|██████████| 284/284 [00:09<00:00, 28.98it/s]\n",
      "Validation Epoch 69: 100%|██████████| 71/71 [00:11<00:00,  6.18it/s]\n"
     ]
    },
    {
     "name": "stdout",
     "output_type": "stream",
     "text": [
      "Epoch 70/400\n"
     ]
    },
    {
     "name": "stderr",
     "output_type": "stream",
     "text": [
      "Training Epoch 70: 100%|██████████| 284/284 [00:09<00:00, 29.93it/s]\n",
      "Validation Epoch 70: 100%|██████████| 71/71 [00:11<00:00,  6.37it/s]\n"
     ]
    },
    {
     "name": "stdout",
     "output_type": "stream",
     "text": [
      "Epoch 71/400\n"
     ]
    },
    {
     "name": "stderr",
     "output_type": "stream",
     "text": [
      "Training Epoch 71: 100%|██████████| 284/284 [00:09<00:00, 30.54it/s]\n",
      "Validation Epoch 71: 100%|██████████| 71/71 [00:10<00:00,  6.54it/s]\n"
     ]
    },
    {
     "name": "stdout",
     "output_type": "stream",
     "text": [
      "Epoch 72/400\n"
     ]
    },
    {
     "name": "stderr",
     "output_type": "stream",
     "text": [
      "Training Epoch 72: 100%|██████████| 284/284 [00:08<00:00, 32.02it/s]\n",
      "Validation Epoch 72: 100%|██████████| 71/71 [00:10<00:00,  6.81it/s]\n"
     ]
    },
    {
     "name": "stdout",
     "output_type": "stream",
     "text": [
      "Epoch 73/400\n"
     ]
    },
    {
     "name": "stderr",
     "output_type": "stream",
     "text": [
      "Training Epoch 73: 100%|██████████| 284/284 [00:08<00:00, 31.75it/s]\n",
      "Validation Epoch 73: 100%|██████████| 71/71 [00:10<00:00,  6.84it/s]\n"
     ]
    },
    {
     "name": "stdout",
     "output_type": "stream",
     "text": [
      "Epoch 74/400\n"
     ]
    },
    {
     "name": "stderr",
     "output_type": "stream",
     "text": [
      "Training Epoch 74: 100%|██████████| 284/284 [00:08<00:00, 32.29it/s]\n",
      "Validation Epoch 74: 100%|██████████| 71/71 [00:10<00:00,  6.81it/s]\n"
     ]
    },
    {
     "name": "stdout",
     "output_type": "stream",
     "text": [
      "Epoch 75/400\n"
     ]
    },
    {
     "name": "stderr",
     "output_type": "stream",
     "text": [
      "Training Epoch 75: 100%|██████████| 284/284 [00:09<00:00, 31.53it/s]\n",
      "Validation Epoch 75: 100%|██████████| 71/71 [00:10<00:00,  6.78it/s]\n"
     ]
    },
    {
     "name": "stdout",
     "output_type": "stream",
     "text": [
      "Epoch 76/400\n"
     ]
    },
    {
     "name": "stderr",
     "output_type": "stream",
     "text": [
      "Training Epoch 76: 100%|██████████| 284/284 [00:08<00:00, 32.53it/s]\n",
      "Validation Epoch 76: 100%|██████████| 71/71 [00:10<00:00,  6.92it/s]\n"
     ]
    },
    {
     "name": "stdout",
     "output_type": "stream",
     "text": [
      "Epoch 77/400\n"
     ]
    },
    {
     "name": "stderr",
     "output_type": "stream",
     "text": [
      "Training Epoch 77: 100%|██████████| 284/284 [00:08<00:00, 33.41it/s]\n",
      "Validation Epoch 77: 100%|██████████| 71/71 [00:09<00:00,  7.16it/s]\n"
     ]
    },
    {
     "name": "stdout",
     "output_type": "stream",
     "text": [
      "Epoch 78/400\n"
     ]
    },
    {
     "name": "stderr",
     "output_type": "stream",
     "text": [
      "Training Epoch 78: 100%|██████████| 284/284 [00:08<00:00, 32.18it/s]\n",
      "Validation Epoch 78: 100%|██████████| 71/71 [00:10<00:00,  6.88it/s]\n"
     ]
    },
    {
     "name": "stdout",
     "output_type": "stream",
     "text": [
      "Epoch 79/400\n"
     ]
    },
    {
     "name": "stderr",
     "output_type": "stream",
     "text": [
      "Training Epoch 79: 100%|██████████| 284/284 [00:08<00:00, 32.18it/s]\n",
      "Validation Epoch 79: 100%|██████████| 71/71 [00:10<00:00,  6.88it/s]\n"
     ]
    },
    {
     "name": "stdout",
     "output_type": "stream",
     "text": [
      "Epoch 80/400\n"
     ]
    },
    {
     "name": "stderr",
     "output_type": "stream",
     "text": [
      "Training Epoch 80: 100%|██████████| 284/284 [00:08<00:00, 31.98it/s]\n",
      "Validation Epoch 80: 100%|██████████| 71/71 [00:10<00:00,  6.87it/s]\n"
     ]
    },
    {
     "name": "stdout",
     "output_type": "stream",
     "text": [
      "Epoch 81/400\n"
     ]
    },
    {
     "name": "stderr",
     "output_type": "stream",
     "text": [
      "Training Epoch 81: 100%|██████████| 284/284 [00:08<00:00, 33.04it/s]\n",
      "Validation Epoch 81: 100%|██████████| 71/71 [00:10<00:00,  7.09it/s]\n"
     ]
    },
    {
     "name": "stdout",
     "output_type": "stream",
     "text": [
      "Epoch 82/400\n"
     ]
    },
    {
     "name": "stderr",
     "output_type": "stream",
     "text": [
      "Training Epoch 82: 100%|██████████| 284/284 [00:08<00:00, 32.17it/s]\n",
      "Validation Epoch 82: 100%|██████████| 71/71 [00:10<00:00,  6.88it/s]\n"
     ]
    },
    {
     "name": "stdout",
     "output_type": "stream",
     "text": [
      "Epoch 83/400\n"
     ]
    },
    {
     "name": "stderr",
     "output_type": "stream",
     "text": [
      "Training Epoch 83: 100%|██████████| 284/284 [00:09<00:00, 31.38it/s]\n",
      "Validation Epoch 83: 100%|██████████| 71/71 [00:10<00:00,  6.73it/s]\n"
     ]
    },
    {
     "name": "stdout",
     "output_type": "stream",
     "text": [
      "Epoch 84/400\n"
     ]
    },
    {
     "name": "stderr",
     "output_type": "stream",
     "text": [
      "Training Epoch 84: 100%|██████████| 284/284 [00:08<00:00, 32.49it/s]\n",
      "Validation Epoch 84: 100%|██████████| 71/71 [00:10<00:00,  6.90it/s]\n"
     ]
    },
    {
     "name": "stdout",
     "output_type": "stream",
     "text": [
      "Epoch 85/400\n"
     ]
    },
    {
     "name": "stderr",
     "output_type": "stream",
     "text": [
      "Training Epoch 85: 100%|██████████| 284/284 [00:08<00:00, 32.11it/s]\n",
      "Validation Epoch 85: 100%|██████████| 71/71 [00:10<00:00,  6.86it/s]\n"
     ]
    },
    {
     "name": "stdout",
     "output_type": "stream",
     "text": [
      "Epoch 86/400\n"
     ]
    },
    {
     "name": "stderr",
     "output_type": "stream",
     "text": [
      "Training Epoch 86: 100%|██████████| 284/284 [00:08<00:00, 31.92it/s]\n",
      "Validation Epoch 86: 100%|██████████| 71/71 [00:10<00:00,  6.82it/s]\n"
     ]
    },
    {
     "name": "stdout",
     "output_type": "stream",
     "text": [
      "Epoch 87/400\n"
     ]
    },
    {
     "name": "stderr",
     "output_type": "stream",
     "text": [
      "Training Epoch 87: 100%|██████████| 284/284 [00:08<00:00, 32.23it/s]\n",
      "Validation Epoch 87: 100%|██████████| 71/71 [00:10<00:00,  6.91it/s]\n"
     ]
    },
    {
     "name": "stdout",
     "output_type": "stream",
     "text": [
      "Epoch 88/400\n"
     ]
    },
    {
     "name": "stderr",
     "output_type": "stream",
     "text": [
      "Training Epoch 88: 100%|██████████| 284/284 [00:08<00:00, 32.00it/s]\n",
      "Validation Epoch 88: 100%|██████████| 71/71 [00:10<00:00,  6.87it/s]\n"
     ]
    },
    {
     "name": "stdout",
     "output_type": "stream",
     "text": [
      "Epoch 89/400\n"
     ]
    },
    {
     "name": "stderr",
     "output_type": "stream",
     "text": [
      "Training Epoch 89: 100%|██████████| 284/284 [00:08<00:00, 32.57it/s]\n",
      "Validation Epoch 89: 100%|██████████| 71/71 [00:10<00:00,  6.91it/s]\n"
     ]
    },
    {
     "name": "stdout",
     "output_type": "stream",
     "text": [
      "Epoch 90/400\n"
     ]
    },
    {
     "name": "stderr",
     "output_type": "stream",
     "text": [
      "Training Epoch 90: 100%|██████████| 284/284 [00:08<00:00, 32.55it/s]\n",
      "Validation Epoch 90: 100%|██████████| 71/71 [00:10<00:00,  7.00it/s]\n"
     ]
    },
    {
     "name": "stdout",
     "output_type": "stream",
     "text": [
      "Epoch 91/400\n"
     ]
    },
    {
     "name": "stderr",
     "output_type": "stream",
     "text": [
      "Training Epoch 91: 100%|██████████| 284/284 [00:08<00:00, 31.63it/s]\n",
      "Validation Epoch 91: 100%|██████████| 71/71 [00:10<00:00,  6.76it/s]\n"
     ]
    },
    {
     "name": "stdout",
     "output_type": "stream",
     "text": [
      "Epoch 92/400\n"
     ]
    },
    {
     "name": "stderr",
     "output_type": "stream",
     "text": [
      "Training Epoch 92: 100%|██████████| 284/284 [00:08<00:00, 32.34it/s]\n",
      "Validation Epoch 92: 100%|██████████| 71/71 [00:10<00:00,  6.96it/s]\n"
     ]
    },
    {
     "name": "stdout",
     "output_type": "stream",
     "text": [
      "Epoch 93/400\n"
     ]
    },
    {
     "name": "stderr",
     "output_type": "stream",
     "text": [
      "Training Epoch 93: 100%|██████████| 284/284 [00:08<00:00, 32.13it/s]\n",
      "Validation Epoch 93: 100%|██████████| 71/71 [00:10<00:00,  6.92it/s]\n"
     ]
    },
    {
     "name": "stdout",
     "output_type": "stream",
     "text": [
      "Epoch 94/400\n"
     ]
    },
    {
     "name": "stderr",
     "output_type": "stream",
     "text": [
      "Training Epoch 94: 100%|██████████| 284/284 [00:09<00:00, 31.32it/s]\n",
      "Validation Epoch 94: 100%|██████████| 71/71 [00:10<00:00,  6.75it/s]\n"
     ]
    },
    {
     "name": "stdout",
     "output_type": "stream",
     "text": [
      "Epoch 95/400\n"
     ]
    },
    {
     "name": "stderr",
     "output_type": "stream",
     "text": [
      "Training Epoch 95: 100%|██████████| 284/284 [00:08<00:00, 32.37it/s]\n",
      "Validation Epoch 95: 100%|██████████| 71/71 [00:10<00:00,  6.92it/s]\n"
     ]
    },
    {
     "name": "stdout",
     "output_type": "stream",
     "text": [
      "Epoch 96/400\n"
     ]
    },
    {
     "name": "stderr",
     "output_type": "stream",
     "text": [
      "Training Epoch 96: 100%|██████████| 284/284 [00:08<00:00, 32.50it/s]\n",
      "Validation Epoch 96: 100%|██████████| 71/71 [00:10<00:00,  6.86it/s]\n"
     ]
    },
    {
     "name": "stdout",
     "output_type": "stream",
     "text": [
      "Epoch 97/400\n"
     ]
    },
    {
     "name": "stderr",
     "output_type": "stream",
     "text": [
      "Training Epoch 97: 100%|██████████| 284/284 [00:08<00:00, 32.01it/s]\n",
      "Validation Epoch 97: 100%|██████████| 71/71 [00:10<00:00,  6.83it/s]\n"
     ]
    },
    {
     "name": "stdout",
     "output_type": "stream",
     "text": [
      "Epoch 98/400\n"
     ]
    },
    {
     "name": "stderr",
     "output_type": "stream",
     "text": [
      "Training Epoch 98: 100%|██████████| 284/284 [00:09<00:00, 30.84it/s]\n",
      "Validation Epoch 98: 100%|██████████| 71/71 [00:10<00:00,  6.65it/s]\n"
     ]
    },
    {
     "name": "stdout",
     "output_type": "stream",
     "text": [
      "Epoch 99/400\n"
     ]
    },
    {
     "name": "stderr",
     "output_type": "stream",
     "text": [
      "Training Epoch 99: 100%|██████████| 284/284 [00:08<00:00, 32.72it/s]\n",
      "Validation Epoch 99: 100%|██████████| 71/71 [00:10<00:00,  6.93it/s]\n"
     ]
    },
    {
     "name": "stdout",
     "output_type": "stream",
     "text": [
      "Epoch 100/400\n"
     ]
    },
    {
     "name": "stderr",
     "output_type": "stream",
     "text": [
      "Training Epoch 100: 100%|██████████| 284/284 [00:08<00:00, 32.37it/s]\n",
      "Validation Epoch 100: 100%|██████████| 71/71 [00:10<00:00,  6.84it/s]\n"
     ]
    },
    {
     "name": "stdout",
     "output_type": "stream",
     "text": [
      "Epoch 101/400\n"
     ]
    },
    {
     "name": "stderr",
     "output_type": "stream",
     "text": [
      "Training Epoch 101: 100%|██████████| 284/284 [00:08<00:00, 33.09it/s]\n",
      "Validation Epoch 101: 100%|██████████| 71/71 [00:10<00:00,  6.93it/s]\n"
     ]
    },
    {
     "name": "stdout",
     "output_type": "stream",
     "text": [
      "Epoch 102/400\n"
     ]
    },
    {
     "name": "stderr",
     "output_type": "stream",
     "text": [
      "Training Epoch 102: 100%|██████████| 284/284 [00:08<00:00, 32.45it/s]\n",
      "Validation Epoch 102: 100%|██████████| 71/71 [00:10<00:00,  6.97it/s]\n"
     ]
    },
    {
     "name": "stdout",
     "output_type": "stream",
     "text": [
      "Epoch 103/400\n"
     ]
    },
    {
     "name": "stderr",
     "output_type": "stream",
     "text": [
      "Training Epoch 103: 100%|██████████| 284/284 [00:08<00:00, 31.72it/s]\n",
      "Validation Epoch 103: 100%|██████████| 71/71 [00:10<00:00,  6.76it/s]\n"
     ]
    },
    {
     "name": "stdout",
     "output_type": "stream",
     "text": [
      "Epoch 104/400\n"
     ]
    },
    {
     "name": "stderr",
     "output_type": "stream",
     "text": [
      "Training Epoch 104: 100%|██████████| 284/284 [00:08<00:00, 33.06it/s]\n",
      "Validation Epoch 104: 100%|██████████| 71/71 [00:10<00:00,  7.04it/s]\n"
     ]
    },
    {
     "name": "stdout",
     "output_type": "stream",
     "text": [
      "Epoch 105/400\n"
     ]
    },
    {
     "name": "stderr",
     "output_type": "stream",
     "text": [
      "Training Epoch 105: 100%|██████████| 284/284 [00:08<00:00, 31.57it/s]\n",
      "Validation Epoch 105: 100%|██████████| 71/71 [00:10<00:00,  6.78it/s]\n"
     ]
    },
    {
     "name": "stdout",
     "output_type": "stream",
     "text": [
      "Epoch 106/400\n"
     ]
    },
    {
     "name": "stderr",
     "output_type": "stream",
     "text": [
      "Training Epoch 106: 100%|██████████| 284/284 [00:08<00:00, 33.81it/s]\n",
      "Validation Epoch 106: 100%|██████████| 71/71 [00:09<00:00,  7.19it/s]\n"
     ]
    },
    {
     "name": "stdout",
     "output_type": "stream",
     "text": [
      "Epoch 107/400\n"
     ]
    },
    {
     "name": "stderr",
     "output_type": "stream",
     "text": [
      "Training Epoch 107: 100%|██████████| 284/284 [00:08<00:00, 31.66it/s]\n",
      "Validation Epoch 107: 100%|██████████| 71/71 [00:10<00:00,  6.82it/s]\n"
     ]
    },
    {
     "name": "stdout",
     "output_type": "stream",
     "text": [
      "Epoch 108/400\n"
     ]
    },
    {
     "name": "stderr",
     "output_type": "stream",
     "text": [
      "Training Epoch 108: 100%|██████████| 284/284 [00:09<00:00, 31.31it/s]\n",
      "Validation Epoch 108: 100%|██████████| 71/71 [00:10<00:00,  6.62it/s]\n"
     ]
    },
    {
     "name": "stdout",
     "output_type": "stream",
     "text": [
      "Epoch 109/400\n"
     ]
    },
    {
     "name": "stderr",
     "output_type": "stream",
     "text": [
      "Training Epoch 109: 100%|██████████| 284/284 [00:08<00:00, 33.17it/s]\n",
      "Validation Epoch 109: 100%|██████████| 71/71 [00:10<00:00,  7.06it/s]\n"
     ]
    },
    {
     "name": "stdout",
     "output_type": "stream",
     "text": [
      "Epoch 110/400\n"
     ]
    },
    {
     "name": "stderr",
     "output_type": "stream",
     "text": [
      "Training Epoch 110: 100%|██████████| 284/284 [00:08<00:00, 31.89it/s]\n",
      "Validation Epoch 110: 100%|██████████| 71/71 [00:10<00:00,  6.83it/s]\n"
     ]
    },
    {
     "name": "stdout",
     "output_type": "stream",
     "text": [
      "Epoch 111/400\n"
     ]
    },
    {
     "name": "stderr",
     "output_type": "stream",
     "text": [
      "Training Epoch 111: 100%|██████████| 284/284 [00:08<00:00, 33.43it/s]\n",
      "Validation Epoch 111: 100%|██████████| 71/71 [00:09<00:00,  7.12it/s]\n"
     ]
    },
    {
     "name": "stdout",
     "output_type": "stream",
     "text": [
      "Epoch 112/400\n"
     ]
    },
    {
     "name": "stderr",
     "output_type": "stream",
     "text": [
      "Training Epoch 112: 100%|██████████| 284/284 [00:09<00:00, 31.47it/s]\n",
      "Validation Epoch 112: 100%|██████████| 71/71 [00:10<00:00,  6.78it/s]\n"
     ]
    },
    {
     "name": "stdout",
     "output_type": "stream",
     "text": [
      "Epoch 113/400\n"
     ]
    },
    {
     "name": "stderr",
     "output_type": "stream",
     "text": [
      "Training Epoch 113: 100%|██████████| 284/284 [00:08<00:00, 31.98it/s]\n",
      "Validation Epoch 113: 100%|██████████| 71/71 [00:10<00:00,  6.85it/s]\n"
     ]
    },
    {
     "name": "stdout",
     "output_type": "stream",
     "text": [
      "Epoch 114/400\n"
     ]
    },
    {
     "name": "stderr",
     "output_type": "stream",
     "text": [
      "Training Epoch 114: 100%|██████████| 284/284 [00:08<00:00, 32.31it/s]\n",
      "Validation Epoch 114: 100%|██████████| 71/71 [00:10<00:00,  6.91it/s]\n"
     ]
    },
    {
     "name": "stdout",
     "output_type": "stream",
     "text": [
      "Epoch 115/400\n"
     ]
    },
    {
     "name": "stderr",
     "output_type": "stream",
     "text": [
      "Training Epoch 115: 100%|██████████| 284/284 [00:08<00:00, 31.67it/s]\n",
      "Validation Epoch 115: 100%|██████████| 71/71 [00:10<00:00,  6.75it/s]\n"
     ]
    },
    {
     "name": "stdout",
     "output_type": "stream",
     "text": [
      "Epoch 116/400\n"
     ]
    },
    {
     "name": "stderr",
     "output_type": "stream",
     "text": [
      "Training Epoch 116: 100%|██████████| 284/284 [00:08<00:00, 32.25it/s]\n",
      "Validation Epoch 116: 100%|██████████| 71/71 [00:10<00:00,  6.86it/s]\n"
     ]
    },
    {
     "name": "stdout",
     "output_type": "stream",
     "text": [
      "Epoch 117/400\n"
     ]
    },
    {
     "name": "stderr",
     "output_type": "stream",
     "text": [
      "Training Epoch 117: 100%|██████████| 284/284 [00:08<00:00, 32.51it/s]\n",
      "Validation Epoch 117: 100%|██████████| 71/71 [00:10<00:00,  6.96it/s]\n"
     ]
    },
    {
     "name": "stdout",
     "output_type": "stream",
     "text": [
      "Epoch 118/400\n"
     ]
    },
    {
     "name": "stderr",
     "output_type": "stream",
     "text": [
      "Training Epoch 118: 100%|██████████| 284/284 [00:08<00:00, 32.28it/s]\n",
      "Validation Epoch 118: 100%|██████████| 71/71 [00:10<00:00,  6.90it/s]\n"
     ]
    },
    {
     "name": "stdout",
     "output_type": "stream",
     "text": [
      "Epoch 119/400\n"
     ]
    },
    {
     "name": "stderr",
     "output_type": "stream",
     "text": [
      "Training Epoch 119: 100%|██████████| 284/284 [00:08<00:00, 31.97it/s]\n",
      "Validation Epoch 119: 100%|██████████| 71/71 [00:10<00:00,  6.89it/s]\n"
     ]
    },
    {
     "name": "stdout",
     "output_type": "stream",
     "text": [
      "Epoch 120/400\n"
     ]
    },
    {
     "name": "stderr",
     "output_type": "stream",
     "text": [
      "Training Epoch 120: 100%|██████████| 284/284 [00:08<00:00, 32.38it/s]\n",
      "Validation Epoch 120: 100%|██████████| 71/71 [00:10<00:00,  6.94it/s]\n"
     ]
    },
    {
     "name": "stdout",
     "output_type": "stream",
     "text": [
      "Epoch 121/400\n"
     ]
    },
    {
     "name": "stderr",
     "output_type": "stream",
     "text": [
      "Training Epoch 121: 100%|██████████| 284/284 [00:08<00:00, 31.98it/s]\n",
      "Validation Epoch 121: 100%|██████████| 71/71 [00:10<00:00,  6.84it/s]\n"
     ]
    },
    {
     "name": "stdout",
     "output_type": "stream",
     "text": [
      "Epoch 122/400\n"
     ]
    },
    {
     "name": "stderr",
     "output_type": "stream",
     "text": [
      "Training Epoch 122: 100%|██████████| 284/284 [00:08<00:00, 32.44it/s]\n",
      "Validation Epoch 122: 100%|██████████| 71/71 [00:10<00:00,  6.98it/s]\n"
     ]
    },
    {
     "name": "stdout",
     "output_type": "stream",
     "text": [
      "Epoch 123/400\n"
     ]
    },
    {
     "name": "stderr",
     "output_type": "stream",
     "text": [
      "Training Epoch 123: 100%|██████████| 284/284 [00:08<00:00, 32.52it/s]\n",
      "Validation Epoch 123: 100%|██████████| 71/71 [00:10<00:00,  6.91it/s]\n"
     ]
    },
    {
     "name": "stdout",
     "output_type": "stream",
     "text": [
      "Epoch 124/400\n"
     ]
    },
    {
     "name": "stderr",
     "output_type": "stream",
     "text": [
      "Training Epoch 124: 100%|██████████| 284/284 [00:08<00:00, 33.27it/s]\n",
      "Validation Epoch 124: 100%|██████████| 71/71 [00:10<00:00,  7.05it/s]\n"
     ]
    },
    {
     "name": "stdout",
     "output_type": "stream",
     "text": [
      "Epoch 125/400\n"
     ]
    },
    {
     "name": "stderr",
     "output_type": "stream",
     "text": [
      "Training Epoch 125: 100%|██████████| 284/284 [00:08<00:00, 31.91it/s]\n",
      "Validation Epoch 125: 100%|██████████| 71/71 [00:10<00:00,  6.81it/s]\n"
     ]
    },
    {
     "name": "stdout",
     "output_type": "stream",
     "text": [
      "Epoch 126/400\n"
     ]
    },
    {
     "name": "stderr",
     "output_type": "stream",
     "text": [
      "Training Epoch 126: 100%|██████████| 284/284 [00:08<00:00, 31.99it/s]\n",
      "Validation Epoch 126: 100%|██████████| 71/71 [00:10<00:00,  6.85it/s]\n"
     ]
    },
    {
     "name": "stdout",
     "output_type": "stream",
     "text": [
      "Epoch 127/400\n"
     ]
    },
    {
     "name": "stderr",
     "output_type": "stream",
     "text": [
      "Training Epoch 127: 100%|██████████| 284/284 [00:08<00:00, 31.73it/s]\n",
      "Validation Epoch 127: 100%|██████████| 71/71 [00:10<00:00,  6.77it/s]\n"
     ]
    },
    {
     "name": "stdout",
     "output_type": "stream",
     "text": [
      "Epoch 128/400\n"
     ]
    },
    {
     "name": "stderr",
     "output_type": "stream",
     "text": [
      "Training Epoch 128: 100%|██████████| 284/284 [00:08<00:00, 31.73it/s]\n",
      "Validation Epoch 128: 100%|██████████| 71/71 [00:10<00:00,  6.78it/s]\n"
     ]
    },
    {
     "name": "stdout",
     "output_type": "stream",
     "text": [
      "Epoch 129/400\n"
     ]
    },
    {
     "name": "stderr",
     "output_type": "stream",
     "text": [
      "Training Epoch 129: 100%|██████████| 284/284 [00:08<00:00, 31.80it/s]\n",
      "Validation Epoch 129: 100%|██████████| 71/71 [00:10<00:00,  6.84it/s]\n"
     ]
    },
    {
     "name": "stdout",
     "output_type": "stream",
     "text": [
      "Epoch 130/400\n"
     ]
    },
    {
     "name": "stderr",
     "output_type": "stream",
     "text": [
      "Training Epoch 130: 100%|██████████| 284/284 [00:08<00:00, 31.92it/s]\n",
      "Validation Epoch 130: 100%|██████████| 71/71 [00:10<00:00,  6.82it/s]\n"
     ]
    },
    {
     "name": "stdout",
     "output_type": "stream",
     "text": [
      "Epoch 131/400\n"
     ]
    },
    {
     "name": "stderr",
     "output_type": "stream",
     "text": [
      "Training Epoch 131: 100%|██████████| 284/284 [00:08<00:00, 31.63it/s]\n",
      "Validation Epoch 131: 100%|██████████| 71/71 [00:10<00:00,  6.83it/s]\n"
     ]
    },
    {
     "name": "stdout",
     "output_type": "stream",
     "text": [
      "Epoch 132/400\n"
     ]
    },
    {
     "name": "stderr",
     "output_type": "stream",
     "text": [
      "Training Epoch 132: 100%|██████████| 284/284 [00:08<00:00, 32.28it/s]\n",
      "Validation Epoch 132: 100%|██████████| 71/71 [00:10<00:00,  6.93it/s]\n"
     ]
    },
    {
     "name": "stdout",
     "output_type": "stream",
     "text": [
      "Epoch 133/400\n"
     ]
    },
    {
     "name": "stderr",
     "output_type": "stream",
     "text": [
      "Training Epoch 133: 100%|██████████| 284/284 [00:08<00:00, 32.68it/s]\n",
      "Validation Epoch 133: 100%|██████████| 71/71 [00:10<00:00,  6.95it/s]\n"
     ]
    },
    {
     "name": "stdout",
     "output_type": "stream",
     "text": [
      "Epoch 134/400\n"
     ]
    },
    {
     "name": "stderr",
     "output_type": "stream",
     "text": [
      "Training Epoch 134: 100%|██████████| 284/284 [00:08<00:00, 32.47it/s]\n",
      "Validation Epoch 134: 100%|██████████| 71/71 [00:10<00:00,  6.92it/s]\n"
     ]
    },
    {
     "name": "stdout",
     "output_type": "stream",
     "text": [
      "Epoch 135/400\n"
     ]
    },
    {
     "name": "stderr",
     "output_type": "stream",
     "text": [
      "Training Epoch 135: 100%|██████████| 284/284 [00:08<00:00, 31.75it/s]\n",
      "Validation Epoch 135: 100%|██████████| 71/71 [00:10<00:00,  6.78it/s]\n"
     ]
    },
    {
     "name": "stdout",
     "output_type": "stream",
     "text": [
      "Epoch 136/400\n"
     ]
    },
    {
     "name": "stderr",
     "output_type": "stream",
     "text": [
      "Training Epoch 136: 100%|██████████| 284/284 [00:09<00:00, 31.47it/s]\n",
      "Validation Epoch 136: 100%|██████████| 71/71 [00:10<00:00,  6.76it/s]\n"
     ]
    },
    {
     "name": "stdout",
     "output_type": "stream",
     "text": [
      "Epoch 137/400\n"
     ]
    },
    {
     "name": "stderr",
     "output_type": "stream",
     "text": [
      "Training Epoch 137: 100%|██████████| 284/284 [00:09<00:00, 30.45it/s]\n",
      "Validation Epoch 137: 100%|██████████| 71/71 [00:10<00:00,  6.57it/s]\n"
     ]
    },
    {
     "name": "stdout",
     "output_type": "stream",
     "text": [
      "Epoch 138/400\n"
     ]
    },
    {
     "name": "stderr",
     "output_type": "stream",
     "text": [
      "Training Epoch 138: 100%|██████████| 284/284 [00:09<00:00, 31.55it/s]\n",
      "Validation Epoch 138: 100%|██████████| 71/71 [00:10<00:00,  6.75it/s]\n"
     ]
    },
    {
     "name": "stdout",
     "output_type": "stream",
     "text": [
      "Epoch 139/400\n"
     ]
    },
    {
     "name": "stderr",
     "output_type": "stream",
     "text": [
      "Training Epoch 139: 100%|██████████| 284/284 [00:08<00:00, 32.48it/s]\n",
      "Validation Epoch 139: 100%|██████████| 71/71 [00:10<00:00,  6.87it/s]\n"
     ]
    },
    {
     "name": "stdout",
     "output_type": "stream",
     "text": [
      "Epoch 140/400\n"
     ]
    },
    {
     "name": "stderr",
     "output_type": "stream",
     "text": [
      "Training Epoch 140: 100%|██████████| 284/284 [00:08<00:00, 32.85it/s]\n",
      "Validation Epoch 140: 100%|██████████| 71/71 [00:10<00:00,  7.01it/s]\n"
     ]
    },
    {
     "name": "stdout",
     "output_type": "stream",
     "text": [
      "Epoch 141/400\n"
     ]
    },
    {
     "name": "stderr",
     "output_type": "stream",
     "text": [
      "Training Epoch 141: 100%|██████████| 284/284 [00:08<00:00, 32.14it/s]\n",
      "Validation Epoch 141: 100%|██████████| 71/71 [00:10<00:00,  6.77it/s]\n"
     ]
    },
    {
     "name": "stdout",
     "output_type": "stream",
     "text": [
      "Epoch 142/400\n"
     ]
    },
    {
     "name": "stderr",
     "output_type": "stream",
     "text": [
      "Training Epoch 142: 100%|██████████| 284/284 [00:08<00:00, 32.70it/s]\n",
      "Validation Epoch 142: 100%|██████████| 71/71 [00:10<00:00,  6.91it/s]\n"
     ]
    },
    {
     "name": "stdout",
     "output_type": "stream",
     "text": [
      "Epoch 143/400\n"
     ]
    },
    {
     "name": "stderr",
     "output_type": "stream",
     "text": [
      "Training Epoch 143: 100%|██████████| 284/284 [00:08<00:00, 31.82it/s]\n",
      "Validation Epoch 143: 100%|██████████| 71/71 [00:10<00:00,  6.80it/s]\n"
     ]
    },
    {
     "name": "stdout",
     "output_type": "stream",
     "text": [
      "Epoch 144/400\n"
     ]
    },
    {
     "name": "stderr",
     "output_type": "stream",
     "text": [
      "Training Epoch 144: 100%|██████████| 284/284 [00:08<00:00, 32.77it/s]\n",
      "Validation Epoch 144: 100%|██████████| 71/71 [00:10<00:00,  6.99it/s]\n"
     ]
    },
    {
     "name": "stdout",
     "output_type": "stream",
     "text": [
      "Epoch 145/400\n"
     ]
    },
    {
     "name": "stderr",
     "output_type": "stream",
     "text": [
      "Training Epoch 145: 100%|██████████| 284/284 [00:08<00:00, 31.67it/s]\n",
      "Validation Epoch 145: 100%|██████████| 71/71 [00:10<00:00,  6.79it/s]\n"
     ]
    },
    {
     "name": "stdout",
     "output_type": "stream",
     "text": [
      "Epoch 146/400\n"
     ]
    },
    {
     "name": "stderr",
     "output_type": "stream",
     "text": [
      "Training Epoch 146: 100%|██████████| 284/284 [00:08<00:00, 33.15it/s]\n",
      "Validation Epoch 146: 100%|██████████| 71/71 [00:10<00:00,  7.06it/s]\n"
     ]
    },
    {
     "name": "stdout",
     "output_type": "stream",
     "text": [
      "Epoch 147/400\n"
     ]
    },
    {
     "name": "stderr",
     "output_type": "stream",
     "text": [
      "Training Epoch 147: 100%|██████████| 284/284 [00:09<00:00, 30.86it/s]\n",
      "Validation Epoch 147: 100%|██████████| 71/71 [00:10<00:00,  6.65it/s]\n"
     ]
    },
    {
     "name": "stdout",
     "output_type": "stream",
     "text": [
      "Epoch 148/400\n"
     ]
    },
    {
     "name": "stderr",
     "output_type": "stream",
     "text": [
      "Training Epoch 148: 100%|██████████| 284/284 [00:08<00:00, 32.19it/s]\n",
      "Validation Epoch 148: 100%|██████████| 71/71 [00:10<00:00,  6.85it/s]\n"
     ]
    },
    {
     "name": "stdout",
     "output_type": "stream",
     "text": [
      "Epoch 149/400\n"
     ]
    },
    {
     "name": "stderr",
     "output_type": "stream",
     "text": [
      "Training Epoch 149: 100%|██████████| 284/284 [00:08<00:00, 32.30it/s]\n",
      "Validation Epoch 149: 100%|██████████| 71/71 [00:10<00:00,  6.90it/s]\n"
     ]
    },
    {
     "name": "stdout",
     "output_type": "stream",
     "text": [
      "Epoch 150/400\n"
     ]
    },
    {
     "name": "stderr",
     "output_type": "stream",
     "text": [
      "Training Epoch 150: 100%|██████████| 284/284 [00:08<00:00, 33.37it/s]\n",
      "Validation Epoch 150: 100%|██████████| 71/71 [00:10<00:00,  7.05it/s]\n"
     ]
    },
    {
     "name": "stdout",
     "output_type": "stream",
     "text": [
      "Epoch 151/400\n"
     ]
    },
    {
     "name": "stderr",
     "output_type": "stream",
     "text": [
      "Training Epoch 151: 100%|██████████| 284/284 [00:08<00:00, 32.70it/s]\n",
      "Validation Epoch 151: 100%|██████████| 71/71 [00:10<00:00,  7.03it/s]\n"
     ]
    },
    {
     "name": "stdout",
     "output_type": "stream",
     "text": [
      "Epoch 152/400\n"
     ]
    },
    {
     "name": "stderr",
     "output_type": "stream",
     "text": [
      "Training Epoch 152: 100%|██████████| 284/284 [00:08<00:00, 32.68it/s]\n",
      "Validation Epoch 152: 100%|██████████| 71/71 [00:10<00:00,  6.96it/s]\n"
     ]
    },
    {
     "name": "stdout",
     "output_type": "stream",
     "text": [
      "Epoch 153/400\n"
     ]
    },
    {
     "name": "stderr",
     "output_type": "stream",
     "text": [
      "Training Epoch 153: 100%|██████████| 284/284 [00:08<00:00, 31.87it/s]\n",
      "Validation Epoch 153: 100%|██████████| 71/71 [00:10<00:00,  6.84it/s]\n"
     ]
    },
    {
     "name": "stdout",
     "output_type": "stream",
     "text": [
      "Epoch 154/400\n"
     ]
    },
    {
     "name": "stderr",
     "output_type": "stream",
     "text": [
      "Training Epoch 154: 100%|██████████| 284/284 [00:08<00:00, 32.71it/s]\n",
      "Validation Epoch 154: 100%|██████████| 71/71 [00:10<00:00,  7.00it/s]\n"
     ]
    },
    {
     "name": "stdout",
     "output_type": "stream",
     "text": [
      "Epoch 155/400\n"
     ]
    },
    {
     "name": "stderr",
     "output_type": "stream",
     "text": [
      "Training Epoch 155: 100%|██████████| 284/284 [00:08<00:00, 33.42it/s]\n",
      "Validation Epoch 155: 100%|██████████| 71/71 [00:09<00:00,  7.19it/s]\n"
     ]
    },
    {
     "name": "stdout",
     "output_type": "stream",
     "text": [
      "Epoch 156/400\n"
     ]
    },
    {
     "name": "stderr",
     "output_type": "stream",
     "text": [
      "Training Epoch 156: 100%|██████████| 284/284 [00:08<00:00, 31.62it/s]\n",
      "Validation Epoch 156: 100%|██████████| 71/71 [00:10<00:00,  6.82it/s]\n"
     ]
    },
    {
     "name": "stdout",
     "output_type": "stream",
     "text": [
      "Epoch 157/400\n"
     ]
    },
    {
     "name": "stderr",
     "output_type": "stream",
     "text": [
      "Training Epoch 157: 100%|██████████| 284/284 [00:08<00:00, 32.58it/s]\n",
      "Validation Epoch 157: 100%|██████████| 71/71 [00:10<00:00,  6.92it/s]\n"
     ]
    },
    {
     "name": "stdout",
     "output_type": "stream",
     "text": [
      "Epoch 158/400\n"
     ]
    },
    {
     "name": "stderr",
     "output_type": "stream",
     "text": [
      "Training Epoch 158: 100%|██████████| 284/284 [00:08<00:00, 31.77it/s]\n",
      "Validation Epoch 158: 100%|██████████| 71/71 [00:10<00:00,  6.78it/s]\n"
     ]
    },
    {
     "name": "stdout",
     "output_type": "stream",
     "text": [
      "Epoch 159/400\n"
     ]
    },
    {
     "name": "stderr",
     "output_type": "stream",
     "text": [
      "Training Epoch 159: 100%|██████████| 284/284 [00:08<00:00, 31.70it/s]\n",
      "Validation Epoch 159: 100%|██████████| 71/71 [00:10<00:00,  6.75it/s]\n"
     ]
    },
    {
     "name": "stdout",
     "output_type": "stream",
     "text": [
      "Epoch 160/400\n"
     ]
    },
    {
     "name": "stderr",
     "output_type": "stream",
     "text": [
      "Training Epoch 160: 100%|██████████| 284/284 [00:08<00:00, 31.68it/s]\n",
      "Validation Epoch 160: 100%|██████████| 71/71 [00:10<00:00,  6.79it/s]\n"
     ]
    },
    {
     "name": "stdout",
     "output_type": "stream",
     "text": [
      "Epoch 161/400\n"
     ]
    },
    {
     "name": "stderr",
     "output_type": "stream",
     "text": [
      "Training Epoch 161: 100%|██████████| 284/284 [00:08<00:00, 32.20it/s]\n",
      "Validation Epoch 161: 100%|██████████| 71/71 [00:10<00:00,  6.89it/s]\n"
     ]
    },
    {
     "name": "stdout",
     "output_type": "stream",
     "text": [
      "Epoch 162/400\n"
     ]
    },
    {
     "name": "stderr",
     "output_type": "stream",
     "text": [
      "Training Epoch 162: 100%|██████████| 284/284 [00:08<00:00, 32.98it/s]\n",
      "Validation Epoch 162: 100%|██████████| 71/71 [00:10<00:00,  7.02it/s]\n"
     ]
    },
    {
     "name": "stdout",
     "output_type": "stream",
     "text": [
      "Epoch 163/400\n"
     ]
    },
    {
     "name": "stderr",
     "output_type": "stream",
     "text": [
      "Training Epoch 163: 100%|██████████| 284/284 [00:09<00:00, 31.54it/s]\n",
      "Validation Epoch 163: 100%|██████████| 71/71 [00:10<00:00,  6.77it/s]\n"
     ]
    },
    {
     "name": "stdout",
     "output_type": "stream",
     "text": [
      "Epoch 164/400\n"
     ]
    },
    {
     "name": "stderr",
     "output_type": "stream",
     "text": [
      "Training Epoch 164: 100%|██████████| 284/284 [00:08<00:00, 31.74it/s]\n",
      "Validation Epoch 164: 100%|██████████| 71/71 [00:10<00:00,  6.86it/s]\n"
     ]
    },
    {
     "name": "stdout",
     "output_type": "stream",
     "text": [
      "Epoch 165/400\n"
     ]
    },
    {
     "name": "stderr",
     "output_type": "stream",
     "text": [
      "Training Epoch 165: 100%|██████████| 284/284 [00:08<00:00, 32.94it/s]\n",
      "Validation Epoch 165: 100%|██████████| 71/71 [00:10<00:00,  7.01it/s]\n"
     ]
    },
    {
     "name": "stdout",
     "output_type": "stream",
     "text": [
      "Epoch 166/400\n"
     ]
    },
    {
     "name": "stderr",
     "output_type": "stream",
     "text": [
      "Training Epoch 166: 100%|██████████| 284/284 [00:09<00:00, 30.97it/s]\n",
      "Validation Epoch 166: 100%|██████████| 71/71 [00:10<00:00,  6.66it/s]\n"
     ]
    },
    {
     "name": "stdout",
     "output_type": "stream",
     "text": [
      "Epoch 167/400\n"
     ]
    },
    {
     "name": "stderr",
     "output_type": "stream",
     "text": [
      "Training Epoch 167: 100%|██████████| 284/284 [00:08<00:00, 32.57it/s]\n",
      "Validation Epoch 167: 100%|██████████| 71/71 [00:10<00:00,  6.90it/s]\n"
     ]
    },
    {
     "name": "stdout",
     "output_type": "stream",
     "text": [
      "Epoch 168/400\n"
     ]
    },
    {
     "name": "stderr",
     "output_type": "stream",
     "text": [
      "Training Epoch 168: 100%|██████████| 284/284 [00:09<00:00, 31.46it/s]\n",
      "Validation Epoch 168: 100%|██████████| 71/71 [00:10<00:00,  6.74it/s]\n"
     ]
    },
    {
     "name": "stdout",
     "output_type": "stream",
     "text": [
      "Epoch 169/400\n"
     ]
    },
    {
     "name": "stderr",
     "output_type": "stream",
     "text": [
      "Training Epoch 169: 100%|██████████| 284/284 [00:08<00:00, 31.87it/s]\n",
      "Validation Epoch 169: 100%|██████████| 71/71 [00:10<00:00,  6.82it/s]\n"
     ]
    },
    {
     "name": "stdout",
     "output_type": "stream",
     "text": [
      "Epoch 170/400\n"
     ]
    },
    {
     "name": "stderr",
     "output_type": "stream",
     "text": [
      "Training Epoch 170: 100%|██████████| 284/284 [00:08<00:00, 32.76it/s]\n",
      "Validation Epoch 170: 100%|██████████| 71/71 [00:10<00:00,  6.97it/s]\n"
     ]
    },
    {
     "name": "stdout",
     "output_type": "stream",
     "text": [
      "Epoch 171/400\n"
     ]
    },
    {
     "name": "stderr",
     "output_type": "stream",
     "text": [
      "Training Epoch 171: 100%|██████████| 284/284 [00:08<00:00, 31.83it/s]\n",
      "Validation Epoch 171: 100%|██████████| 71/71 [00:10<00:00,  6.77it/s]\n"
     ]
    },
    {
     "name": "stdout",
     "output_type": "stream",
     "text": [
      "Epoch 172/400\n"
     ]
    },
    {
     "name": "stderr",
     "output_type": "stream",
     "text": [
      "Training Epoch 172: 100%|██████████| 284/284 [00:08<00:00, 33.10it/s]\n",
      "Validation Epoch 172: 100%|██████████| 71/71 [00:10<00:00,  7.03it/s]\n"
     ]
    },
    {
     "name": "stdout",
     "output_type": "stream",
     "text": [
      "Epoch 173/400\n"
     ]
    },
    {
     "name": "stderr",
     "output_type": "stream",
     "text": [
      "Training Epoch 173: 100%|██████████| 284/284 [00:08<00:00, 32.31it/s]\n",
      "Validation Epoch 173: 100%|██████████| 71/71 [00:10<00:00,  6.87it/s]\n"
     ]
    },
    {
     "name": "stdout",
     "output_type": "stream",
     "text": [
      "Epoch 174/400\n"
     ]
    },
    {
     "name": "stderr",
     "output_type": "stream",
     "text": [
      "Training Epoch 174: 100%|██████████| 284/284 [00:08<00:00, 31.68it/s]\n",
      "Validation Epoch 174: 100%|██████████| 71/71 [00:10<00:00,  6.81it/s]\n"
     ]
    },
    {
     "name": "stdout",
     "output_type": "stream",
     "text": [
      "Epoch 175/400\n"
     ]
    },
    {
     "name": "stderr",
     "output_type": "stream",
     "text": [
      "Training Epoch 175: 100%|██████████| 284/284 [00:09<00:00, 31.41it/s]\n",
      "Validation Epoch 175: 100%|██████████| 71/71 [00:10<00:00,  6.70it/s]\n"
     ]
    },
    {
     "name": "stdout",
     "output_type": "stream",
     "text": [
      "Epoch 176/400\n"
     ]
    },
    {
     "name": "stderr",
     "output_type": "stream",
     "text": [
      "Training Epoch 176: 100%|██████████| 284/284 [00:08<00:00, 31.96it/s]\n",
      "Validation Epoch 176: 100%|██████████| 71/71 [00:10<00:00,  6.85it/s]\n"
     ]
    },
    {
     "name": "stdout",
     "output_type": "stream",
     "text": [
      "Epoch 177/400\n"
     ]
    },
    {
     "name": "stderr",
     "output_type": "stream",
     "text": [
      "Training Epoch 177: 100%|██████████| 284/284 [00:09<00:00, 31.43it/s]\n",
      "Validation Epoch 177: 100%|██████████| 71/71 [00:10<00:00,  6.76it/s]\n"
     ]
    },
    {
     "name": "stdout",
     "output_type": "stream",
     "text": [
      "Epoch 178/400\n"
     ]
    },
    {
     "name": "stderr",
     "output_type": "stream",
     "text": [
      "Training Epoch 178: 100%|██████████| 284/284 [00:08<00:00, 33.09it/s]\n",
      "Validation Epoch 178: 100%|██████████| 71/71 [00:10<00:00,  7.05it/s]\n"
     ]
    },
    {
     "name": "stdout",
     "output_type": "stream",
     "text": [
      "Epoch 179/400\n"
     ]
    },
    {
     "name": "stderr",
     "output_type": "stream",
     "text": [
      "Training Epoch 179: 100%|██████████| 284/284 [00:08<00:00, 31.84it/s]\n",
      "Validation Epoch 179: 100%|██████████| 71/71 [00:10<00:00,  6.82it/s]\n"
     ]
    },
    {
     "name": "stdout",
     "output_type": "stream",
     "text": [
      "Epoch 180/400\n"
     ]
    },
    {
     "name": "stderr",
     "output_type": "stream",
     "text": [
      "Training Epoch 180: 100%|██████████| 284/284 [00:08<00:00, 32.10it/s]\n",
      "Validation Epoch 180: 100%|██████████| 71/71 [00:10<00:00,  6.87it/s]\n"
     ]
    },
    {
     "name": "stdout",
     "output_type": "stream",
     "text": [
      "Epoch 181/400\n"
     ]
    },
    {
     "name": "stderr",
     "output_type": "stream",
     "text": [
      "Training Epoch 181: 100%|██████████| 284/284 [00:08<00:00, 32.51it/s]\n",
      "Validation Epoch 181: 100%|██████████| 71/71 [00:10<00:00,  6.95it/s]\n"
     ]
    },
    {
     "name": "stdout",
     "output_type": "stream",
     "text": [
      "Epoch 182/400\n"
     ]
    },
    {
     "name": "stderr",
     "output_type": "stream",
     "text": [
      "Training Epoch 182: 100%|██████████| 284/284 [00:08<00:00, 32.36it/s]\n",
      "Validation Epoch 182: 100%|██████████| 71/71 [00:10<00:00,  6.94it/s]\n"
     ]
    },
    {
     "name": "stdout",
     "output_type": "stream",
     "text": [
      "Epoch 183/400\n"
     ]
    },
    {
     "name": "stderr",
     "output_type": "stream",
     "text": [
      "Training Epoch 183: 100%|██████████| 284/284 [00:08<00:00, 32.31it/s]\n",
      "Validation Epoch 183: 100%|██████████| 71/71 [00:10<00:00,  6.90it/s]\n"
     ]
    },
    {
     "name": "stdout",
     "output_type": "stream",
     "text": [
      "Epoch 184/400\n"
     ]
    },
    {
     "name": "stderr",
     "output_type": "stream",
     "text": [
      "Training Epoch 184: 100%|██████████| 284/284 [00:08<00:00, 32.87it/s]\n",
      "Validation Epoch 184: 100%|██████████| 71/71 [00:10<00:00,  7.04it/s]\n"
     ]
    },
    {
     "name": "stdout",
     "output_type": "stream",
     "text": [
      "Epoch 185/400\n"
     ]
    },
    {
     "name": "stderr",
     "output_type": "stream",
     "text": [
      "Training Epoch 185: 100%|██████████| 284/284 [00:09<00:00, 31.34it/s]\n",
      "Validation Epoch 185: 100%|██████████| 71/71 [00:10<00:00,  6.74it/s]\n"
     ]
    },
    {
     "name": "stdout",
     "output_type": "stream",
     "text": [
      "Epoch 186/400\n"
     ]
    },
    {
     "name": "stderr",
     "output_type": "stream",
     "text": [
      "Training Epoch 186: 100%|██████████| 284/284 [00:08<00:00, 32.84it/s]\n",
      "Validation Epoch 186: 100%|██████████| 71/71 [00:10<00:00,  6.97it/s]\n"
     ]
    },
    {
     "name": "stdout",
     "output_type": "stream",
     "text": [
      "Epoch 187/400\n"
     ]
    },
    {
     "name": "stderr",
     "output_type": "stream",
     "text": [
      "Training Epoch 187: 100%|██████████| 284/284 [00:08<00:00, 32.66it/s]\n",
      "Validation Epoch 187: 100%|██████████| 71/71 [00:10<00:00,  7.05it/s]\n"
     ]
    },
    {
     "name": "stdout",
     "output_type": "stream",
     "text": [
      "Epoch 188/400\n"
     ]
    },
    {
     "name": "stderr",
     "output_type": "stream",
     "text": [
      "Training Epoch 188: 100%|██████████| 284/284 [00:08<00:00, 32.23it/s]\n",
      "Validation Epoch 188: 100%|██████████| 71/71 [00:10<00:00,  6.91it/s]\n"
     ]
    },
    {
     "name": "stdout",
     "output_type": "stream",
     "text": [
      "Epoch 189/400\n"
     ]
    },
    {
     "name": "stderr",
     "output_type": "stream",
     "text": [
      "Training Epoch 189: 100%|██████████| 284/284 [00:08<00:00, 32.39it/s]\n",
      "Validation Epoch 189: 100%|██████████| 71/71 [00:10<00:00,  6.94it/s]\n"
     ]
    },
    {
     "name": "stdout",
     "output_type": "stream",
     "text": [
      "Epoch 190/400\n"
     ]
    },
    {
     "name": "stderr",
     "output_type": "stream",
     "text": [
      "Training Epoch 190: 100%|██████████| 284/284 [00:08<00:00, 32.42it/s]\n",
      "Validation Epoch 190: 100%|██████████| 71/71 [00:10<00:00,  6.88it/s]\n"
     ]
    },
    {
     "name": "stdout",
     "output_type": "stream",
     "text": [
      "Epoch 191/400\n"
     ]
    },
    {
     "name": "stderr",
     "output_type": "stream",
     "text": [
      "Training Epoch 191: 100%|██████████| 284/284 [00:08<00:00, 31.75it/s]\n",
      "Validation Epoch 191: 100%|██████████| 71/71 [00:10<00:00,  6.79it/s]\n"
     ]
    },
    {
     "name": "stdout",
     "output_type": "stream",
     "text": [
      "Epoch 192/400\n"
     ]
    },
    {
     "name": "stderr",
     "output_type": "stream",
     "text": [
      "Training Epoch 192: 100%|██████████| 284/284 [00:08<00:00, 32.14it/s]\n",
      "Validation Epoch 192: 100%|██████████| 71/71 [00:10<00:00,  6.90it/s]\n"
     ]
    },
    {
     "name": "stdout",
     "output_type": "stream",
     "text": [
      "Epoch 193/400\n"
     ]
    },
    {
     "name": "stderr",
     "output_type": "stream",
     "text": [
      "Training Epoch 193: 100%|██████████| 284/284 [00:08<00:00, 32.06it/s]\n",
      "Validation Epoch 193: 100%|██████████| 71/71 [00:10<00:00,  6.90it/s]\n"
     ]
    },
    {
     "name": "stdout",
     "output_type": "stream",
     "text": [
      "Epoch 194/400\n"
     ]
    },
    {
     "name": "stderr",
     "output_type": "stream",
     "text": [
      "Training Epoch 194: 100%|██████████| 284/284 [00:09<00:00, 30.46it/s]\n",
      "Validation Epoch 194: 100%|██████████| 71/71 [00:10<00:00,  6.56it/s]\n"
     ]
    },
    {
     "name": "stdout",
     "output_type": "stream",
     "text": [
      "Epoch 195/400\n"
     ]
    },
    {
     "name": "stderr",
     "output_type": "stream",
     "text": [
      "Training Epoch 195: 100%|██████████| 284/284 [00:08<00:00, 31.66it/s]\n",
      "Validation Epoch 195: 100%|██████████| 71/71 [00:10<00:00,  6.82it/s]\n"
     ]
    },
    {
     "name": "stdout",
     "output_type": "stream",
     "text": [
      "Epoch 196/400\n"
     ]
    },
    {
     "name": "stderr",
     "output_type": "stream",
     "text": [
      "Training Epoch 196: 100%|██████████| 284/284 [00:08<00:00, 31.99it/s]\n",
      "Validation Epoch 196: 100%|██████████| 71/71 [00:10<00:00,  6.82it/s]\n"
     ]
    },
    {
     "name": "stdout",
     "output_type": "stream",
     "text": [
      "Epoch 197/400\n"
     ]
    },
    {
     "name": "stderr",
     "output_type": "stream",
     "text": [
      "Training Epoch 197: 100%|██████████| 284/284 [00:08<00:00, 31.81it/s]\n",
      "Validation Epoch 197: 100%|██████████| 71/71 [00:10<00:00,  6.83it/s]\n"
     ]
    },
    {
     "name": "stdout",
     "output_type": "stream",
     "text": [
      "Epoch 198/400\n"
     ]
    },
    {
     "name": "stderr",
     "output_type": "stream",
     "text": [
      "Training Epoch 198: 100%|██████████| 284/284 [00:08<00:00, 32.31it/s]\n",
      "Validation Epoch 198: 100%|██████████| 71/71 [00:10<00:00,  6.80it/s]\n"
     ]
    },
    {
     "name": "stdout",
     "output_type": "stream",
     "text": [
      "Epoch 199/400\n"
     ]
    },
    {
     "name": "stderr",
     "output_type": "stream",
     "text": [
      "Training Epoch 199: 100%|██████████| 284/284 [00:08<00:00, 32.37it/s]\n",
      "Validation Epoch 199: 100%|██████████| 71/71 [00:10<00:00,  6.91it/s]\n"
     ]
    },
    {
     "name": "stdout",
     "output_type": "stream",
     "text": [
      "Epoch 200/400\n"
     ]
    },
    {
     "name": "stderr",
     "output_type": "stream",
     "text": [
      "Training Epoch 200: 100%|██████████| 284/284 [00:08<00:00, 32.63it/s]\n",
      "Validation Epoch 200: 100%|██████████| 71/71 [00:10<00:00,  6.96it/s]\n"
     ]
    },
    {
     "name": "stdout",
     "output_type": "stream",
     "text": [
      "Epoch 201/400\n"
     ]
    },
    {
     "name": "stderr",
     "output_type": "stream",
     "text": [
      "Training Epoch 201: 100%|██████████| 284/284 [00:08<00:00, 31.88it/s]\n",
      "Validation Epoch 201: 100%|██████████| 71/71 [00:10<00:00,  6.84it/s]\n"
     ]
    },
    {
     "name": "stdout",
     "output_type": "stream",
     "text": [
      "Epoch 202/400\n"
     ]
    },
    {
     "name": "stderr",
     "output_type": "stream",
     "text": [
      "Training Epoch 202: 100%|██████████| 284/284 [00:09<00:00, 31.25it/s]\n",
      "Validation Epoch 202: 100%|██████████| 71/71 [00:10<00:00,  6.71it/s]\n"
     ]
    },
    {
     "name": "stdout",
     "output_type": "stream",
     "text": [
      "Epoch 203/400\n"
     ]
    },
    {
     "name": "stderr",
     "output_type": "stream",
     "text": [
      "Training Epoch 203: 100%|██████████| 284/284 [00:09<00:00, 30.77it/s]\n",
      "Validation Epoch 203: 100%|██████████| 71/71 [00:10<00:00,  6.65it/s]\n"
     ]
    },
    {
     "name": "stdout",
     "output_type": "stream",
     "text": [
      "Epoch 204/400\n"
     ]
    },
    {
     "name": "stderr",
     "output_type": "stream",
     "text": [
      "Training Epoch 204: 100%|██████████| 284/284 [00:08<00:00, 31.80it/s]\n",
      "Validation Epoch 204: 100%|██████████| 71/71 [00:10<00:00,  6.85it/s]\n"
     ]
    },
    {
     "name": "stdout",
     "output_type": "stream",
     "text": [
      "Epoch 205/400\n"
     ]
    },
    {
     "name": "stderr",
     "output_type": "stream",
     "text": [
      "Training Epoch 205: 100%|██████████| 284/284 [00:08<00:00, 32.73it/s]\n",
      "Validation Epoch 205: 100%|██████████| 71/71 [00:10<00:00,  7.01it/s]\n"
     ]
    },
    {
     "name": "stdout",
     "output_type": "stream",
     "text": [
      "Epoch 206/400\n"
     ]
    },
    {
     "name": "stderr",
     "output_type": "stream",
     "text": [
      "Training Epoch 206: 100%|██████████| 284/284 [00:08<00:00, 32.94it/s]\n",
      "Validation Epoch 206: 100%|██████████| 71/71 [00:10<00:00,  7.08it/s]\n"
     ]
    },
    {
     "name": "stdout",
     "output_type": "stream",
     "text": [
      "Epoch 207/400\n"
     ]
    },
    {
     "name": "stderr",
     "output_type": "stream",
     "text": [
      "Training Epoch 207: 100%|██████████| 284/284 [00:09<00:00, 31.51it/s]\n",
      "Validation Epoch 207: 100%|██████████| 71/71 [00:10<00:00,  6.77it/s]\n"
     ]
    },
    {
     "name": "stdout",
     "output_type": "stream",
     "text": [
      "Epoch 208/400\n"
     ]
    },
    {
     "name": "stderr",
     "output_type": "stream",
     "text": [
      "Training Epoch 208: 100%|██████████| 284/284 [00:09<00:00, 31.30it/s]\n",
      "Validation Epoch 208: 100%|██████████| 71/71 [00:10<00:00,  6.74it/s]\n"
     ]
    },
    {
     "name": "stdout",
     "output_type": "stream",
     "text": [
      "Epoch 209/400\n"
     ]
    },
    {
     "name": "stderr",
     "output_type": "stream",
     "text": [
      "Training Epoch 209: 100%|██████████| 284/284 [00:09<00:00, 31.08it/s]\n",
      "Validation Epoch 209: 100%|██████████| 71/71 [00:10<00:00,  6.72it/s]\n"
     ]
    },
    {
     "name": "stdout",
     "output_type": "stream",
     "text": [
      "Epoch 210/400\n"
     ]
    },
    {
     "name": "stderr",
     "output_type": "stream",
     "text": [
      "Training Epoch 210: 100%|██████████| 284/284 [00:08<00:00, 31.90it/s]\n",
      "Validation Epoch 210: 100%|██████████| 71/71 [00:10<00:00,  6.86it/s]\n"
     ]
    },
    {
     "name": "stdout",
     "output_type": "stream",
     "text": [
      "Epoch 211/400\n"
     ]
    },
    {
     "name": "stderr",
     "output_type": "stream",
     "text": [
      "Training Epoch 211: 100%|██████████| 284/284 [00:08<00:00, 31.70it/s]\n",
      "Validation Epoch 211: 100%|██████████| 71/71 [00:10<00:00,  6.78it/s]\n"
     ]
    },
    {
     "name": "stdout",
     "output_type": "stream",
     "text": [
      "Epoch 212/400\n"
     ]
    },
    {
     "name": "stderr",
     "output_type": "stream",
     "text": [
      "Training Epoch 212: 100%|██████████| 284/284 [00:08<00:00, 32.60it/s]\n",
      "Validation Epoch 212: 100%|██████████| 71/71 [00:10<00:00,  6.98it/s]\n"
     ]
    },
    {
     "name": "stdout",
     "output_type": "stream",
     "text": [
      "Epoch 213/400\n"
     ]
    },
    {
     "name": "stderr",
     "output_type": "stream",
     "text": [
      "Training Epoch 213: 100%|██████████| 284/284 [00:09<00:00, 30.78it/s]\n",
      "Validation Epoch 213: 100%|██████████| 71/71 [00:10<00:00,  6.67it/s]\n"
     ]
    },
    {
     "name": "stdout",
     "output_type": "stream",
     "text": [
      "Epoch 214/400\n"
     ]
    },
    {
     "name": "stderr",
     "output_type": "stream",
     "text": [
      "Training Epoch 214: 100%|██████████| 284/284 [00:08<00:00, 31.75it/s]\n",
      "Validation Epoch 214: 100%|██████████| 71/71 [00:10<00:00,  6.81it/s]\n"
     ]
    },
    {
     "name": "stdout",
     "output_type": "stream",
     "text": [
      "Epoch 215/400\n"
     ]
    },
    {
     "name": "stderr",
     "output_type": "stream",
     "text": [
      "Training Epoch 215: 100%|██████████| 284/284 [00:08<00:00, 32.14it/s]\n",
      "Validation Epoch 215: 100%|██████████| 71/71 [00:10<00:00,  6.92it/s]\n"
     ]
    },
    {
     "name": "stdout",
     "output_type": "stream",
     "text": [
      "Epoch 216/400\n"
     ]
    },
    {
     "name": "stderr",
     "output_type": "stream",
     "text": [
      "Training Epoch 216: 100%|██████████| 284/284 [00:08<00:00, 31.87it/s]\n",
      "Validation Epoch 216: 100%|██████████| 71/71 [00:10<00:00,  6.85it/s]\n"
     ]
    },
    {
     "name": "stdout",
     "output_type": "stream",
     "text": [
      "Epoch 217/400\n"
     ]
    },
    {
     "name": "stderr",
     "output_type": "stream",
     "text": [
      "Training Epoch 217: 100%|██████████| 284/284 [00:08<00:00, 31.94it/s]\n",
      "Validation Epoch 217: 100%|██████████| 71/71 [00:10<00:00,  6.83it/s]\n"
     ]
    },
    {
     "name": "stdout",
     "output_type": "stream",
     "text": [
      "Epoch 218/400\n"
     ]
    },
    {
     "name": "stderr",
     "output_type": "stream",
     "text": [
      "Training Epoch 218: 100%|██████████| 284/284 [00:08<00:00, 32.46it/s]\n",
      "Validation Epoch 218: 100%|██████████| 71/71 [00:10<00:00,  6.99it/s]\n"
     ]
    },
    {
     "name": "stdout",
     "output_type": "stream",
     "text": [
      "Epoch 219/400\n"
     ]
    },
    {
     "name": "stderr",
     "output_type": "stream",
     "text": [
      "Training Epoch 219: 100%|██████████| 284/284 [00:09<00:00, 31.49it/s]\n",
      "Validation Epoch 219: 100%|██████████| 71/71 [00:10<00:00,  6.76it/s]\n"
     ]
    },
    {
     "name": "stdout",
     "output_type": "stream",
     "text": [
      "Epoch 220/400\n"
     ]
    },
    {
     "name": "stderr",
     "output_type": "stream",
     "text": [
      "Training Epoch 220: 100%|██████████| 284/284 [00:09<00:00, 31.39it/s]\n",
      "Validation Epoch 220: 100%|██████████| 71/71 [00:10<00:00,  6.72it/s]\n"
     ]
    },
    {
     "name": "stdout",
     "output_type": "stream",
     "text": [
      "Epoch 221/400\n"
     ]
    },
    {
     "name": "stderr",
     "output_type": "stream",
     "text": [
      "Training Epoch 221: 100%|██████████| 284/284 [00:08<00:00, 32.02it/s]\n",
      "Validation Epoch 221: 100%|██████████| 71/71 [00:10<00:00,  6.91it/s]\n"
     ]
    },
    {
     "name": "stdout",
     "output_type": "stream",
     "text": [
      "Epoch 222/400\n"
     ]
    },
    {
     "name": "stderr",
     "output_type": "stream",
     "text": [
      "Training Epoch 222: 100%|██████████| 284/284 [00:08<00:00, 32.27it/s]\n",
      "Validation Epoch 222: 100%|██████████| 71/71 [00:10<00:00,  6.93it/s]\n"
     ]
    },
    {
     "name": "stdout",
     "output_type": "stream",
     "text": [
      "Epoch 223/400\n"
     ]
    },
    {
     "name": "stderr",
     "output_type": "stream",
     "text": [
      "Training Epoch 223: 100%|██████████| 284/284 [00:08<00:00, 33.39it/s]\n",
      "Validation Epoch 223: 100%|██████████| 71/71 [00:10<00:00,  7.07it/s]\n"
     ]
    },
    {
     "name": "stdout",
     "output_type": "stream",
     "text": [
      "Epoch 224/400\n"
     ]
    },
    {
     "name": "stderr",
     "output_type": "stream",
     "text": [
      "Training Epoch 224: 100%|██████████| 284/284 [00:09<00:00, 31.50it/s]\n",
      "Validation Epoch 224: 100%|██████████| 71/71 [00:10<00:00,  6.69it/s]\n"
     ]
    },
    {
     "name": "stdout",
     "output_type": "stream",
     "text": [
      "Epoch 225/400\n"
     ]
    },
    {
     "name": "stderr",
     "output_type": "stream",
     "text": [
      "Training Epoch 225: 100%|██████████| 284/284 [00:08<00:00, 32.66it/s]\n",
      "Validation Epoch 225: 100%|██████████| 71/71 [00:10<00:00,  6.96it/s]\n"
     ]
    },
    {
     "name": "stdout",
     "output_type": "stream",
     "text": [
      "Epoch 226/400\n"
     ]
    },
    {
     "name": "stderr",
     "output_type": "stream",
     "text": [
      "Training Epoch 226: 100%|██████████| 284/284 [00:08<00:00, 32.44it/s]\n",
      "Validation Epoch 226: 100%|██████████| 71/71 [00:10<00:00,  6.95it/s]\n"
     ]
    },
    {
     "name": "stdout",
     "output_type": "stream",
     "text": [
      "Epoch 227/400\n"
     ]
    },
    {
     "name": "stderr",
     "output_type": "stream",
     "text": [
      "Training Epoch 227: 100%|██████████| 284/284 [00:08<00:00, 32.10it/s]\n",
      "Validation Epoch 227: 100%|██████████| 71/71 [00:10<00:00,  6.85it/s]\n"
     ]
    },
    {
     "name": "stdout",
     "output_type": "stream",
     "text": [
      "Epoch 228/400\n"
     ]
    },
    {
     "name": "stderr",
     "output_type": "stream",
     "text": [
      "Training Epoch 228: 100%|██████████| 284/284 [00:08<00:00, 31.62it/s]\n",
      "Validation Epoch 228: 100%|██████████| 71/71 [00:10<00:00,  6.80it/s]\n"
     ]
    },
    {
     "name": "stdout",
     "output_type": "stream",
     "text": [
      "Epoch 229/400\n"
     ]
    },
    {
     "name": "stderr",
     "output_type": "stream",
     "text": [
      "Training Epoch 229: 100%|██████████| 284/284 [00:08<00:00, 32.40it/s]\n",
      "Validation Epoch 229: 100%|██████████| 71/71 [00:10<00:00,  6.88it/s]\n"
     ]
    },
    {
     "name": "stdout",
     "output_type": "stream",
     "text": [
      "Epoch 230/400\n"
     ]
    },
    {
     "name": "stderr",
     "output_type": "stream",
     "text": [
      "Training Epoch 230: 100%|██████████| 284/284 [00:09<00:00, 31.52it/s]\n",
      "Validation Epoch 230: 100%|██████████| 71/71 [00:10<00:00,  6.76it/s]\n"
     ]
    },
    {
     "name": "stdout",
     "output_type": "stream",
     "text": [
      "Epoch 231/400\n"
     ]
    },
    {
     "name": "stderr",
     "output_type": "stream",
     "text": [
      "Training Epoch 231: 100%|██████████| 284/284 [00:08<00:00, 32.54it/s]\n",
      "Validation Epoch 231: 100%|██████████| 71/71 [00:10<00:00,  6.90it/s]\n"
     ]
    },
    {
     "name": "stdout",
     "output_type": "stream",
     "text": [
      "Epoch 232/400\n"
     ]
    },
    {
     "name": "stderr",
     "output_type": "stream",
     "text": [
      "Training Epoch 232: 100%|██████████| 284/284 [00:08<00:00, 32.96it/s]\n",
      "Validation Epoch 232: 100%|██████████| 71/71 [00:10<00:00,  7.00it/s]\n"
     ]
    },
    {
     "name": "stdout",
     "output_type": "stream",
     "text": [
      "Epoch 233/400\n"
     ]
    },
    {
     "name": "stderr",
     "output_type": "stream",
     "text": [
      "Training Epoch 233: 100%|██████████| 284/284 [00:08<00:00, 32.29it/s]\n",
      "Validation Epoch 233: 100%|██████████| 71/71 [00:10<00:00,  6.86it/s]\n"
     ]
    },
    {
     "name": "stdout",
     "output_type": "stream",
     "text": [
      "Epoch 234/400\n"
     ]
    },
    {
     "name": "stderr",
     "output_type": "stream",
     "text": [
      "Training Epoch 234: 100%|██████████| 284/284 [00:08<00:00, 31.67it/s]\n",
      "Validation Epoch 234: 100%|██████████| 71/71 [00:10<00:00,  6.82it/s]\n"
     ]
    },
    {
     "name": "stdout",
     "output_type": "stream",
     "text": [
      "Epoch 235/400\n"
     ]
    },
    {
     "name": "stderr",
     "output_type": "stream",
     "text": [
      "Training Epoch 235: 100%|██████████| 284/284 [00:08<00:00, 31.87it/s]\n",
      "Validation Epoch 235: 100%|██████████| 71/71 [00:10<00:00,  6.80it/s]\n"
     ]
    },
    {
     "name": "stdout",
     "output_type": "stream",
     "text": [
      "Epoch 236/400\n"
     ]
    },
    {
     "name": "stderr",
     "output_type": "stream",
     "text": [
      "Training Epoch 236: 100%|██████████| 284/284 [00:08<00:00, 33.49it/s]\n",
      "Validation Epoch 236: 100%|██████████| 71/71 [00:09<00:00,  7.16it/s]\n"
     ]
    },
    {
     "name": "stdout",
     "output_type": "stream",
     "text": [
      "Epoch 237/400\n"
     ]
    },
    {
     "name": "stderr",
     "output_type": "stream",
     "text": [
      "Training Epoch 237: 100%|██████████| 284/284 [00:09<00:00, 30.20it/s]\n",
      "Validation Epoch 237: 100%|██████████| 71/71 [00:10<00:00,  6.54it/s]\n"
     ]
    },
    {
     "name": "stdout",
     "output_type": "stream",
     "text": [
      "Epoch 238/400\n"
     ]
    },
    {
     "name": "stderr",
     "output_type": "stream",
     "text": [
      "Training Epoch 238: 100%|██████████| 284/284 [00:08<00:00, 31.70it/s]\n",
      "Validation Epoch 238: 100%|██████████| 71/71 [00:10<00:00,  6.86it/s]\n"
     ]
    },
    {
     "name": "stdout",
     "output_type": "stream",
     "text": [
      "Epoch 239/400\n"
     ]
    },
    {
     "name": "stderr",
     "output_type": "stream",
     "text": [
      "Training Epoch 239: 100%|██████████| 284/284 [00:08<00:00, 32.11it/s]\n",
      "Validation Epoch 239: 100%|██████████| 71/71 [00:10<00:00,  6.86it/s]\n"
     ]
    },
    {
     "name": "stdout",
     "output_type": "stream",
     "text": [
      "Epoch 240/400\n"
     ]
    },
    {
     "name": "stderr",
     "output_type": "stream",
     "text": [
      "Training Epoch 240: 100%|██████████| 284/284 [00:08<00:00, 31.61it/s]\n",
      "Validation Epoch 240: 100%|██████████| 71/71 [00:10<00:00,  6.80it/s]\n"
     ]
    },
    {
     "name": "stdout",
     "output_type": "stream",
     "text": [
      "Epoch 241/400\n"
     ]
    },
    {
     "name": "stderr",
     "output_type": "stream",
     "text": [
      "Training Epoch 241: 100%|██████████| 284/284 [00:08<00:00, 31.56it/s]\n",
      "Validation Epoch 241: 100%|██████████| 71/71 [00:10<00:00,  6.77it/s]\n"
     ]
    },
    {
     "name": "stdout",
     "output_type": "stream",
     "text": [
      "Epoch 242/400\n"
     ]
    },
    {
     "name": "stderr",
     "output_type": "stream",
     "text": [
      "Training Epoch 242: 100%|██████████| 284/284 [00:09<00:00, 31.17it/s]\n",
      "Validation Epoch 242: 100%|██████████| 71/71 [00:10<00:00,  6.70it/s]\n"
     ]
    },
    {
     "name": "stdout",
     "output_type": "stream",
     "text": [
      "Epoch 243/400\n"
     ]
    },
    {
     "name": "stderr",
     "output_type": "stream",
     "text": [
      "Training Epoch 243: 100%|██████████| 284/284 [00:08<00:00, 32.84it/s]\n",
      "Validation Epoch 243: 100%|██████████| 71/71 [00:10<00:00,  7.02it/s]\n"
     ]
    },
    {
     "name": "stdout",
     "output_type": "stream",
     "text": [
      "Epoch 244/400\n"
     ]
    },
    {
     "name": "stderr",
     "output_type": "stream",
     "text": [
      "Training Epoch 244: 100%|██████████| 284/284 [00:09<00:00, 31.46it/s]\n",
      "Validation Epoch 244: 100%|██████████| 71/71 [00:10<00:00,  6.79it/s]\n"
     ]
    },
    {
     "name": "stdout",
     "output_type": "stream",
     "text": [
      "Epoch 245/400\n"
     ]
    },
    {
     "name": "stderr",
     "output_type": "stream",
     "text": [
      "Training Epoch 245: 100%|██████████| 284/284 [00:08<00:00, 31.72it/s]\n",
      "Validation Epoch 245: 100%|██████████| 71/71 [00:10<00:00,  6.86it/s]\n"
     ]
    },
    {
     "name": "stdout",
     "output_type": "stream",
     "text": [
      "Epoch 246/400\n"
     ]
    },
    {
     "name": "stderr",
     "output_type": "stream",
     "text": [
      "Training Epoch 246: 100%|██████████| 284/284 [00:08<00:00, 32.35it/s]\n",
      "Validation Epoch 246: 100%|██████████| 71/71 [00:10<00:00,  6.94it/s]\n"
     ]
    },
    {
     "name": "stdout",
     "output_type": "stream",
     "text": [
      "Epoch 247/400\n"
     ]
    },
    {
     "name": "stderr",
     "output_type": "stream",
     "text": [
      "Training Epoch 247: 100%|██████████| 284/284 [00:08<00:00, 32.67it/s]\n",
      "Validation Epoch 247: 100%|██████████| 71/71 [00:10<00:00,  7.00it/s]\n"
     ]
    },
    {
     "name": "stdout",
     "output_type": "stream",
     "text": [
      "Epoch 248/400\n"
     ]
    },
    {
     "name": "stderr",
     "output_type": "stream",
     "text": [
      "Training Epoch 248: 100%|██████████| 284/284 [00:09<00:00, 31.29it/s]\n",
      "Validation Epoch 248: 100%|██████████| 71/71 [00:10<00:00,  6.76it/s]\n"
     ]
    },
    {
     "name": "stdout",
     "output_type": "stream",
     "text": [
      "Epoch 249/400\n"
     ]
    },
    {
     "name": "stderr",
     "output_type": "stream",
     "text": [
      "Training Epoch 249: 100%|██████████| 284/284 [00:09<00:00, 31.48it/s]\n",
      "Validation Epoch 249: 100%|██████████| 71/71 [00:10<00:00,  6.79it/s]\n"
     ]
    },
    {
     "name": "stdout",
     "output_type": "stream",
     "text": [
      "Epoch 250/400\n"
     ]
    },
    {
     "name": "stderr",
     "output_type": "stream",
     "text": [
      "Training Epoch 250: 100%|██████████| 284/284 [00:08<00:00, 33.55it/s]\n",
      "Validation Epoch 250: 100%|██████████| 71/71 [00:10<00:00,  7.03it/s]\n"
     ]
    },
    {
     "name": "stdout",
     "output_type": "stream",
     "text": [
      "Epoch 251/400\n"
     ]
    },
    {
     "name": "stderr",
     "output_type": "stream",
     "text": [
      "Training Epoch 251: 100%|██████████| 284/284 [00:08<00:00, 32.92it/s]\n",
      "Validation Epoch 251: 100%|██████████| 71/71 [00:10<00:00,  7.08it/s]\n"
     ]
    },
    {
     "name": "stdout",
     "output_type": "stream",
     "text": [
      "Epoch 252/400\n"
     ]
    },
    {
     "name": "stderr",
     "output_type": "stream",
     "text": [
      "Training Epoch 252: 100%|██████████| 284/284 [00:08<00:00, 31.64it/s]\n",
      "Validation Epoch 252: 100%|██████████| 71/71 [00:10<00:00,  6.78it/s]\n"
     ]
    },
    {
     "name": "stdout",
     "output_type": "stream",
     "text": [
      "Epoch 253/400\n"
     ]
    },
    {
     "name": "stderr",
     "output_type": "stream",
     "text": [
      "Training Epoch 253: 100%|██████████| 284/284 [00:08<00:00, 33.49it/s]\n",
      "Validation Epoch 253: 100%|██████████| 71/71 [00:09<00:00,  7.21it/s]\n"
     ]
    },
    {
     "name": "stdout",
     "output_type": "stream",
     "text": [
      "Epoch 254/400\n"
     ]
    },
    {
     "name": "stderr",
     "output_type": "stream",
     "text": [
      "Training Epoch 254: 100%|██████████| 284/284 [00:08<00:00, 32.72it/s]\n",
      "Validation Epoch 254: 100%|██████████| 71/71 [00:10<00:00,  7.03it/s]\n"
     ]
    },
    {
     "name": "stdout",
     "output_type": "stream",
     "text": [
      "Epoch 255/400\n"
     ]
    },
    {
     "name": "stderr",
     "output_type": "stream",
     "text": [
      "Training Epoch 255: 100%|██████████| 284/284 [00:08<00:00, 32.32it/s]\n",
      "Validation Epoch 255: 100%|██████████| 71/71 [00:10<00:00,  6.92it/s]\n"
     ]
    },
    {
     "name": "stdout",
     "output_type": "stream",
     "text": [
      "Epoch 256/400\n"
     ]
    },
    {
     "name": "stderr",
     "output_type": "stream",
     "text": [
      "Training Epoch 256: 100%|██████████| 284/284 [00:08<00:00, 32.62it/s]\n",
      "Validation Epoch 256: 100%|██████████| 71/71 [00:10<00:00,  6.99it/s]\n"
     ]
    },
    {
     "name": "stdout",
     "output_type": "stream",
     "text": [
      "Epoch 257/400\n"
     ]
    },
    {
     "name": "stderr",
     "output_type": "stream",
     "text": [
      "Training Epoch 257: 100%|██████████| 284/284 [00:08<00:00, 32.82it/s]\n",
      "Validation Epoch 257: 100%|██████████| 71/71 [00:10<00:00,  7.06it/s]\n"
     ]
    },
    {
     "name": "stdout",
     "output_type": "stream",
     "text": [
      "Epoch 258/400\n"
     ]
    },
    {
     "name": "stderr",
     "output_type": "stream",
     "text": [
      "Training Epoch 258: 100%|██████████| 284/284 [00:08<00:00, 32.55it/s]\n",
      "Validation Epoch 258: 100%|██████████| 71/71 [00:10<00:00,  7.00it/s]\n"
     ]
    },
    {
     "name": "stdout",
     "output_type": "stream",
     "text": [
      "Epoch 259/400\n"
     ]
    },
    {
     "name": "stderr",
     "output_type": "stream",
     "text": [
      "Training Epoch 259: 100%|██████████| 284/284 [00:08<00:00, 32.39it/s]\n",
      "Validation Epoch 259: 100%|██████████| 71/71 [00:10<00:00,  6.95it/s]\n"
     ]
    },
    {
     "name": "stdout",
     "output_type": "stream",
     "text": [
      "Epoch 260/400\n"
     ]
    },
    {
     "name": "stderr",
     "output_type": "stream",
     "text": [
      "Training Epoch 260: 100%|██████████| 284/284 [00:08<00:00, 32.15it/s]\n",
      "Validation Epoch 260: 100%|██████████| 71/71 [00:10<00:00,  6.88it/s]\n"
     ]
    },
    {
     "name": "stdout",
     "output_type": "stream",
     "text": [
      "Epoch 261/400\n"
     ]
    },
    {
     "name": "stderr",
     "output_type": "stream",
     "text": [
      "Training Epoch 261: 100%|██████████| 284/284 [00:08<00:00, 32.61it/s]\n",
      "Validation Epoch 261: 100%|██████████| 71/71 [00:10<00:00,  6.95it/s]\n"
     ]
    },
    {
     "name": "stdout",
     "output_type": "stream",
     "text": [
      "Epoch 262/400\n"
     ]
    },
    {
     "name": "stderr",
     "output_type": "stream",
     "text": [
      "Training Epoch 262: 100%|██████████| 284/284 [00:08<00:00, 32.70it/s]\n",
      "Validation Epoch 262: 100%|██████████| 71/71 [00:10<00:00,  6.98it/s]\n"
     ]
    },
    {
     "name": "stdout",
     "output_type": "stream",
     "text": [
      "Epoch 263/400\n"
     ]
    },
    {
     "name": "stderr",
     "output_type": "stream",
     "text": [
      "Training Epoch 263: 100%|██████████| 284/284 [00:09<00:00, 31.17it/s]\n",
      "Validation Epoch 263: 100%|██████████| 71/71 [00:10<00:00,  6.68it/s]\n"
     ]
    },
    {
     "name": "stdout",
     "output_type": "stream",
     "text": [
      "Epoch 264/400\n"
     ]
    },
    {
     "name": "stderr",
     "output_type": "stream",
     "text": [
      "Training Epoch 264: 100%|██████████| 284/284 [00:08<00:00, 31.81it/s]\n",
      "Validation Epoch 264: 100%|██████████| 71/71 [00:10<00:00,  6.83it/s]\n"
     ]
    },
    {
     "name": "stdout",
     "output_type": "stream",
     "text": [
      "Epoch 265/400\n"
     ]
    },
    {
     "name": "stderr",
     "output_type": "stream",
     "text": [
      "Training Epoch 265: 100%|██████████| 284/284 [00:08<00:00, 32.66it/s]\n",
      "Validation Epoch 265: 100%|██████████| 71/71 [00:10<00:00,  6.99it/s]\n"
     ]
    },
    {
     "name": "stdout",
     "output_type": "stream",
     "text": [
      "Epoch 266/400\n"
     ]
    },
    {
     "name": "stderr",
     "output_type": "stream",
     "text": [
      "Training Epoch 266: 100%|██████████| 284/284 [00:08<00:00, 32.33it/s]\n",
      "Validation Epoch 266: 100%|██████████| 71/71 [00:10<00:00,  6.94it/s]\n"
     ]
    },
    {
     "name": "stdout",
     "output_type": "stream",
     "text": [
      "Epoch 267/400\n"
     ]
    },
    {
     "name": "stderr",
     "output_type": "stream",
     "text": [
      "Training Epoch 267: 100%|██████████| 284/284 [00:08<00:00, 32.27it/s]\n",
      "Validation Epoch 267: 100%|██████████| 71/71 [00:10<00:00,  6.90it/s]\n"
     ]
    },
    {
     "name": "stdout",
     "output_type": "stream",
     "text": [
      "Epoch 268/400\n"
     ]
    },
    {
     "name": "stderr",
     "output_type": "stream",
     "text": [
      "Training Epoch 268: 100%|██████████| 284/284 [00:08<00:00, 31.58it/s]\n",
      "Validation Epoch 268: 100%|██████████| 71/71 [00:10<00:00,  6.79it/s]\n"
     ]
    },
    {
     "name": "stdout",
     "output_type": "stream",
     "text": [
      "Epoch 269/400\n"
     ]
    },
    {
     "name": "stderr",
     "output_type": "stream",
     "text": [
      "Training Epoch 269: 100%|██████████| 284/284 [00:08<00:00, 32.24it/s]\n",
      "Validation Epoch 269: 100%|██████████| 71/71 [00:10<00:00,  6.93it/s]\n"
     ]
    },
    {
     "name": "stdout",
     "output_type": "stream",
     "text": [
      "Epoch 270/400\n"
     ]
    },
    {
     "name": "stderr",
     "output_type": "stream",
     "text": [
      "Training Epoch 270: 100%|██████████| 284/284 [00:09<00:00, 31.23it/s]\n",
      "Validation Epoch 270: 100%|██████████| 71/71 [00:10<00:00,  6.70it/s]\n"
     ]
    },
    {
     "name": "stdout",
     "output_type": "stream",
     "text": [
      "Epoch 271/400\n"
     ]
    },
    {
     "name": "stderr",
     "output_type": "stream",
     "text": [
      "Training Epoch 271: 100%|██████████| 284/284 [00:08<00:00, 31.99it/s]\n",
      "Validation Epoch 271: 100%|██████████| 71/71 [00:10<00:00,  6.78it/s]\n"
     ]
    },
    {
     "name": "stdout",
     "output_type": "stream",
     "text": [
      "Epoch 272/400\n"
     ]
    },
    {
     "name": "stderr",
     "output_type": "stream",
     "text": [
      "Training Epoch 272: 100%|██████████| 284/284 [00:08<00:00, 31.93it/s]\n",
      "Validation Epoch 272: 100%|██████████| 71/71 [00:10<00:00,  6.81it/s]\n"
     ]
    },
    {
     "name": "stdout",
     "output_type": "stream",
     "text": [
      "Epoch 273/400\n"
     ]
    },
    {
     "name": "stderr",
     "output_type": "stream",
     "text": [
      "Training Epoch 273: 100%|██████████| 284/284 [00:08<00:00, 32.28it/s]\n",
      "Validation Epoch 273: 100%|██████████| 71/71 [00:10<00:00,  6.93it/s]\n"
     ]
    },
    {
     "name": "stdout",
     "output_type": "stream",
     "text": [
      "Epoch 274/400\n"
     ]
    },
    {
     "name": "stderr",
     "output_type": "stream",
     "text": [
      "Training Epoch 274: 100%|██████████| 284/284 [00:09<00:00, 31.33it/s]\n",
      "Validation Epoch 274: 100%|██████████| 71/71 [00:10<00:00,  6.68it/s]\n"
     ]
    },
    {
     "name": "stdout",
     "output_type": "stream",
     "text": [
      "Epoch 275/400\n"
     ]
    },
    {
     "name": "stderr",
     "output_type": "stream",
     "text": [
      "Training Epoch 275: 100%|██████████| 284/284 [00:08<00:00, 31.61it/s]\n",
      "Validation Epoch 275: 100%|██████████| 71/71 [00:10<00:00,  6.83it/s]\n"
     ]
    },
    {
     "name": "stdout",
     "output_type": "stream",
     "text": [
      "Epoch 276/400\n"
     ]
    },
    {
     "name": "stderr",
     "output_type": "stream",
     "text": [
      "Training Epoch 276: 100%|██████████| 284/284 [00:08<00:00, 32.07it/s]\n",
      "Validation Epoch 276: 100%|██████████| 71/71 [00:10<00:00,  6.88it/s]\n"
     ]
    },
    {
     "name": "stdout",
     "output_type": "stream",
     "text": [
      "Epoch 277/400\n"
     ]
    },
    {
     "name": "stderr",
     "output_type": "stream",
     "text": [
      "Training Epoch 277: 100%|██████████| 284/284 [00:08<00:00, 32.97it/s]\n",
      "Validation Epoch 277: 100%|██████████| 71/71 [00:10<00:00,  7.00it/s]\n"
     ]
    },
    {
     "name": "stdout",
     "output_type": "stream",
     "text": [
      "Epoch 278/400\n"
     ]
    },
    {
     "name": "stderr",
     "output_type": "stream",
     "text": [
      "Training Epoch 278: 100%|██████████| 284/284 [00:08<00:00, 32.15it/s]\n",
      "Validation Epoch 278: 100%|██████████| 71/71 [00:10<00:00,  6.85it/s]\n"
     ]
    },
    {
     "name": "stdout",
     "output_type": "stream",
     "text": [
      "Epoch 279/400\n"
     ]
    },
    {
     "name": "stderr",
     "output_type": "stream",
     "text": [
      "Training Epoch 279: 100%|██████████| 284/284 [00:09<00:00, 31.23it/s]\n",
      "Validation Epoch 279: 100%|██████████| 71/71 [00:10<00:00,  6.68it/s]\n"
     ]
    },
    {
     "name": "stdout",
     "output_type": "stream",
     "text": [
      "Epoch 280/400\n"
     ]
    },
    {
     "name": "stderr",
     "output_type": "stream",
     "text": [
      "Training Epoch 280: 100%|██████████| 284/284 [00:08<00:00, 32.12it/s]\n",
      "Validation Epoch 280: 100%|██████████| 71/71 [00:10<00:00,  6.88it/s]\n"
     ]
    },
    {
     "name": "stdout",
     "output_type": "stream",
     "text": [
      "Epoch 281/400\n"
     ]
    },
    {
     "name": "stderr",
     "output_type": "stream",
     "text": [
      "Training Epoch 281: 100%|██████████| 284/284 [00:08<00:00, 31.84it/s]\n",
      "Validation Epoch 281: 100%|██████████| 71/71 [00:10<00:00,  6.82it/s]\n"
     ]
    },
    {
     "name": "stdout",
     "output_type": "stream",
     "text": [
      "Epoch 282/400\n"
     ]
    },
    {
     "name": "stderr",
     "output_type": "stream",
     "text": [
      "Training Epoch 282: 100%|██████████| 284/284 [00:08<00:00, 32.44it/s]\n",
      "Validation Epoch 282: 100%|██████████| 71/71 [00:10<00:00,  6.93it/s]\n"
     ]
    },
    {
     "name": "stdout",
     "output_type": "stream",
     "text": [
      "Epoch 283/400\n"
     ]
    },
    {
     "name": "stderr",
     "output_type": "stream",
     "text": [
      "Training Epoch 283: 100%|██████████| 284/284 [00:08<00:00, 32.86it/s]\n",
      "Validation Epoch 283: 100%|██████████| 71/71 [00:10<00:00,  6.93it/s]\n"
     ]
    },
    {
     "name": "stdout",
     "output_type": "stream",
     "text": [
      "Epoch 284/400\n"
     ]
    },
    {
     "name": "stderr",
     "output_type": "stream",
     "text": [
      "Training Epoch 284: 100%|██████████| 284/284 [00:08<00:00, 32.91it/s]\n",
      "Validation Epoch 284: 100%|██████████| 71/71 [00:10<00:00,  6.98it/s]\n"
     ]
    },
    {
     "name": "stdout",
     "output_type": "stream",
     "text": [
      "Epoch 285/400\n"
     ]
    },
    {
     "name": "stderr",
     "output_type": "stream",
     "text": [
      "Training Epoch 285: 100%|██████████| 284/284 [00:08<00:00, 32.90it/s]\n",
      "Validation Epoch 285: 100%|██████████| 71/71 [00:10<00:00,  7.03it/s]\n"
     ]
    },
    {
     "name": "stdout",
     "output_type": "stream",
     "text": [
      "Epoch 286/400\n"
     ]
    },
    {
     "name": "stderr",
     "output_type": "stream",
     "text": [
      "Training Epoch 286: 100%|██████████| 284/284 [00:08<00:00, 32.53it/s]\n",
      "Validation Epoch 286: 100%|██████████| 71/71 [00:10<00:00,  6.97it/s]\n"
     ]
    },
    {
     "name": "stdout",
     "output_type": "stream",
     "text": [
      "Epoch 287/400\n"
     ]
    },
    {
     "name": "stderr",
     "output_type": "stream",
     "text": [
      "Training Epoch 287: 100%|██████████| 284/284 [00:08<00:00, 32.98it/s]\n",
      "Validation Epoch 287: 100%|██████████| 71/71 [00:10<00:00,  7.04it/s]\n"
     ]
    },
    {
     "name": "stdout",
     "output_type": "stream",
     "text": [
      "Epoch 288/400\n"
     ]
    },
    {
     "name": "stderr",
     "output_type": "stream",
     "text": [
      "Training Epoch 288: 100%|██████████| 284/284 [00:08<00:00, 32.52it/s]\n",
      "Validation Epoch 288: 100%|██████████| 71/71 [00:10<00:00,  6.90it/s]\n"
     ]
    },
    {
     "name": "stdout",
     "output_type": "stream",
     "text": [
      "Epoch 289/400\n"
     ]
    },
    {
     "name": "stderr",
     "output_type": "stream",
     "text": [
      "Training Epoch 289: 100%|██████████| 284/284 [00:08<00:00, 33.02it/s]\n",
      "Validation Epoch 289: 100%|██████████| 71/71 [00:09<00:00,  7.12it/s]\n"
     ]
    },
    {
     "name": "stdout",
     "output_type": "stream",
     "text": [
      "Epoch 290/400\n"
     ]
    },
    {
     "name": "stderr",
     "output_type": "stream",
     "text": [
      "Training Epoch 290: 100%|██████████| 284/284 [00:08<00:00, 33.13it/s]\n",
      "Validation Epoch 290: 100%|██████████| 71/71 [00:10<00:00,  7.02it/s]\n"
     ]
    },
    {
     "name": "stdout",
     "output_type": "stream",
     "text": [
      "Epoch 291/400\n"
     ]
    },
    {
     "name": "stderr",
     "output_type": "stream",
     "text": [
      "Training Epoch 291: 100%|██████████| 284/284 [00:08<00:00, 31.97it/s]\n",
      "Validation Epoch 291: 100%|██████████| 71/71 [00:10<00:00,  6.90it/s]\n"
     ]
    },
    {
     "name": "stdout",
     "output_type": "stream",
     "text": [
      "Epoch 292/400\n"
     ]
    },
    {
     "name": "stderr",
     "output_type": "stream",
     "text": [
      "Training Epoch 292: 100%|██████████| 284/284 [00:09<00:00, 30.86it/s]\n",
      "Validation Epoch 292: 100%|██████████| 71/71 [00:10<00:00,  6.65it/s]\n"
     ]
    },
    {
     "name": "stdout",
     "output_type": "stream",
     "text": [
      "Epoch 293/400\n"
     ]
    },
    {
     "name": "stderr",
     "output_type": "stream",
     "text": [
      "Training Epoch 293: 100%|██████████| 284/284 [00:08<00:00, 32.24it/s]\n",
      "Validation Epoch 293: 100%|██████████| 71/71 [00:10<00:00,  6.90it/s]\n"
     ]
    },
    {
     "name": "stdout",
     "output_type": "stream",
     "text": [
      "Epoch 294/400\n"
     ]
    },
    {
     "name": "stderr",
     "output_type": "stream",
     "text": [
      "Training Epoch 294: 100%|██████████| 284/284 [00:08<00:00, 32.08it/s]\n",
      "Validation Epoch 294: 100%|██████████| 71/71 [00:10<00:00,  6.90it/s]\n"
     ]
    },
    {
     "name": "stdout",
     "output_type": "stream",
     "text": [
      "Epoch 295/400\n"
     ]
    },
    {
     "name": "stderr",
     "output_type": "stream",
     "text": [
      "Training Epoch 295: 100%|██████████| 284/284 [00:08<00:00, 32.14it/s]\n",
      "Validation Epoch 295: 100%|██████████| 71/71 [00:10<00:00,  6.83it/s]\n"
     ]
    },
    {
     "name": "stdout",
     "output_type": "stream",
     "text": [
      "Epoch 296/400\n"
     ]
    },
    {
     "name": "stderr",
     "output_type": "stream",
     "text": [
      "Training Epoch 296: 100%|██████████| 284/284 [00:08<00:00, 32.34it/s]\n",
      "Validation Epoch 296: 100%|██████████| 71/71 [00:10<00:00,  6.89it/s]\n"
     ]
    },
    {
     "name": "stdout",
     "output_type": "stream",
     "text": [
      "Epoch 297/400\n"
     ]
    },
    {
     "name": "stderr",
     "output_type": "stream",
     "text": [
      "Training Epoch 297: 100%|██████████| 284/284 [00:08<00:00, 32.53it/s]\n",
      "Validation Epoch 297: 100%|██████████| 71/71 [00:10<00:00,  6.87it/s]\n"
     ]
    },
    {
     "name": "stdout",
     "output_type": "stream",
     "text": [
      "Epoch 298/400\n"
     ]
    },
    {
     "name": "stderr",
     "output_type": "stream",
     "text": [
      "Training Epoch 298: 100%|██████████| 284/284 [00:08<00:00, 32.08it/s]\n",
      "Validation Epoch 298: 100%|██████████| 71/71 [00:10<00:00,  6.87it/s]\n"
     ]
    },
    {
     "name": "stdout",
     "output_type": "stream",
     "text": [
      "Epoch 299/400\n"
     ]
    },
    {
     "name": "stderr",
     "output_type": "stream",
     "text": [
      "Training Epoch 299: 100%|██████████| 284/284 [00:09<00:00, 31.46it/s]\n",
      "Validation Epoch 299: 100%|██████████| 71/71 [00:10<00:00,  6.77it/s]\n"
     ]
    },
    {
     "name": "stdout",
     "output_type": "stream",
     "text": [
      "Epoch 300/400\n"
     ]
    },
    {
     "name": "stderr",
     "output_type": "stream",
     "text": [
      "Training Epoch 300: 100%|██████████| 284/284 [00:08<00:00, 32.33it/s]\n",
      "Validation Epoch 300: 100%|██████████| 71/71 [00:10<00:00,  6.95it/s]\n"
     ]
    },
    {
     "name": "stdout",
     "output_type": "stream",
     "text": [
      "Epoch 301/400\n"
     ]
    },
    {
     "name": "stderr",
     "output_type": "stream",
     "text": [
      "Training Epoch 301: 100%|██████████| 284/284 [00:08<00:00, 33.44it/s]\n",
      "Validation Epoch 301: 100%|██████████| 71/71 [00:09<00:00,  7.15it/s]\n"
     ]
    },
    {
     "name": "stdout",
     "output_type": "stream",
     "text": [
      "Epoch 302/400\n"
     ]
    },
    {
     "name": "stderr",
     "output_type": "stream",
     "text": [
      "Training Epoch 302: 100%|██████████| 284/284 [00:08<00:00, 32.61it/s]\n",
      "Validation Epoch 302: 100%|██████████| 71/71 [00:10<00:00,  6.96it/s]\n"
     ]
    },
    {
     "name": "stdout",
     "output_type": "stream",
     "text": [
      "Epoch 303/400\n"
     ]
    },
    {
     "name": "stderr",
     "output_type": "stream",
     "text": [
      "Training Epoch 303: 100%|██████████| 284/284 [00:08<00:00, 31.67it/s]\n",
      "Validation Epoch 303: 100%|██████████| 71/71 [00:10<00:00,  6.82it/s]\n"
     ]
    },
    {
     "name": "stdout",
     "output_type": "stream",
     "text": [
      "Epoch 304/400\n"
     ]
    },
    {
     "name": "stderr",
     "output_type": "stream",
     "text": [
      "Training Epoch 304: 100%|██████████| 284/284 [00:08<00:00, 32.49it/s]\n",
      "Validation Epoch 304: 100%|██████████| 71/71 [00:10<00:00,  6.95it/s]\n"
     ]
    },
    {
     "name": "stdout",
     "output_type": "stream",
     "text": [
      "Epoch 305/400\n"
     ]
    },
    {
     "name": "stderr",
     "output_type": "stream",
     "text": [
      "Training Epoch 305: 100%|██████████| 284/284 [00:08<00:00, 33.09it/s]\n",
      "Validation Epoch 305: 100%|██████████| 71/71 [00:10<00:00,  7.08it/s]\n"
     ]
    },
    {
     "name": "stdout",
     "output_type": "stream",
     "text": [
      "Epoch 306/400\n"
     ]
    },
    {
     "name": "stderr",
     "output_type": "stream",
     "text": [
      "Training Epoch 306: 100%|██████████| 284/284 [00:09<00:00, 31.30it/s]\n",
      "Validation Epoch 306: 100%|██████████| 71/71 [00:10<00:00,  6.72it/s]\n"
     ]
    },
    {
     "name": "stdout",
     "output_type": "stream",
     "text": [
      "Epoch 307/400\n"
     ]
    },
    {
     "name": "stderr",
     "output_type": "stream",
     "text": [
      "Training Epoch 307: 100%|██████████| 284/284 [00:08<00:00, 31.92it/s]\n",
      "Validation Epoch 307: 100%|██████████| 71/71 [00:10<00:00,  6.85it/s]\n"
     ]
    },
    {
     "name": "stdout",
     "output_type": "stream",
     "text": [
      "Epoch 308/400\n"
     ]
    },
    {
     "name": "stderr",
     "output_type": "stream",
     "text": [
      "Training Epoch 308: 100%|██████████| 284/284 [00:09<00:00, 31.29it/s]\n",
      "Validation Epoch 308: 100%|██████████| 71/71 [00:10<00:00,  6.68it/s]\n"
     ]
    },
    {
     "name": "stdout",
     "output_type": "stream",
     "text": [
      "Epoch 309/400\n"
     ]
    },
    {
     "name": "stderr",
     "output_type": "stream",
     "text": [
      "Training Epoch 309: 100%|██████████| 284/284 [00:08<00:00, 31.96it/s]\n",
      "Validation Epoch 309: 100%|██████████| 71/71 [00:10<00:00,  6.90it/s]\n"
     ]
    },
    {
     "name": "stdout",
     "output_type": "stream",
     "text": [
      "Epoch 310/400\n"
     ]
    },
    {
     "name": "stderr",
     "output_type": "stream",
     "text": [
      "Training Epoch 310: 100%|██████████| 284/284 [00:08<00:00, 32.05it/s]\n",
      "Validation Epoch 310: 100%|██████████| 71/71 [00:10<00:00,  6.94it/s]\n"
     ]
    },
    {
     "name": "stdout",
     "output_type": "stream",
     "text": [
      "Epoch 311/400\n"
     ]
    },
    {
     "name": "stderr",
     "output_type": "stream",
     "text": [
      "Training Epoch 311: 100%|██████████| 284/284 [00:08<00:00, 32.12it/s]\n",
      "Validation Epoch 311: 100%|██████████| 71/71 [00:10<00:00,  6.85it/s]\n"
     ]
    },
    {
     "name": "stdout",
     "output_type": "stream",
     "text": [
      "Epoch 312/400\n"
     ]
    },
    {
     "name": "stderr",
     "output_type": "stream",
     "text": [
      "Training Epoch 312: 100%|██████████| 284/284 [00:08<00:00, 33.18it/s]\n",
      "Validation Epoch 312: 100%|██████████| 71/71 [00:09<00:00,  7.11it/s]\n"
     ]
    },
    {
     "name": "stdout",
     "output_type": "stream",
     "text": [
      "Epoch 313/400\n"
     ]
    },
    {
     "name": "stderr",
     "output_type": "stream",
     "text": [
      "Training Epoch 313: 100%|██████████| 284/284 [00:08<00:00, 31.96it/s]\n",
      "Validation Epoch 313: 100%|██████████| 71/71 [00:10<00:00,  6.86it/s]\n"
     ]
    },
    {
     "name": "stdout",
     "output_type": "stream",
     "text": [
      "Epoch 314/400\n"
     ]
    },
    {
     "name": "stderr",
     "output_type": "stream",
     "text": [
      "Training Epoch 314: 100%|██████████| 284/284 [00:08<00:00, 31.74it/s]\n",
      "Validation Epoch 314: 100%|██████████| 71/71 [00:10<00:00,  6.81it/s]\n"
     ]
    },
    {
     "name": "stdout",
     "output_type": "stream",
     "text": [
      "Epoch 315/400\n"
     ]
    },
    {
     "name": "stderr",
     "output_type": "stream",
     "text": [
      "Training Epoch 315: 100%|██████████| 284/284 [00:08<00:00, 32.08it/s]\n",
      "Validation Epoch 315: 100%|██████████| 71/71 [00:10<00:00,  6.90it/s]\n"
     ]
    },
    {
     "name": "stdout",
     "output_type": "stream",
     "text": [
      "Epoch 316/400\n"
     ]
    },
    {
     "name": "stderr",
     "output_type": "stream",
     "text": [
      "Training Epoch 316: 100%|██████████| 284/284 [00:08<00:00, 31.82it/s]\n",
      "Validation Epoch 316: 100%|██████████| 71/71 [00:10<00:00,  6.83it/s]\n"
     ]
    },
    {
     "name": "stdout",
     "output_type": "stream",
     "text": [
      "Epoch 317/400\n"
     ]
    },
    {
     "name": "stderr",
     "output_type": "stream",
     "text": [
      "Training Epoch 317: 100%|██████████| 284/284 [00:08<00:00, 32.63it/s]\n",
      "Validation Epoch 317: 100%|██████████| 71/71 [00:10<00:00,  7.01it/s]\n"
     ]
    },
    {
     "name": "stdout",
     "output_type": "stream",
     "text": [
      "Epoch 318/400\n"
     ]
    },
    {
     "name": "stderr",
     "output_type": "stream",
     "text": [
      "Training Epoch 318: 100%|██████████| 284/284 [00:09<00:00, 31.49it/s]\n",
      "Validation Epoch 318: 100%|██████████| 71/71 [00:10<00:00,  6.75it/s]\n"
     ]
    },
    {
     "name": "stdout",
     "output_type": "stream",
     "text": [
      "Epoch 319/400\n"
     ]
    },
    {
     "name": "stderr",
     "output_type": "stream",
     "text": [
      "Training Epoch 319: 100%|██████████| 284/284 [00:08<00:00, 31.70it/s]\n",
      "Validation Epoch 319: 100%|██████████| 71/71 [00:10<00:00,  6.87it/s]\n"
     ]
    },
    {
     "name": "stdout",
     "output_type": "stream",
     "text": [
      "Epoch 320/400\n"
     ]
    },
    {
     "name": "stderr",
     "output_type": "stream",
     "text": [
      "Training Epoch 320: 100%|██████████| 284/284 [00:08<00:00, 31.88it/s]\n",
      "Validation Epoch 320: 100%|██████████| 71/71 [00:10<00:00,  6.88it/s]\n"
     ]
    },
    {
     "name": "stdout",
     "output_type": "stream",
     "text": [
      "Epoch 321/400\n"
     ]
    },
    {
     "name": "stderr",
     "output_type": "stream",
     "text": [
      "Training Epoch 321: 100%|██████████| 284/284 [00:08<00:00, 32.54it/s]\n",
      "Validation Epoch 321: 100%|██████████| 71/71 [00:10<00:00,  6.98it/s]\n"
     ]
    },
    {
     "name": "stdout",
     "output_type": "stream",
     "text": [
      "Epoch 322/400\n"
     ]
    },
    {
     "name": "stderr",
     "output_type": "stream",
     "text": [
      "Training Epoch 322: 100%|██████████| 284/284 [00:08<00:00, 33.44it/s]\n",
      "Validation Epoch 322: 100%|██████████| 71/71 [00:09<00:00,  7.12it/s]\n"
     ]
    },
    {
     "name": "stdout",
     "output_type": "stream",
     "text": [
      "Epoch 323/400\n"
     ]
    },
    {
     "name": "stderr",
     "output_type": "stream",
     "text": [
      "Training Epoch 323: 100%|██████████| 284/284 [00:08<00:00, 32.26it/s]\n",
      "Validation Epoch 323: 100%|██████████| 71/71 [00:10<00:00,  6.93it/s]\n"
     ]
    },
    {
     "name": "stdout",
     "output_type": "stream",
     "text": [
      "Epoch 324/400\n"
     ]
    },
    {
     "name": "stderr",
     "output_type": "stream",
     "text": [
      "Training Epoch 324: 100%|██████████| 284/284 [00:09<00:00, 31.34it/s]\n",
      "Validation Epoch 324: 100%|██████████| 71/71 [00:10<00:00,  6.79it/s]\n"
     ]
    },
    {
     "name": "stdout",
     "output_type": "stream",
     "text": [
      "Epoch 325/400\n"
     ]
    },
    {
     "name": "stderr",
     "output_type": "stream",
     "text": [
      "Training Epoch 325: 100%|██████████| 284/284 [00:08<00:00, 32.67it/s]\n",
      "Validation Epoch 325: 100%|██████████| 71/71 [00:10<00:00,  6.91it/s]\n"
     ]
    },
    {
     "name": "stdout",
     "output_type": "stream",
     "text": [
      "Epoch 326/400\n"
     ]
    },
    {
     "name": "stderr",
     "output_type": "stream",
     "text": [
      "Training Epoch 326: 100%|██████████| 284/284 [00:08<00:00, 32.00it/s]\n",
      "Validation Epoch 326: 100%|██████████| 71/71 [00:10<00:00,  6.89it/s]\n"
     ]
    },
    {
     "name": "stdout",
     "output_type": "stream",
     "text": [
      "Epoch 327/400\n"
     ]
    },
    {
     "name": "stderr",
     "output_type": "stream",
     "text": [
      "Training Epoch 327: 100%|██████████| 284/284 [00:08<00:00, 32.05it/s]\n",
      "Validation Epoch 327: 100%|██████████| 71/71 [00:10<00:00,  6.84it/s]\n"
     ]
    },
    {
     "name": "stdout",
     "output_type": "stream",
     "text": [
      "Epoch 328/400\n"
     ]
    },
    {
     "name": "stderr",
     "output_type": "stream",
     "text": [
      "Training Epoch 328: 100%|██████████| 284/284 [00:08<00:00, 32.34it/s]\n",
      "Validation Epoch 328: 100%|██████████| 71/71 [00:10<00:00,  6.95it/s]\n"
     ]
    },
    {
     "name": "stdout",
     "output_type": "stream",
     "text": [
      "Epoch 329/400\n"
     ]
    },
    {
     "name": "stderr",
     "output_type": "stream",
     "text": [
      "Training Epoch 329: 100%|██████████| 284/284 [00:08<00:00, 32.81it/s]\n",
      "Validation Epoch 329: 100%|██████████| 71/71 [00:10<00:00,  7.08it/s]\n"
     ]
    },
    {
     "name": "stdout",
     "output_type": "stream",
     "text": [
      "Epoch 330/400\n"
     ]
    },
    {
     "name": "stderr",
     "output_type": "stream",
     "text": [
      "Training Epoch 330: 100%|██████████| 284/284 [00:09<00:00, 31.25it/s]\n",
      "Validation Epoch 330: 100%|██████████| 71/71 [00:10<00:00,  6.74it/s]\n"
     ]
    },
    {
     "name": "stdout",
     "output_type": "stream",
     "text": [
      "Epoch 331/400\n"
     ]
    },
    {
     "name": "stderr",
     "output_type": "stream",
     "text": [
      "Training Epoch 331: 100%|██████████| 284/284 [00:09<00:00, 31.16it/s]\n",
      "Validation Epoch 331: 100%|██████████| 71/71 [00:10<00:00,  6.71it/s]\n"
     ]
    },
    {
     "name": "stdout",
     "output_type": "stream",
     "text": [
      "Epoch 332/400\n"
     ]
    },
    {
     "name": "stderr",
     "output_type": "stream",
     "text": [
      "Training Epoch 332: 100%|██████████| 284/284 [00:08<00:00, 32.26it/s]\n",
      "Validation Epoch 332: 100%|██████████| 71/71 [00:10<00:00,  6.89it/s]\n"
     ]
    },
    {
     "name": "stdout",
     "output_type": "stream",
     "text": [
      "Epoch 333/400\n"
     ]
    },
    {
     "name": "stderr",
     "output_type": "stream",
     "text": [
      "Training Epoch 333: 100%|██████████| 284/284 [00:08<00:00, 33.09it/s]\n",
      "Validation Epoch 333: 100%|██████████| 71/71 [00:10<00:00,  7.07it/s]\n"
     ]
    },
    {
     "name": "stdout",
     "output_type": "stream",
     "text": [
      "Epoch 334/400\n"
     ]
    },
    {
     "name": "stderr",
     "output_type": "stream",
     "text": [
      "Training Epoch 334: 100%|██████████| 284/284 [00:08<00:00, 32.20it/s]\n",
      "Validation Epoch 334: 100%|██████████| 71/71 [00:10<00:00,  6.96it/s]\n"
     ]
    },
    {
     "name": "stdout",
     "output_type": "stream",
     "text": [
      "Epoch 335/400\n"
     ]
    },
    {
     "name": "stderr",
     "output_type": "stream",
     "text": [
      "Training Epoch 335: 100%|██████████| 284/284 [00:08<00:00, 32.65it/s]\n",
      "Validation Epoch 335: 100%|██████████| 71/71 [00:10<00:00,  6.98it/s]\n"
     ]
    },
    {
     "name": "stdout",
     "output_type": "stream",
     "text": [
      "Epoch 336/400\n"
     ]
    },
    {
     "name": "stderr",
     "output_type": "stream",
     "text": [
      "Training Epoch 336: 100%|██████████| 284/284 [00:08<00:00, 32.31it/s]\n",
      "Validation Epoch 336: 100%|██████████| 71/71 [00:10<00:00,  6.93it/s]\n"
     ]
    },
    {
     "name": "stdout",
     "output_type": "stream",
     "text": [
      "Epoch 337/400\n"
     ]
    },
    {
     "name": "stderr",
     "output_type": "stream",
     "text": [
      "Training Epoch 337: 100%|██████████| 284/284 [00:08<00:00, 32.24it/s]\n",
      "Validation Epoch 337: 100%|██████████| 71/71 [00:10<00:00,  6.93it/s]\n"
     ]
    },
    {
     "name": "stdout",
     "output_type": "stream",
     "text": [
      "Epoch 338/400\n"
     ]
    },
    {
     "name": "stderr",
     "output_type": "stream",
     "text": [
      "Training Epoch 338: 100%|██████████| 284/284 [00:08<00:00, 32.52it/s]\n",
      "Validation Epoch 338: 100%|██████████| 71/71 [00:10<00:00,  6.99it/s]\n"
     ]
    },
    {
     "name": "stdout",
     "output_type": "stream",
     "text": [
      "Epoch 339/400\n"
     ]
    },
    {
     "name": "stderr",
     "output_type": "stream",
     "text": [
      "Training Epoch 339: 100%|██████████| 284/284 [00:08<00:00, 33.29it/s]\n",
      "Validation Epoch 339: 100%|██████████| 71/71 [00:10<00:00,  7.04it/s]\n"
     ]
    },
    {
     "name": "stdout",
     "output_type": "stream",
     "text": [
      "Epoch 340/400\n"
     ]
    },
    {
     "name": "stderr",
     "output_type": "stream",
     "text": [
      "Training Epoch 340: 100%|██████████| 284/284 [00:08<00:00, 32.21it/s]\n",
      "Validation Epoch 340: 100%|██████████| 71/71 [00:10<00:00,  6.89it/s]\n"
     ]
    },
    {
     "name": "stdout",
     "output_type": "stream",
     "text": [
      "Epoch 341/400\n"
     ]
    },
    {
     "name": "stderr",
     "output_type": "stream",
     "text": [
      "Training Epoch 341: 100%|██████████| 284/284 [00:08<00:00, 33.70it/s]\n",
      "Validation Epoch 341: 100%|██████████| 71/71 [00:09<00:00,  7.24it/s]\n"
     ]
    },
    {
     "name": "stdout",
     "output_type": "stream",
     "text": [
      "Epoch 342/400\n"
     ]
    },
    {
     "name": "stderr",
     "output_type": "stream",
     "text": [
      "Training Epoch 342: 100%|██████████| 284/284 [00:09<00:00, 31.28it/s]\n",
      "Validation Epoch 342: 100%|██████████| 71/71 [00:10<00:00,  6.73it/s]\n"
     ]
    },
    {
     "name": "stdout",
     "output_type": "stream",
     "text": [
      "Epoch 343/400\n"
     ]
    },
    {
     "name": "stderr",
     "output_type": "stream",
     "text": [
      "Training Epoch 343: 100%|██████████| 284/284 [00:08<00:00, 31.96it/s]\n",
      "Validation Epoch 343: 100%|██████████| 71/71 [00:10<00:00,  6.84it/s]\n"
     ]
    },
    {
     "name": "stdout",
     "output_type": "stream",
     "text": [
      "Epoch 344/400\n"
     ]
    },
    {
     "name": "stderr",
     "output_type": "stream",
     "text": [
      "Training Epoch 344: 100%|██████████| 284/284 [00:08<00:00, 32.89it/s]\n",
      "Validation Epoch 344: 100%|██████████| 71/71 [00:10<00:00,  7.00it/s]\n"
     ]
    },
    {
     "name": "stdout",
     "output_type": "stream",
     "text": [
      "Epoch 345/400\n"
     ]
    },
    {
     "name": "stderr",
     "output_type": "stream",
     "text": [
      "Training Epoch 345: 100%|██████████| 284/284 [00:08<00:00, 32.10it/s]\n",
      "Validation Epoch 345: 100%|██████████| 71/71 [00:10<00:00,  6.88it/s]\n"
     ]
    },
    {
     "name": "stdout",
     "output_type": "stream",
     "text": [
      "Epoch 346/400\n"
     ]
    },
    {
     "name": "stderr",
     "output_type": "stream",
     "text": [
      "Training Epoch 346: 100%|██████████| 284/284 [00:08<00:00, 32.77it/s]\n",
      "Validation Epoch 346: 100%|██████████| 71/71 [00:10<00:00,  6.94it/s]\n"
     ]
    },
    {
     "name": "stdout",
     "output_type": "stream",
     "text": [
      "Epoch 347/400\n"
     ]
    },
    {
     "name": "stderr",
     "output_type": "stream",
     "text": [
      "Training Epoch 347: 100%|██████████| 284/284 [00:09<00:00, 31.10it/s]\n",
      "Validation Epoch 347: 100%|██████████| 71/71 [00:10<00:00,  6.70it/s]\n"
     ]
    },
    {
     "name": "stdout",
     "output_type": "stream",
     "text": [
      "Epoch 348/400\n"
     ]
    },
    {
     "name": "stderr",
     "output_type": "stream",
     "text": [
      "Training Epoch 348: 100%|██████████| 284/284 [00:09<00:00, 31.55it/s]\n",
      "Validation Epoch 348: 100%|██████████| 71/71 [00:10<00:00,  6.73it/s]\n"
     ]
    },
    {
     "name": "stdout",
     "output_type": "stream",
     "text": [
      "Epoch 349/400\n"
     ]
    },
    {
     "name": "stderr",
     "output_type": "stream",
     "text": [
      "Training Epoch 349: 100%|██████████| 284/284 [00:08<00:00, 33.32it/s]\n",
      "Validation Epoch 349: 100%|██████████| 71/71 [00:09<00:00,  7.15it/s]\n"
     ]
    },
    {
     "name": "stdout",
     "output_type": "stream",
     "text": [
      "Epoch 350/400\n"
     ]
    },
    {
     "name": "stderr",
     "output_type": "stream",
     "text": [
      "Training Epoch 350: 100%|██████████| 284/284 [00:08<00:00, 33.72it/s]\n",
      "Validation Epoch 350: 100%|██████████| 71/71 [00:09<00:00,  7.16it/s]\n"
     ]
    },
    {
     "name": "stdout",
     "output_type": "stream",
     "text": [
      "Epoch 351/400\n"
     ]
    },
    {
     "name": "stderr",
     "output_type": "stream",
     "text": [
      "Training Epoch 351: 100%|██████████| 284/284 [00:08<00:00, 32.26it/s]\n",
      "Validation Epoch 351: 100%|██████████| 71/71 [00:10<00:00,  6.89it/s]\n"
     ]
    },
    {
     "name": "stdout",
     "output_type": "stream",
     "text": [
      "Epoch 352/400\n"
     ]
    },
    {
     "name": "stderr",
     "output_type": "stream",
     "text": [
      "Training Epoch 352: 100%|██████████| 284/284 [00:08<00:00, 33.27it/s]\n",
      "Validation Epoch 352: 100%|██████████| 71/71 [00:09<00:00,  7.11it/s]\n"
     ]
    },
    {
     "name": "stdout",
     "output_type": "stream",
     "text": [
      "Epoch 353/400\n"
     ]
    },
    {
     "name": "stderr",
     "output_type": "stream",
     "text": [
      "Training Epoch 353: 100%|██████████| 284/284 [00:08<00:00, 33.51it/s]\n",
      "Validation Epoch 353: 100%|██████████| 71/71 [00:09<00:00,  7.11it/s]\n"
     ]
    },
    {
     "name": "stdout",
     "output_type": "stream",
     "text": [
      "Epoch 354/400\n"
     ]
    },
    {
     "name": "stderr",
     "output_type": "stream",
     "text": [
      "Training Epoch 354: 100%|██████████| 284/284 [00:08<00:00, 32.22it/s]\n",
      "Validation Epoch 354: 100%|██████████| 71/71 [00:10<00:00,  6.93it/s]\n"
     ]
    },
    {
     "name": "stdout",
     "output_type": "stream",
     "text": [
      "Epoch 355/400\n"
     ]
    },
    {
     "name": "stderr",
     "output_type": "stream",
     "text": [
      "Training Epoch 355: 100%|██████████| 284/284 [00:08<00:00, 32.93it/s]\n",
      "Validation Epoch 355: 100%|██████████| 71/71 [00:10<00:00,  7.07it/s]\n"
     ]
    },
    {
     "name": "stdout",
     "output_type": "stream",
     "text": [
      "Epoch 356/400\n"
     ]
    },
    {
     "name": "stderr",
     "output_type": "stream",
     "text": [
      "Training Epoch 356: 100%|██████████| 284/284 [00:08<00:00, 31.99it/s]\n",
      "Validation Epoch 356: 100%|██████████| 71/71 [00:10<00:00,  6.83it/s]\n"
     ]
    },
    {
     "name": "stdout",
     "output_type": "stream",
     "text": [
      "Epoch 357/400\n"
     ]
    },
    {
     "name": "stderr",
     "output_type": "stream",
     "text": [
      "Training Epoch 357: 100%|██████████| 284/284 [00:08<00:00, 33.58it/s]\n",
      "Validation Epoch 357: 100%|██████████| 71/71 [00:09<00:00,  7.13it/s]\n"
     ]
    },
    {
     "name": "stdout",
     "output_type": "stream",
     "text": [
      "Epoch 358/400\n"
     ]
    },
    {
     "name": "stderr",
     "output_type": "stream",
     "text": [
      "Training Epoch 358: 100%|██████████| 284/284 [00:08<00:00, 32.22it/s]\n",
      "Validation Epoch 358: 100%|██████████| 71/71 [00:10<00:00,  6.89it/s]\n"
     ]
    },
    {
     "name": "stdout",
     "output_type": "stream",
     "text": [
      "Epoch 359/400\n"
     ]
    },
    {
     "name": "stderr",
     "output_type": "stream",
     "text": [
      "Training Epoch 359: 100%|██████████| 284/284 [00:08<00:00, 32.60it/s]\n",
      "Validation Epoch 359: 100%|██████████| 71/71 [00:10<00:00,  6.97it/s]\n"
     ]
    },
    {
     "name": "stdout",
     "output_type": "stream",
     "text": [
      "Epoch 360/400\n"
     ]
    },
    {
     "name": "stderr",
     "output_type": "stream",
     "text": [
      "Training Epoch 360: 100%|██████████| 284/284 [00:08<00:00, 33.20it/s]\n",
      "Validation Epoch 360: 100%|██████████| 71/71 [00:10<00:00,  7.04it/s]\n"
     ]
    },
    {
     "name": "stdout",
     "output_type": "stream",
     "text": [
      "Epoch 361/400\n"
     ]
    },
    {
     "name": "stderr",
     "output_type": "stream",
     "text": [
      "Training Epoch 361: 100%|██████████| 284/284 [00:08<00:00, 32.55it/s]\n",
      "Validation Epoch 361: 100%|██████████| 71/71 [00:10<00:00,  6.98it/s]\n"
     ]
    },
    {
     "name": "stdout",
     "output_type": "stream",
     "text": [
      "Epoch 362/400\n"
     ]
    },
    {
     "name": "stderr",
     "output_type": "stream",
     "text": [
      "Training Epoch 362: 100%|██████████| 284/284 [00:08<00:00, 32.54it/s]\n",
      "Validation Epoch 362: 100%|██████████| 71/71 [00:10<00:00,  6.99it/s]\n"
     ]
    },
    {
     "name": "stdout",
     "output_type": "stream",
     "text": [
      "Epoch 363/400\n"
     ]
    },
    {
     "name": "stderr",
     "output_type": "stream",
     "text": [
      "Training Epoch 363: 100%|██████████| 284/284 [00:08<00:00, 31.79it/s]\n",
      "Validation Epoch 363: 100%|██████████| 71/71 [00:10<00:00,  6.85it/s]\n"
     ]
    },
    {
     "name": "stdout",
     "output_type": "stream",
     "text": [
      "Epoch 364/400\n"
     ]
    },
    {
     "name": "stderr",
     "output_type": "stream",
     "text": [
      "Training Epoch 364: 100%|██████████| 284/284 [00:09<00:00, 31.09it/s]\n",
      "Validation Epoch 364: 100%|██████████| 71/71 [00:10<00:00,  6.68it/s]\n"
     ]
    },
    {
     "name": "stdout",
     "output_type": "stream",
     "text": [
      "Epoch 365/400\n"
     ]
    },
    {
     "name": "stderr",
     "output_type": "stream",
     "text": [
      "Training Epoch 365: 100%|██████████| 284/284 [00:08<00:00, 32.86it/s]\n",
      "Validation Epoch 365: 100%|██████████| 71/71 [00:09<00:00,  7.10it/s]\n"
     ]
    },
    {
     "name": "stdout",
     "output_type": "stream",
     "text": [
      "Epoch 366/400\n"
     ]
    },
    {
     "name": "stderr",
     "output_type": "stream",
     "text": [
      "Training Epoch 366: 100%|██████████| 284/284 [00:08<00:00, 33.55it/s]\n",
      "Validation Epoch 366: 100%|██████████| 71/71 [00:10<00:00,  7.06it/s]\n"
     ]
    },
    {
     "name": "stdout",
     "output_type": "stream",
     "text": [
      "Epoch 367/400\n"
     ]
    },
    {
     "name": "stderr",
     "output_type": "stream",
     "text": [
      "Training Epoch 367: 100%|██████████| 284/284 [00:08<00:00, 32.67it/s]\n",
      "Validation Epoch 367: 100%|██████████| 71/71 [00:10<00:00,  6.98it/s]\n"
     ]
    },
    {
     "name": "stdout",
     "output_type": "stream",
     "text": [
      "Epoch 368/400\n"
     ]
    },
    {
     "name": "stderr",
     "output_type": "stream",
     "text": [
      "Training Epoch 368: 100%|██████████| 284/284 [00:08<00:00, 32.64it/s]\n",
      "Validation Epoch 368: 100%|██████████| 71/71 [00:10<00:00,  6.88it/s]\n"
     ]
    },
    {
     "name": "stdout",
     "output_type": "stream",
     "text": [
      "Epoch 369/400\n"
     ]
    },
    {
     "name": "stderr",
     "output_type": "stream",
     "text": [
      "Training Epoch 369: 100%|██████████| 284/284 [00:08<00:00, 31.97it/s]\n",
      "Validation Epoch 369: 100%|██████████| 71/71 [00:10<00:00,  6.84it/s]\n"
     ]
    },
    {
     "name": "stdout",
     "output_type": "stream",
     "text": [
      "Epoch 370/400\n"
     ]
    },
    {
     "name": "stderr",
     "output_type": "stream",
     "text": [
      "Training Epoch 370: 100%|██████████| 284/284 [00:08<00:00, 32.31it/s]\n",
      "Validation Epoch 370: 100%|██████████| 71/71 [00:10<00:00,  6.94it/s]\n"
     ]
    },
    {
     "name": "stdout",
     "output_type": "stream",
     "text": [
      "Epoch 371/400\n"
     ]
    },
    {
     "name": "stderr",
     "output_type": "stream",
     "text": [
      "Training Epoch 371: 100%|██████████| 284/284 [00:08<00:00, 32.62it/s]\n",
      "Validation Epoch 371: 100%|██████████| 71/71 [00:10<00:00,  6.98it/s]\n"
     ]
    },
    {
     "name": "stdout",
     "output_type": "stream",
     "text": [
      "Epoch 372/400\n"
     ]
    },
    {
     "name": "stderr",
     "output_type": "stream",
     "text": [
      "Training Epoch 372: 100%|██████████| 284/284 [00:09<00:00, 31.54it/s]\n",
      "Validation Epoch 372: 100%|██████████| 71/71 [00:10<00:00,  6.79it/s]\n"
     ]
    },
    {
     "name": "stdout",
     "output_type": "stream",
     "text": [
      "Epoch 373/400\n"
     ]
    },
    {
     "name": "stderr",
     "output_type": "stream",
     "text": [
      "Training Epoch 373: 100%|██████████| 284/284 [00:08<00:00, 31.96it/s]\n",
      "Validation Epoch 373: 100%|██████████| 71/71 [00:10<00:00,  6.88it/s]\n"
     ]
    },
    {
     "name": "stdout",
     "output_type": "stream",
     "text": [
      "Epoch 374/400\n"
     ]
    },
    {
     "name": "stderr",
     "output_type": "stream",
     "text": [
      "Training Epoch 374: 100%|██████████| 284/284 [00:09<00:00, 30.81it/s]\n",
      "Validation Epoch 374: 100%|██████████| 71/71 [00:10<00:00,  6.72it/s]\n"
     ]
    },
    {
     "name": "stdout",
     "output_type": "stream",
     "text": [
      "Epoch 375/400\n"
     ]
    },
    {
     "name": "stderr",
     "output_type": "stream",
     "text": [
      "Training Epoch 375: 100%|██████████| 284/284 [00:08<00:00, 32.38it/s]\n",
      "Validation Epoch 375: 100%|██████████| 71/71 [00:10<00:00,  6.90it/s]\n"
     ]
    },
    {
     "name": "stdout",
     "output_type": "stream",
     "text": [
      "Epoch 376/400\n"
     ]
    },
    {
     "name": "stderr",
     "output_type": "stream",
     "text": [
      "Training Epoch 376: 100%|██████████| 284/284 [00:09<00:00, 30.94it/s]\n",
      "Validation Epoch 376: 100%|██████████| 71/71 [00:10<00:00,  6.72it/s]\n"
     ]
    },
    {
     "name": "stdout",
     "output_type": "stream",
     "text": [
      "Epoch 377/400\n"
     ]
    },
    {
     "name": "stderr",
     "output_type": "stream",
     "text": [
      "Training Epoch 377: 100%|██████████| 284/284 [00:08<00:00, 32.16it/s]\n",
      "Validation Epoch 377: 100%|██████████| 71/71 [00:10<00:00,  6.92it/s]\n"
     ]
    },
    {
     "name": "stdout",
     "output_type": "stream",
     "text": [
      "Epoch 378/400\n"
     ]
    },
    {
     "name": "stderr",
     "output_type": "stream",
     "text": [
      "Training Epoch 378: 100%|██████████| 284/284 [00:08<00:00, 32.70it/s]\n",
      "Validation Epoch 378: 100%|██████████| 71/71 [00:10<00:00,  7.03it/s]\n"
     ]
    },
    {
     "name": "stdout",
     "output_type": "stream",
     "text": [
      "Epoch 379/400\n"
     ]
    },
    {
     "name": "stderr",
     "output_type": "stream",
     "text": [
      "Training Epoch 379: 100%|██████████| 284/284 [00:08<00:00, 32.62it/s]\n",
      "Validation Epoch 379: 100%|██████████| 71/71 [00:10<00:00,  7.01it/s]\n"
     ]
    },
    {
     "name": "stdout",
     "output_type": "stream",
     "text": [
      "Epoch 380/400\n"
     ]
    },
    {
     "name": "stderr",
     "output_type": "stream",
     "text": [
      "Training Epoch 380: 100%|██████████| 284/284 [00:08<00:00, 32.18it/s]\n",
      "Validation Epoch 380: 100%|██████████| 71/71 [00:10<00:00,  6.90it/s]\n"
     ]
    },
    {
     "name": "stdout",
     "output_type": "stream",
     "text": [
      "Epoch 381/400\n"
     ]
    },
    {
     "name": "stderr",
     "output_type": "stream",
     "text": [
      "Training Epoch 381: 100%|██████████| 284/284 [00:09<00:00, 31.54it/s]\n",
      "Validation Epoch 381: 100%|██████████| 71/71 [00:10<00:00,  6.78it/s]\n"
     ]
    },
    {
     "name": "stdout",
     "output_type": "stream",
     "text": [
      "Epoch 382/400\n"
     ]
    },
    {
     "name": "stderr",
     "output_type": "stream",
     "text": [
      "Training Epoch 382: 100%|██████████| 284/284 [00:08<00:00, 33.07it/s]\n",
      "Validation Epoch 382: 100%|██████████| 71/71 [00:10<00:00,  7.08it/s]\n"
     ]
    },
    {
     "name": "stdout",
     "output_type": "stream",
     "text": [
      "Epoch 383/400\n"
     ]
    },
    {
     "name": "stderr",
     "output_type": "stream",
     "text": [
      "Training Epoch 383: 100%|██████████| 284/284 [00:08<00:00, 32.98it/s]\n",
      "Validation Epoch 383: 100%|██████████| 71/71 [00:10<00:00,  7.10it/s]\n"
     ]
    },
    {
     "name": "stdout",
     "output_type": "stream",
     "text": [
      "Epoch 384/400\n"
     ]
    },
    {
     "name": "stderr",
     "output_type": "stream",
     "text": [
      "Training Epoch 384: 100%|██████████| 284/284 [00:08<00:00, 34.06it/s]\n",
      "Validation Epoch 384: 100%|██████████| 71/71 [00:09<00:00,  7.29it/s]\n"
     ]
    },
    {
     "name": "stdout",
     "output_type": "stream",
     "text": [
      "Epoch 385/400\n"
     ]
    },
    {
     "name": "stderr",
     "output_type": "stream",
     "text": [
      "Training Epoch 385: 100%|██████████| 284/284 [00:08<00:00, 32.41it/s]\n",
      "Validation Epoch 385: 100%|██████████| 71/71 [00:10<00:00,  6.97it/s]\n"
     ]
    },
    {
     "name": "stdout",
     "output_type": "stream",
     "text": [
      "Epoch 386/400\n"
     ]
    },
    {
     "name": "stderr",
     "output_type": "stream",
     "text": [
      "Training Epoch 386: 100%|██████████| 284/284 [00:08<00:00, 32.70it/s]\n",
      "Validation Epoch 386: 100%|██████████| 71/71 [00:10<00:00,  7.01it/s]\n"
     ]
    },
    {
     "name": "stdout",
     "output_type": "stream",
     "text": [
      "Epoch 387/400\n"
     ]
    },
    {
     "name": "stderr",
     "output_type": "stream",
     "text": [
      "Training Epoch 387: 100%|██████████| 284/284 [00:08<00:00, 33.43it/s]\n",
      "Validation Epoch 387: 100%|██████████| 71/71 [00:09<00:00,  7.17it/s]\n"
     ]
    },
    {
     "name": "stdout",
     "output_type": "stream",
     "text": [
      "Epoch 388/400\n"
     ]
    },
    {
     "name": "stderr",
     "output_type": "stream",
     "text": [
      "Training Epoch 388: 100%|██████████| 284/284 [00:08<00:00, 32.69it/s]\n",
      "Validation Epoch 388: 100%|██████████| 71/71 [00:10<00:00,  7.04it/s]\n"
     ]
    },
    {
     "name": "stdout",
     "output_type": "stream",
     "text": [
      "Epoch 389/400\n"
     ]
    },
    {
     "name": "stderr",
     "output_type": "stream",
     "text": [
      "Training Epoch 389: 100%|██████████| 284/284 [00:08<00:00, 33.18it/s]\n",
      "Validation Epoch 389: 100%|██████████| 71/71 [00:09<00:00,  7.11it/s]\n"
     ]
    },
    {
     "name": "stdout",
     "output_type": "stream",
     "text": [
      "Epoch 390/400\n"
     ]
    },
    {
     "name": "stderr",
     "output_type": "stream",
     "text": [
      "Training Epoch 390: 100%|██████████| 284/284 [00:08<00:00, 32.93it/s]\n",
      "Validation Epoch 390: 100%|██████████| 71/71 [00:10<00:00,  7.06it/s]\n"
     ]
    },
    {
     "name": "stdout",
     "output_type": "stream",
     "text": [
      "Epoch 391/400\n"
     ]
    },
    {
     "name": "stderr",
     "output_type": "stream",
     "text": [
      "Training Epoch 391: 100%|██████████| 284/284 [00:08<00:00, 32.45it/s]\n",
      "Validation Epoch 391: 100%|██████████| 71/71 [00:10<00:00,  6.93it/s]\n"
     ]
    },
    {
     "name": "stdout",
     "output_type": "stream",
     "text": [
      "Epoch 392/400\n"
     ]
    },
    {
     "name": "stderr",
     "output_type": "stream",
     "text": [
      "Training Epoch 392: 100%|██████████| 284/284 [00:08<00:00, 31.84it/s]\n",
      "Validation Epoch 392: 100%|██████████| 71/71 [00:10<00:00,  6.86it/s]\n"
     ]
    },
    {
     "name": "stdout",
     "output_type": "stream",
     "text": [
      "Epoch 393/400\n"
     ]
    },
    {
     "name": "stderr",
     "output_type": "stream",
     "text": [
      "Training Epoch 393: 100%|██████████| 284/284 [00:08<00:00, 32.15it/s]\n",
      "Validation Epoch 393: 100%|██████████| 71/71 [00:10<00:00,  6.89it/s]\n"
     ]
    },
    {
     "name": "stdout",
     "output_type": "stream",
     "text": [
      "Epoch 394/400\n"
     ]
    },
    {
     "name": "stderr",
     "output_type": "stream",
     "text": [
      "Training Epoch 394: 100%|██████████| 284/284 [00:08<00:00, 31.98it/s]\n",
      "Validation Epoch 394: 100%|██████████| 71/71 [00:10<00:00,  6.88it/s]\n"
     ]
    },
    {
     "name": "stdout",
     "output_type": "stream",
     "text": [
      "Epoch 395/400\n"
     ]
    },
    {
     "name": "stderr",
     "output_type": "stream",
     "text": [
      "Training Epoch 395: 100%|██████████| 284/284 [00:08<00:00, 32.35it/s]\n",
      "Validation Epoch 395: 100%|██████████| 71/71 [00:10<00:00,  6.94it/s]\n"
     ]
    },
    {
     "name": "stdout",
     "output_type": "stream",
     "text": [
      "Epoch 396/400\n"
     ]
    },
    {
     "name": "stderr",
     "output_type": "stream",
     "text": [
      "Training Epoch 396: 100%|██████████| 284/284 [00:08<00:00, 32.32it/s]\n",
      "Validation Epoch 396: 100%|██████████| 71/71 [00:10<00:00,  6.92it/s]\n"
     ]
    },
    {
     "name": "stdout",
     "output_type": "stream",
     "text": [
      "Epoch 397/400\n"
     ]
    },
    {
     "name": "stderr",
     "output_type": "stream",
     "text": [
      "Training Epoch 397: 100%|██████████| 284/284 [00:08<00:00, 32.32it/s]\n",
      "Validation Epoch 397: 100%|██████████| 71/71 [00:10<00:00,  6.97it/s]\n"
     ]
    },
    {
     "name": "stdout",
     "output_type": "stream",
     "text": [
      "Epoch 398/400\n"
     ]
    },
    {
     "name": "stderr",
     "output_type": "stream",
     "text": [
      "Training Epoch 398: 100%|██████████| 284/284 [00:08<00:00, 32.19it/s]\n",
      "Validation Epoch 398: 100%|██████████| 71/71 [00:10<00:00,  6.91it/s]\n"
     ]
    },
    {
     "name": "stdout",
     "output_type": "stream",
     "text": [
      "Epoch 399/400\n"
     ]
    },
    {
     "name": "stderr",
     "output_type": "stream",
     "text": [
      "Training Epoch 399: 100%|██████████| 284/284 [00:08<00:00, 33.46it/s]\n",
      "Validation Epoch 399: 100%|██████████| 71/71 [00:09<00:00,  7.17it/s]\n"
     ]
    },
    {
     "name": "stdout",
     "output_type": "stream",
     "text": [
      "Epoch 400/400\n"
     ]
    },
    {
     "name": "stderr",
     "output_type": "stream",
     "text": [
      "Training Epoch 400: 100%|██████████| 284/284 [00:08<00:00, 32.79it/s]\n",
      "Validation Epoch 400: 100%|██████████| 71/71 [00:10<00:00,  7.06it/s]\n"
     ]
    },
    {
     "data": {
      "text/html": [],
      "text/plain": [
       "<IPython.core.display.HTML object>"
      ]
     },
     "metadata": {},
     "output_type": "display_data"
    },
    {
     "data": {
      "text/html": [
       "<br>    <style><br>        .wandb-row {<br>            display: flex;<br>            flex-direction: row;<br>            flex-wrap: wrap;<br>            justify-content: flex-start;<br>            width: 100%;<br>        }<br>        .wandb-col {<br>            display: flex;<br>            flex-direction: column;<br>            flex-basis: 100%;<br>            flex: 1;<br>            padding: 10px;<br>        }<br>    </style><br><div class=\"wandb-row\"><div class=\"wandb-col\"><h3>Run history:</h3><br/><table class=\"wandb\"><tr><td>epoch/epoch</td><td>▁▁▁▂▂▂▂▂▂▃▃▃▃▃▃▄▄▄▄▄▄▄▄▄▄▅▅▅▅▅▆▆▆▆▇█████</td></tr><tr><td>epoch/train-data-loss</td><td>▆▅▃▃▂▂▂▂█▂▃▁▂▁▃▁▁▁▄▄▁▁▁▂▁▁▁▁▄▂▁▁▁▃▃▁▃▁▁▂</td></tr><tr><td>epoch/train-loss</td><td>█▅▂▁▁▁▁▁▁▁▁▁▃▁▃▁▁▃▂▁▁▁▂▁▁▃▆▂▁▁▃▃▁▃▄▄▂▃▂▂</td></tr><tr><td>epoch/train-physics-loss</td><td>▁▆▇█▆▆▇▆▆▆▇▆▇▇▆▇▇▆▇▆▇▆▆▆▅▅▅▆▇▆▆▆▆▇▆▆▆▆▆▇</td></tr><tr><td>epoch/train-score</td><td>▄▃▂▂▂▁▂▂▂▂▂▂▂▂▂▆▂▁▂▃▂▁█▅▁▂▃▂▁▂▂▂▁▂▃▂▁▂▂▂</td></tr><tr><td>epoch/val-data-loss</td><td>█▁▂▁▁▁▁▁▁▁▁▁▁▁▁▁▁▁▁▁▁▁▁▄▁▁▂▁▃▁▁▁▁▁▁▁▂▁▁▁</td></tr><tr><td>epoch/val-loss</td><td>▂▂▁▁▁▁▁▁▁▁▁▁▁▁▃▁▁▁▁▁▂▁▁▂▁▁▁▁▁▁▁▁▁▂█▁▁▁▄▁</td></tr><tr><td>epoch/val-physics-loss</td><td>▃█▆▂▇▂█▂▄▅▃▇▆▂▅▃▄▄▁▃▃▆▆▁▆▅▃▄▅▄▅█▅▁▄▆█▅▂▄</td></tr><tr><td>epoch/val-score</td><td>█▃▁▁▁▁▁▁▁▁▁▁▁▁▁▁▁▁▁▁▁▁▁▁▁▁▁▁▁▁▁▁▁▁▁▁▁▁▁▁</td></tr><tr><td>train/data-loss</td><td>▄▄▄▆▁▄▃▆▄▃▄▄▅▃▄▄▄▄▃▅▇▃▆▁▃▃█▂▃▇▄▄▄▆▄▄▆▄▄▃</td></tr><tr><td>train/loss</td><td>▁▁▁▁▁▁▁▁▁▁▁▁▁▁█▁▁▁▁▁▁▁▁▁▁▁▁▁▁▁▁▁▁▁▁▁▁▁▁▁</td></tr><tr><td>train/physics-loss</td><td>▅▆▆▆▅▂▄▅▄▄▄▄▃█▄▇▃▃▂▂▅▃▄▁▆▅▅▇█▆▇▅▅▆█▄▅▄▄▄</td></tr><tr><td>train/score</td><td>█▁▁▁▁▁▁▁▁▅▁▁▁▁▁▁▁▁▁▁▁▂▁▁▁▁▁▂▁▂▁▁▁▁▁▁▂▁▁▁</td></tr></table><br/></div><div class=\"wandb-col\"><h3>Run summary:</h3><br/><table class=\"wandb\"><tr><td>epoch/epoch</td><td>400</td></tr><tr><td>epoch/train-data-loss</td><td>17.09743</td></tr><tr><td>epoch/train-loss</td><td>39.00521</td></tr><tr><td>epoch/train-physics-loss</td><td>8.66136</td></tr><tr><td>epoch/train-score</td><td>1311.56991</td></tr><tr><td>epoch/val-data-loss</td><td>16.62352</td></tr><tr><td>epoch/val-loss</td><td>33.24703</td></tr><tr><td>epoch/val-physics-loss</td><td>9.56213</td></tr><tr><td>epoch/val-score</td><td>1123.91578</td></tr><tr><td>train/data-loss</td><td>16.58776</td></tr><tr><td>train/loss</td><td>33.17553</td></tr><tr><td>train/physics-loss</td><td>8.7256</td></tr><tr><td>train/score</td><td>352.12259</td></tr></table><br/></div></div>"
      ],
      "text/plain": [
       "<IPython.core.display.HTML object>"
      ]
     },
     "metadata": {},
     "output_type": "display_data"
    },
    {
     "data": {
      "text/html": [
       " View run <strong style=\"color:#cdcd00\">PINN_13</strong> at: <a href='https://wandb.ai/p-alig-fh-ost/mse-vp1/runs/jbsoccxv' target=\"_blank\">https://wandb.ai/p-alig-fh-ost/mse-vp1/runs/jbsoccxv</a><br> View project at: <a href='https://wandb.ai/p-alig-fh-ost/mse-vp1' target=\"_blank\">https://wandb.ai/p-alig-fh-ost/mse-vp1</a><br>Synced 5 W&B file(s), 0 media file(s), 0 artifact file(s) and 0 other file(s)"
      ],
      "text/plain": [
       "<IPython.core.display.HTML object>"
      ]
     },
     "metadata": {},
     "output_type": "display_data"
    },
    {
     "data": {
      "text/html": [
       "Find logs at: <code>.\\wandb\\run-20250204_211059-jbsoccxv\\logs</code>"
      ],
      "text/plain": [
       "<IPython.core.display.HTML object>"
      ]
     },
     "metadata": {},
     "output_type": "display_data"
    }
   ],
   "source": [
    "trainer = Trainer(model, train_loader, val_loader, criterion, optimizer, config)\n",
    "trainer.fit()\n",
    "torch.save(model.state_dict(), os.path.join(save_path, f'{run.config[\"model\"]}_best.pth'))\n",
    "run.finish()"
   ]
  },
  {
   "cell_type": "code",
   "execution_count": 7,
   "metadata": {},
   "outputs": [
    {
     "name": "stdout",
     "output_type": "stream",
     "text": [
      "✔️ Last completed run: jbsoccxv\n"
     ]
    },
    {
     "data": {
      "image/png": "[encoded data removed]",
      "text/plain": [
       "<Figure size 1000x600 with 1 Axes>"
      ]
     },
     "metadata": {},
     "output_type": "display_data"
    },
    {
     "data": {
      "image/png": "[encoded data removed]",
      "text/plain": [
       "<Figure size 1000x600 with 1 Axes>"
      ]
     },
     "metadata": {},
     "output_type": "display_data"
    }
   ],
   "source": [
    "api = wandb.Api()\n",
    "\n",
    "# Retrieve all runs\n",
    "runs = api.runs(f\"{entity}/{project_name}\")\n",
    "\n",
    "# Sort by end time (stop time) and filter only completed runs\n",
    "finished_runs = [run for run in runs if run.state == \"finished\"]\n",
    "\n",
    "if not finished_runs:\n",
    "    print(\"❌ No completed run found!\")\n",
    "else:\n",
    "    last_run = sorted(finished_runs, key=lambda r: r.created_at, reverse=True)[0]\n",
    "    print(\"✔️ Last completed run:\", last_run.id)\n",
    "\n",
    "    run = api.run(f\"{entity}/{project_name}/{last_run.id}\")\n",
    "\n",
    "history = run.history()\n",
    "\n",
    "train_loss = history[\"epoch/train-loss\"]\n",
    "val_loss = history[\"epoch/val-loss\"]\n",
    "train_score = history[\"epoch/train-score\"]\n",
    "val_score = history[\"epoch/val-score\"]\n",
    "\n",
    "steps = range(len(history[\"_step\"].values))\n",
    "\n",
    "plt.figure(figsize=(10, 6))\n",
    "plt.plot(steps, train_loss, label=\"Training Loss\")\n",
    "plt.plot(steps, val_loss, label=\"Validation Loss\")\n",
    "plt.xlabel(\"Steps\")\n",
    "plt.ylabel(\"Metrics\")\n",
    "plt.title(\"Training and Validation Loss over Steps\")\n",
    "plt.legend()\n",
    "plt.show()\n",
    "\n",
    "plt.figure(figsize=(10, 6))\n",
    "plt.plot(steps, train_score, label=\"Train Score\")\n",
    "plt.plot(steps, val_score, label=\"Validation Score\")\n",
    "plt.xlabel(\"Steps\")\n",
    "plt.ylabel(\"Metrics\")\n",
    "plt.title(\"Training and Validation Score over Steps\")\n",
    "plt.legend()\n",
    "plt.show()"
   ]
  },
  {
   "cell_type": "markdown",
   "metadata": {},
   "source": [
    "Testing of group 1 (DF1 and DF3)"
   ]
  },
  {
   "cell_type": "code",
   "execution_count": 36,
   "metadata": {},
   "outputs": [
    {
     "name": "stdout",
     "output_type": "stream",
     "text": [
      "Found 200 unique motor IDs in the data set.\n",
      "(200, 16)\n"
     ]
    },
    {
     "name": "stderr",
     "output_type": "stream",
     "text": [
      "Testing: 100%|██████████| 2/2 [00:00<00:00, 47.69it/s]"
     ]
    },
    {
     "name": "stdout",
     "output_type": "stream",
     "text": [
      "Test RMSE: 17.9731, Test Score: 1309.9078\n"
     ]
    },
    {
     "name": "stderr",
     "output_type": "stream",
     "text": [
      "\n"
     ]
    }
   ],
   "source": [
    "model.load_state_dict(torch.load(os.path.join(save_path, f'{config[\"model\"]}_best.pth')))\n",
    "model = model.to(device)\n",
    "\n",
    "ds_test = CMAPSSDataset(mode='test', data_path=data_path, subset=config[\"dataset\"])\n",
    "test_rmse_13, test_score_13, all_predictions_13, ground_truth_13 = test_model(model, ds_test, batch_size=config[\"batch_size\"], device='cuda')\n",
    "\n",
    "# Save predictions\n",
    "model_results[\"PINN_13\"] = {\n",
    "    \"predictions\": all_predictions_13.squeeze(1).detach().numpy(),\n",
    "    \"labels\": ground_truth_13.squeeze(1).detach().numpy(),\n",
    "    \"rmse\": test_rmse_13,\n",
    "    \"score\": test_score_13   \n",
    "}"
   ]
  },
  {
   "cell_type": "markdown",
   "metadata": {},
   "source": [
    "## Group 2"
   ]
  },
  {
   "cell_type": "code",
   "execution_count": 37,
   "metadata": {},
   "outputs": [],
   "source": [
    "config = {\n",
    "    \"learning_rate\": 1e-3,\n",
    "    \"num_epochs\": 400,\n",
    "    \"batch_size\": 128,\n",
    "    \"derivatives_order\": 2,\n",
    "    \"hidden_dim\": 3,\n",
    "    \"loss_lambda\": 100,\n",
    "    \"dataset\": \"24\",\n",
    "    \"model\": \"PINN_24\"\n",
    "}"
   ]
  },
  {
   "cell_type": "markdown",
   "metadata": {},
   "source": [
    "Load data from group 2 (DF2 and DF4)"
   ]
  },
  {
   "cell_type": "code",
   "execution_count": 10,
   "metadata": {},
   "outputs": [
    {
     "name": "stdout",
     "output_type": "stream",
     "text": [
      "Found 509 unique motor IDs in the data set.\n",
      "(115008, 16)\n",
      "torch.Size([128])\n",
      "Warmed up\n"
     ]
    }
   ],
   "source": [
    "ds_train = CMAPSSDataset(mode='train', data_path=data_path, subset=config[\"dataset\"], max_rul=125)\n",
    "\n",
    "total_size = len(ds_train)\n",
    "\n",
    "val_size = int(0.2 * total_size)  # 20% für Validierung\n",
    "train_size = total_size - val_size  # Rest für Training\n",
    "train_ds, val_ds = random_split(ds_train, [train_size, val_size])\n",
    "\n",
    "train_loader = DataLoader(train_ds, batch_size=config[\"batch_size\"], shuffle=True, num_workers=0)\n",
    "val_loader = DataLoader(val_ds, batch_size=config[\"batch_size\"], shuffle=False, num_workers=0)\n",
    "\n",
    "# Warm up (can take a while!)\n",
    "for batch in train_loader:\n",
    "    print(batch[2].shape)\n",
    "    print(\"Warmed up\")\n",
    "    break"
   ]
  },
  {
   "cell_type": "code",
   "execution_count": 38,
   "metadata": {},
   "outputs": [
    {
     "data": {
      "text/plain": [
       "================================================================================\n",
       "Layer (type:depth-idx)                                  Param #\n",
       "================================================================================\n",
       "PINN                                                    --\n",
       "├─xNN: 1-1                                              --\n",
       "│    └─MultiheadAttention: 2-1                          630\n",
       "│    │    └─NonDynamicallyQuantizableLinear: 3-1        210\n",
       "│    └─Linear: 2-2                                      210\n",
       "│    └─Linear: 2-3                                      45\n",
       "│    └─LayerNorm: 2-4                                   28\n",
       "│    └─ReLU: 2-5                                        --\n",
       "├─MLP: 1-2                                              6\n",
       "│    └─Sequential: 2-6                                  --\n",
       "│    │    └─Linear: 3-2                                 50\n",
       "│    │    └─Tanh: 3-3                                   --\n",
       "│    │    └─Linear: 3-4                                 110\n",
       "│    │    └─Tanh: 3-5                                   --\n",
       "│    │    └─Linear: 3-6                                 110\n",
       "│    │    └─Tanh: 3-7                                   --\n",
       "│    │    └─Linear: 3-8                                 110\n",
       "│    │    └─Tanh: 3-9                                   --\n",
       "│    │    └─Linear: 3-10                                110\n",
       "│    │    └─Tanh: 3-11                                  --\n",
       "│    │    └─Linear: 3-12                                66\n",
       "├─DeepHPM: 1-3                                          --\n",
       "│    └─MultiheadAttention: 2-7                          330\n",
       "│    │    └─NonDynamicallyQuantizableLinear: 3-13       110\n",
       "│    └─Linear: 2-8                                      110\n",
       "│    └─Linear: 2-9                                      11\n",
       "│    └─LayerNorm: 2-10                                  20\n",
       "│    └─ReLU: 2-11                                       --\n",
       "================================================================================\n",
       "Total params: 2,266\n",
       "Trainable params: 2,266\n",
       "Non-trainable params: 0\n",
       "================================================================================"
      ]
     },
     "execution_count": 38,
     "metadata": {},
     "output_type": "execute_result"
    }
   ],
   "source": [
    "model = PINN(input_dim=14, hidden_dim=config[\"hidden_dim\"], derivatives_order=config[\"derivatives_order\"]).to(device)\n",
    "optimizer = Adan(model.parameters(), lr=config[\"learning_rate\"])\n",
    "criterion = AdaptivePhysicsBasedLoss(loss_lambda=config[\"loss_lambda\"])\n",
    "summary(model)"
   ]
  },
  {
   "cell_type": "code",
   "execution_count": 12,
   "metadata": {},
   "outputs": [
    {
     "data": {
      "text/html": [
       "Tracking run with wandb version 0.19.2"
      ],
      "text/plain": [
       "<IPython.core.display.HTML object>"
      ]
     },
     "metadata": {},
     "output_type": "display_data"
    },
    {
     "data": {
      "text/html": [
       "Run data is saved locally in <code>c:\\Users\\palig\\MSE\\Vertiefungsprojekt1\\mse_vp1_rulestimation\\notebooks\\model_training\\wandb\\run-20250204_222045-e48e4hh4</code>"
      ],
      "text/plain": [
       "<IPython.core.display.HTML object>"
      ]
     },
     "metadata": {},
     "output_type": "display_data"
    },
    {
     "data": {
      "text/html": [
       "Syncing run <strong><a href='https://wandb.ai/p-alig-fh-ost/mse-vp1/runs/e48e4hh4' target=\"_blank\">PINN_24</a></strong> to <a href='https://wandb.ai/p-alig-fh-ost/mse-vp1' target=\"_blank\">Weights & Biases</a> (<a href='https://wandb.me/developer-guide' target=\"_blank\">docs</a>)<br>"
      ],
      "text/plain": [
       "<IPython.core.display.HTML object>"
      ]
     },
     "metadata": {},
     "output_type": "display_data"
    },
    {
     "data": {
      "text/html": [
       " View project at <a href='https://wandb.ai/p-alig-fh-ost/mse-vp1' target=\"_blank\">https://wandb.ai/p-alig-fh-ost/mse-vp1</a>"
      ],
      "text/plain": [
       "<IPython.core.display.HTML object>"
      ]
     },
     "metadata": {},
     "output_type": "display_data"
    },
    {
     "data": {
      "text/html": [
       " View run at <a href='https://wandb.ai/p-alig-fh-ost/mse-vp1/runs/e48e4hh4' target=\"_blank\">https://wandb.ai/p-alig-fh-ost/mse-vp1/runs/e48e4hh4</a>"
      ],
      "text/plain": [
       "<IPython.core.display.HTML object>"
      ]
     },
     "metadata": {},
     "output_type": "display_data"
    }
   ],
   "source": [
    "run = wandb.init(\n",
    "    project=project_name,\n",
    "    name=f'PINN_{config[\"dataset\"]}',\n",
    "    config = config\n",
    ")"
   ]
  },
  {
   "cell_type": "markdown",
   "metadata": {},
   "source": [
    "Training of group 2 (DF2 and DF4)"
   ]
  },
  {
   "cell_type": "code",
   "execution_count": 13,
   "metadata": {},
   "outputs": [
    {
     "name": "stdout",
     "output_type": "stream",
     "text": [
      "Epoch 1/400\n"
     ]
    },
    {
     "name": "stderr",
     "output_type": "stream",
     "text": [
      "Training Epoch 1: 100%|██████████| 719/719 [00:22<00:00, 32.22it/s]\n",
      "Validation Epoch 1: 100%|██████████| 180/180 [00:26<00:00,  6.86it/s]\n"
     ]
    },
    {
     "name": "stdout",
     "output_type": "stream",
     "text": [
      "Epoch 2/400\n"
     ]
    },
    {
     "name": "stderr",
     "output_type": "stream",
     "text": [
      "Training Epoch 2: 100%|██████████| 719/719 [00:22<00:00, 32.36it/s]\n",
      "Validation Epoch 2: 100%|██████████| 180/180 [00:26<00:00,  6.92it/s]\n"
     ]
    },
    {
     "name": "stdout",
     "output_type": "stream",
     "text": [
      "Epoch 3/400\n"
     ]
    },
    {
     "name": "stderr",
     "output_type": "stream",
     "text": [
      "Training Epoch 3: 100%|██████████| 719/719 [00:22<00:00, 32.13it/s]\n",
      "Validation Epoch 3: 100%|██████████| 180/180 [00:26<00:00,  6.83it/s]\n"
     ]
    },
    {
     "name": "stdout",
     "output_type": "stream",
     "text": [
      "Epoch 4/400\n"
     ]
    },
    {
     "name": "stderr",
     "output_type": "stream",
     "text": [
      "Training Epoch 4: 100%|██████████| 719/719 [00:21<00:00, 32.70it/s]\n",
      "Validation Epoch 4: 100%|██████████| 180/180 [00:25<00:00,  6.93it/s]\n"
     ]
    },
    {
     "name": "stdout",
     "output_type": "stream",
     "text": [
      "Epoch 5/400\n"
     ]
    },
    {
     "name": "stderr",
     "output_type": "stream",
     "text": [
      "Training Epoch 5: 100%|██████████| 719/719 [00:22<00:00, 32.32it/s]\n",
      "Validation Epoch 5: 100%|██████████| 180/180 [00:26<00:00,  6.88it/s]\n"
     ]
    },
    {
     "name": "stdout",
     "output_type": "stream",
     "text": [
      "Epoch 6/400\n"
     ]
    },
    {
     "name": "stderr",
     "output_type": "stream",
     "text": [
      "Training Epoch 6: 100%|██████████| 719/719 [00:22<00:00, 31.28it/s]\n",
      "Validation Epoch 6: 100%|██████████| 180/180 [00:26<00:00,  6.69it/s]\n"
     ]
    },
    {
     "name": "stdout",
     "output_type": "stream",
     "text": [
      "Epoch 7/400\n"
     ]
    },
    {
     "name": "stderr",
     "output_type": "stream",
     "text": [
      "Training Epoch 7: 100%|██████████| 719/719 [00:21<00:00, 32.88it/s]\n",
      "Validation Epoch 7: 100%|██████████| 180/180 [00:25<00:00,  6.98it/s]\n"
     ]
    },
    {
     "name": "stdout",
     "output_type": "stream",
     "text": [
      "Epoch 8/400\n"
     ]
    },
    {
     "name": "stderr",
     "output_type": "stream",
     "text": [
      "Training Epoch 8: 100%|██████████| 719/719 [00:22<00:00, 32.35it/s]\n",
      "Validation Epoch 8: 100%|██████████| 180/180 [00:26<00:00,  6.86it/s]\n"
     ]
    },
    {
     "name": "stdout",
     "output_type": "stream",
     "text": [
      "Epoch 9/400\n"
     ]
    },
    {
     "name": "stderr",
     "output_type": "stream",
     "text": [
      "Training Epoch 9: 100%|██████████| 719/719 [00:22<00:00, 32.08it/s]\n",
      "Validation Epoch 9: 100%|██████████| 180/180 [00:26<00:00,  6.89it/s]\n"
     ]
    },
    {
     "name": "stdout",
     "output_type": "stream",
     "text": [
      "Epoch 10/400\n"
     ]
    },
    {
     "name": "stderr",
     "output_type": "stream",
     "text": [
      "Training Epoch 10: 100%|██████████| 719/719 [00:21<00:00, 33.00it/s]\n",
      "Validation Epoch 10: 100%|██████████| 180/180 [00:25<00:00,  7.11it/s]\n"
     ]
    },
    {
     "name": "stdout",
     "output_type": "stream",
     "text": [
      "Epoch 11/400\n"
     ]
    },
    {
     "name": "stderr",
     "output_type": "stream",
     "text": [
      "Training Epoch 11: 100%|██████████| 719/719 [00:21<00:00, 32.95it/s]\n",
      "Validation Epoch 11: 100%|██████████| 180/180 [00:25<00:00,  6.98it/s]\n"
     ]
    },
    {
     "name": "stdout",
     "output_type": "stream",
     "text": [
      "Epoch 12/400\n"
     ]
    },
    {
     "name": "stderr",
     "output_type": "stream",
     "text": [
      "Training Epoch 12: 100%|██████████| 719/719 [00:22<00:00, 32.27it/s]\n",
      "Validation Epoch 12: 100%|██████████| 180/180 [00:25<00:00,  6.95it/s]\n"
     ]
    },
    {
     "name": "stdout",
     "output_type": "stream",
     "text": [
      "Epoch 13/400\n"
     ]
    },
    {
     "name": "stderr",
     "output_type": "stream",
     "text": [
      "Training Epoch 13: 100%|██████████| 719/719 [00:22<00:00, 32.33it/s]\n",
      "Validation Epoch 13: 100%|██████████| 180/180 [00:26<00:00,  6.90it/s]\n"
     ]
    },
    {
     "name": "stdout",
     "output_type": "stream",
     "text": [
      "Epoch 14/400\n"
     ]
    },
    {
     "name": "stderr",
     "output_type": "stream",
     "text": [
      "Training Epoch 14: 100%|██████████| 719/719 [00:22<00:00, 32.41it/s]\n",
      "Validation Epoch 14: 100%|██████████| 180/180 [00:25<00:00,  6.94it/s]\n"
     ]
    },
    {
     "name": "stdout",
     "output_type": "stream",
     "text": [
      "Epoch 15/400\n"
     ]
    },
    {
     "name": "stderr",
     "output_type": "stream",
     "text": [
      "Training Epoch 15: 100%|██████████| 719/719 [00:22<00:00, 31.74it/s]\n",
      "Validation Epoch 15: 100%|██████████| 180/180 [00:26<00:00,  6.76it/s]\n"
     ]
    },
    {
     "name": "stdout",
     "output_type": "stream",
     "text": [
      "Epoch 16/400\n"
     ]
    },
    {
     "name": "stderr",
     "output_type": "stream",
     "text": [
      "Training Epoch 16: 100%|██████████| 719/719 [00:22<00:00, 32.04it/s]\n",
      "Validation Epoch 16: 100%|██████████| 180/180 [00:26<00:00,  6.85it/s]\n"
     ]
    },
    {
     "name": "stdout",
     "output_type": "stream",
     "text": [
      "Epoch 17/400\n"
     ]
    },
    {
     "name": "stderr",
     "output_type": "stream",
     "text": [
      "Training Epoch 17: 100%|██████████| 719/719 [00:22<00:00, 32.14it/s]\n",
      "Validation Epoch 17: 100%|██████████| 180/180 [00:26<00:00,  6.84it/s]\n"
     ]
    },
    {
     "name": "stdout",
     "output_type": "stream",
     "text": [
      "Epoch 18/400\n"
     ]
    },
    {
     "name": "stderr",
     "output_type": "stream",
     "text": [
      "Training Epoch 18: 100%|██████████| 719/719 [00:22<00:00, 32.39it/s]\n",
      "Validation Epoch 18: 100%|██████████| 180/180 [00:26<00:00,  6.92it/s]\n"
     ]
    },
    {
     "name": "stdout",
     "output_type": "stream",
     "text": [
      "Epoch 19/400\n"
     ]
    },
    {
     "name": "stderr",
     "output_type": "stream",
     "text": [
      "Training Epoch 19: 100%|██████████| 719/719 [00:22<00:00, 31.32it/s]\n",
      "Validation Epoch 19: 100%|██████████| 180/180 [00:26<00:00,  6.71it/s]\n"
     ]
    },
    {
     "name": "stdout",
     "output_type": "stream",
     "text": [
      "Epoch 20/400\n"
     ]
    },
    {
     "name": "stderr",
     "output_type": "stream",
     "text": [
      "Training Epoch 20: 100%|██████████| 719/719 [00:22<00:00, 32.33it/s]\n",
      "Validation Epoch 20: 100%|██████████| 180/180 [00:26<00:00,  6.85it/s]\n"
     ]
    },
    {
     "name": "stdout",
     "output_type": "stream",
     "text": [
      "Epoch 21/400\n"
     ]
    },
    {
     "name": "stderr",
     "output_type": "stream",
     "text": [
      "Training Epoch 21: 100%|██████████| 719/719 [00:22<00:00, 32.23it/s]\n",
      "Validation Epoch 21: 100%|██████████| 180/180 [00:26<00:00,  6.85it/s]\n"
     ]
    },
    {
     "name": "stdout",
     "output_type": "stream",
     "text": [
      "Epoch 22/400\n"
     ]
    },
    {
     "name": "stderr",
     "output_type": "stream",
     "text": [
      "Training Epoch 22: 100%|██████████| 719/719 [00:22<00:00, 31.85it/s]\n",
      "Validation Epoch 22: 100%|██████████| 180/180 [00:26<00:00,  6.79it/s]\n"
     ]
    },
    {
     "name": "stdout",
     "output_type": "stream",
     "text": [
      "Epoch 23/400\n"
     ]
    },
    {
     "name": "stderr",
     "output_type": "stream",
     "text": [
      "Training Epoch 23: 100%|██████████| 719/719 [00:22<00:00, 32.05it/s]\n",
      "Validation Epoch 23: 100%|██████████| 180/180 [00:26<00:00,  6.88it/s]\n"
     ]
    },
    {
     "name": "stdout",
     "output_type": "stream",
     "text": [
      "Epoch 24/400\n"
     ]
    },
    {
     "name": "stderr",
     "output_type": "stream",
     "text": [
      "Training Epoch 24: 100%|██████████| 719/719 [00:22<00:00, 31.80it/s]\n",
      "Validation Epoch 24: 100%|██████████| 180/180 [00:26<00:00,  6.81it/s]\n"
     ]
    },
    {
     "name": "stdout",
     "output_type": "stream",
     "text": [
      "Epoch 25/400\n"
     ]
    },
    {
     "name": "stderr",
     "output_type": "stream",
     "text": [
      "Training Epoch 25: 100%|██████████| 719/719 [00:21<00:00, 32.91it/s]\n",
      "Validation Epoch 25: 100%|██████████| 180/180 [00:25<00:00,  7.01it/s]\n"
     ]
    },
    {
     "name": "stdout",
     "output_type": "stream",
     "text": [
      "Epoch 26/400\n"
     ]
    },
    {
     "name": "stderr",
     "output_type": "stream",
     "text": [
      "Training Epoch 26: 100%|██████████| 719/719 [00:21<00:00, 33.22it/s]\n",
      "Validation Epoch 26: 100%|██████████| 180/180 [00:25<00:00,  7.07it/s]\n"
     ]
    },
    {
     "name": "stdout",
     "output_type": "stream",
     "text": [
      "Epoch 27/400\n"
     ]
    },
    {
     "name": "stderr",
     "output_type": "stream",
     "text": [
      "Training Epoch 27: 100%|██████████| 719/719 [00:21<00:00, 33.08it/s]\n",
      "Validation Epoch 27: 100%|██████████| 180/180 [00:25<00:00,  7.09it/s]\n"
     ]
    },
    {
     "name": "stdout",
     "output_type": "stream",
     "text": [
      "Epoch 28/400\n"
     ]
    },
    {
     "name": "stderr",
     "output_type": "stream",
     "text": [
      "Training Epoch 28: 100%|██████████| 719/719 [00:21<00:00, 32.88it/s]\n",
      "Validation Epoch 28: 100%|██████████| 180/180 [00:25<00:00,  6.97it/s]\n"
     ]
    },
    {
     "name": "stdout",
     "output_type": "stream",
     "text": [
      "Epoch 29/400\n"
     ]
    },
    {
     "name": "stderr",
     "output_type": "stream",
     "text": [
      "Training Epoch 29: 100%|██████████| 719/719 [00:22<00:00, 32.09it/s]\n",
      "Validation Epoch 29: 100%|██████████| 180/180 [00:26<00:00,  6.84it/s]\n"
     ]
    },
    {
     "name": "stdout",
     "output_type": "stream",
     "text": [
      "Epoch 30/400\n"
     ]
    },
    {
     "name": "stderr",
     "output_type": "stream",
     "text": [
      "Training Epoch 30: 100%|██████████| 719/719 [00:22<00:00, 32.12it/s]\n",
      "Validation Epoch 30: 100%|██████████| 180/180 [00:26<00:00,  6.86it/s]\n"
     ]
    },
    {
     "name": "stdout",
     "output_type": "stream",
     "text": [
      "Epoch 31/400\n"
     ]
    },
    {
     "name": "stderr",
     "output_type": "stream",
     "text": [
      "Training Epoch 31: 100%|██████████| 719/719 [00:22<00:00, 31.64it/s]\n",
      "Validation Epoch 31: 100%|██████████| 180/180 [00:26<00:00,  6.79it/s]\n"
     ]
    },
    {
     "name": "stdout",
     "output_type": "stream",
     "text": [
      "Epoch 32/400\n"
     ]
    },
    {
     "name": "stderr",
     "output_type": "stream",
     "text": [
      "Training Epoch 32: 100%|██████████| 719/719 [00:21<00:00, 33.39it/s]\n",
      "Validation Epoch 32: 100%|██████████| 180/180 [00:25<00:00,  7.14it/s]\n"
     ]
    },
    {
     "name": "stdout",
     "output_type": "stream",
     "text": [
      "Epoch 33/400\n"
     ]
    },
    {
     "name": "stderr",
     "output_type": "stream",
     "text": [
      "Training Epoch 33: 100%|██████████| 719/719 [00:22<00:00, 32.44it/s]\n",
      "Validation Epoch 33: 100%|██████████| 180/180 [00:25<00:00,  6.98it/s]\n"
     ]
    },
    {
     "name": "stdout",
     "output_type": "stream",
     "text": [
      "Epoch 34/400\n"
     ]
    },
    {
     "name": "stderr",
     "output_type": "stream",
     "text": [
      "Training Epoch 34: 100%|██████████| 719/719 [00:22<00:00, 32.11it/s]\n",
      "Validation Epoch 34: 100%|██████████| 180/180 [00:26<00:00,  6.89it/s]\n"
     ]
    },
    {
     "name": "stdout",
     "output_type": "stream",
     "text": [
      "Epoch 35/400\n"
     ]
    },
    {
     "name": "stderr",
     "output_type": "stream",
     "text": [
      "Training Epoch 35: 100%|██████████| 719/719 [00:22<00:00, 32.36it/s]\n",
      "Validation Epoch 35: 100%|██████████| 180/180 [00:25<00:00,  6.94it/s]\n"
     ]
    },
    {
     "name": "stdout",
     "output_type": "stream",
     "text": [
      "Epoch 36/400\n"
     ]
    },
    {
     "name": "stderr",
     "output_type": "stream",
     "text": [
      "Training Epoch 36: 100%|██████████| 719/719 [00:22<00:00, 32.22it/s]\n",
      "Validation Epoch 36: 100%|██████████| 180/180 [00:26<00:00,  6.87it/s]\n"
     ]
    },
    {
     "name": "stdout",
     "output_type": "stream",
     "text": [
      "Epoch 37/400\n"
     ]
    },
    {
     "name": "stderr",
     "output_type": "stream",
     "text": [
      "Training Epoch 37: 100%|██████████| 719/719 [00:22<00:00, 32.25it/s]\n",
      "Validation Epoch 37: 100%|██████████| 180/180 [00:26<00:00,  6.91it/s]\n"
     ]
    },
    {
     "name": "stdout",
     "output_type": "stream",
     "text": [
      "Epoch 38/400\n"
     ]
    },
    {
     "name": "stderr",
     "output_type": "stream",
     "text": [
      "Training Epoch 38: 100%|██████████| 719/719 [00:22<00:00, 31.33it/s]\n",
      "Validation Epoch 38: 100%|██████████| 180/180 [00:27<00:00,  6.66it/s]\n"
     ]
    },
    {
     "name": "stdout",
     "output_type": "stream",
     "text": [
      "Epoch 39/400\n"
     ]
    },
    {
     "name": "stderr",
     "output_type": "stream",
     "text": [
      "Training Epoch 39: 100%|██████████| 719/719 [00:22<00:00, 31.53it/s]\n",
      "Validation Epoch 39: 100%|██████████| 180/180 [00:26<00:00,  6.68it/s]\n"
     ]
    },
    {
     "name": "stdout",
     "output_type": "stream",
     "text": [
      "Epoch 40/400\n"
     ]
    },
    {
     "name": "stderr",
     "output_type": "stream",
     "text": [
      "Training Epoch 40: 100%|██████████| 719/719 [00:22<00:00, 31.87it/s]\n",
      "Validation Epoch 40: 100%|██████████| 180/180 [00:26<00:00,  6.82it/s]\n"
     ]
    },
    {
     "name": "stdout",
     "output_type": "stream",
     "text": [
      "Epoch 41/400\n"
     ]
    },
    {
     "name": "stderr",
     "output_type": "stream",
     "text": [
      "Training Epoch 41: 100%|██████████| 719/719 [00:22<00:00, 31.68it/s]\n",
      "Validation Epoch 41: 100%|██████████| 180/180 [00:26<00:00,  6.74it/s]\n"
     ]
    },
    {
     "name": "stdout",
     "output_type": "stream",
     "text": [
      "Epoch 42/400\n"
     ]
    },
    {
     "name": "stderr",
     "output_type": "stream",
     "text": [
      "Training Epoch 42: 100%|██████████| 719/719 [00:21<00:00, 32.96it/s]\n",
      "Validation Epoch 42: 100%|██████████| 180/180 [00:25<00:00,  6.97it/s]\n"
     ]
    },
    {
     "name": "stdout",
     "output_type": "stream",
     "text": [
      "Epoch 43/400\n"
     ]
    },
    {
     "name": "stderr",
     "output_type": "stream",
     "text": [
      "Training Epoch 43: 100%|██████████| 719/719 [00:22<00:00, 32.38it/s]\n",
      "Validation Epoch 43: 100%|██████████| 180/180 [00:25<00:00,  6.93it/s]\n"
     ]
    },
    {
     "name": "stdout",
     "output_type": "stream",
     "text": [
      "Epoch 44/400\n"
     ]
    },
    {
     "name": "stderr",
     "output_type": "stream",
     "text": [
      "Training Epoch 44: 100%|██████████| 719/719 [00:22<00:00, 32.47it/s]\n",
      "Validation Epoch 44: 100%|██████████| 180/180 [00:26<00:00,  6.91it/s]\n"
     ]
    },
    {
     "name": "stdout",
     "output_type": "stream",
     "text": [
      "Epoch 45/400\n"
     ]
    },
    {
     "name": "stderr",
     "output_type": "stream",
     "text": [
      "Training Epoch 45: 100%|██████████| 719/719 [00:22<00:00, 32.49it/s]\n",
      "Validation Epoch 45: 100%|██████████| 180/180 [00:25<00:00,  6.93it/s]\n"
     ]
    },
    {
     "name": "stdout",
     "output_type": "stream",
     "text": [
      "Epoch 46/400\n"
     ]
    },
    {
     "name": "stderr",
     "output_type": "stream",
     "text": [
      "Training Epoch 46: 100%|██████████| 719/719 [00:22<00:00, 32.25it/s]\n",
      "Validation Epoch 46: 100%|██████████| 180/180 [00:26<00:00,  6.88it/s]\n"
     ]
    },
    {
     "name": "stdout",
     "output_type": "stream",
     "text": [
      "Epoch 47/400\n"
     ]
    },
    {
     "name": "stderr",
     "output_type": "stream",
     "text": [
      "Training Epoch 47: 100%|██████████| 719/719 [00:22<00:00, 32.66it/s]\n",
      "Validation Epoch 47: 100%|██████████| 180/180 [00:25<00:00,  6.96it/s]\n"
     ]
    },
    {
     "name": "stdout",
     "output_type": "stream",
     "text": [
      "Epoch 48/400\n"
     ]
    },
    {
     "name": "stderr",
     "output_type": "stream",
     "text": [
      "Training Epoch 48: 100%|██████████| 719/719 [00:22<00:00, 32.03it/s]\n",
      "Validation Epoch 48: 100%|██████████| 180/180 [00:26<00:00,  6.88it/s]\n"
     ]
    },
    {
     "name": "stdout",
     "output_type": "stream",
     "text": [
      "Epoch 49/400\n"
     ]
    },
    {
     "name": "stderr",
     "output_type": "stream",
     "text": [
      "Training Epoch 49: 100%|██████████| 719/719 [00:22<00:00, 31.75it/s]\n",
      "Validation Epoch 49: 100%|██████████| 180/180 [00:26<00:00,  6.76it/s]\n"
     ]
    },
    {
     "name": "stdout",
     "output_type": "stream",
     "text": [
      "Epoch 50/400\n"
     ]
    },
    {
     "name": "stderr",
     "output_type": "stream",
     "text": [
      "Training Epoch 50: 100%|██████████| 719/719 [00:22<00:00, 32.25it/s]\n",
      "Validation Epoch 50: 100%|██████████| 180/180 [00:26<00:00,  6.87it/s]\n"
     ]
    },
    {
     "name": "stdout",
     "output_type": "stream",
     "text": [
      "Epoch 51/400\n"
     ]
    },
    {
     "name": "stderr",
     "output_type": "stream",
     "text": [
      "Training Epoch 51: 100%|██████████| 719/719 [00:22<00:00, 32.55it/s]\n",
      "Validation Epoch 51: 100%|██████████| 180/180 [00:25<00:00,  6.96it/s]\n"
     ]
    },
    {
     "name": "stdout",
     "output_type": "stream",
     "text": [
      "Epoch 52/400\n"
     ]
    },
    {
     "name": "stderr",
     "output_type": "stream",
     "text": [
      "Training Epoch 52: 100%|██████████| 719/719 [00:22<00:00, 32.42it/s]\n",
      "Validation Epoch 52: 100%|██████████| 180/180 [00:25<00:00,  6.96it/s]\n"
     ]
    },
    {
     "name": "stdout",
     "output_type": "stream",
     "text": [
      "Epoch 53/400\n"
     ]
    },
    {
     "name": "stderr",
     "output_type": "stream",
     "text": [
      "Training Epoch 53: 100%|██████████| 719/719 [00:21<00:00, 32.95it/s]\n",
      "Validation Epoch 53: 100%|██████████| 180/180 [00:25<00:00,  6.99it/s]\n"
     ]
    },
    {
     "name": "stdout",
     "output_type": "stream",
     "text": [
      "Epoch 54/400\n"
     ]
    },
    {
     "name": "stderr",
     "output_type": "stream",
     "text": [
      "Training Epoch 54: 100%|██████████| 719/719 [00:22<00:00, 32.51it/s]\n",
      "Validation Epoch 54: 100%|██████████| 180/180 [00:25<00:00,  6.97it/s]\n"
     ]
    },
    {
     "name": "stdout",
     "output_type": "stream",
     "text": [
      "Epoch 55/400\n"
     ]
    },
    {
     "name": "stderr",
     "output_type": "stream",
     "text": [
      "Training Epoch 55: 100%|██████████| 719/719 [00:21<00:00, 32.95it/s]\n",
      "Validation Epoch 55: 100%|██████████| 180/180 [00:25<00:00,  7.03it/s]\n"
     ]
    },
    {
     "name": "stdout",
     "output_type": "stream",
     "text": [
      "Epoch 56/400\n"
     ]
    },
    {
     "name": "stderr",
     "output_type": "stream",
     "text": [
      "Training Epoch 56: 100%|██████████| 719/719 [00:22<00:00, 31.96it/s]\n",
      "Validation Epoch 56: 100%|██████████| 180/180 [00:26<00:00,  6.89it/s]\n"
     ]
    },
    {
     "name": "stdout",
     "output_type": "stream",
     "text": [
      "Epoch 57/400\n"
     ]
    },
    {
     "name": "stderr",
     "output_type": "stream",
     "text": [
      "Training Epoch 57: 100%|██████████| 719/719 [00:22<00:00, 32.40it/s]\n",
      "Validation Epoch 57: 100%|██████████| 180/180 [00:26<00:00,  6.89it/s]\n"
     ]
    },
    {
     "name": "stdout",
     "output_type": "stream",
     "text": [
      "Epoch 58/400\n"
     ]
    },
    {
     "name": "stderr",
     "output_type": "stream",
     "text": [
      "Training Epoch 58: 100%|██████████| 719/719 [00:22<00:00, 31.70it/s]\n",
      "Validation Epoch 58: 100%|██████████| 180/180 [00:26<00:00,  6.74it/s]\n"
     ]
    },
    {
     "name": "stdout",
     "output_type": "stream",
     "text": [
      "Epoch 59/400\n"
     ]
    },
    {
     "name": "stderr",
     "output_type": "stream",
     "text": [
      "Training Epoch 59: 100%|██████████| 719/719 [00:22<00:00, 32.23it/s]\n",
      "Validation Epoch 59: 100%|██████████| 180/180 [00:26<00:00,  6.85it/s]\n"
     ]
    },
    {
     "name": "stdout",
     "output_type": "stream",
     "text": [
      "Epoch 60/400\n"
     ]
    },
    {
     "name": "stderr",
     "output_type": "stream",
     "text": [
      "Training Epoch 60: 100%|██████████| 719/719 [00:22<00:00, 32.34it/s]\n",
      "Validation Epoch 60: 100%|██████████| 180/180 [00:26<00:00,  6.92it/s]\n"
     ]
    },
    {
     "name": "stdout",
     "output_type": "stream",
     "text": [
      "Epoch 61/400\n"
     ]
    },
    {
     "name": "stderr",
     "output_type": "stream",
     "text": [
      "Training Epoch 61: 100%|██████████| 719/719 [00:22<00:00, 31.66it/s]\n",
      "Validation Epoch 61: 100%|██████████| 180/180 [00:26<00:00,  6.79it/s]\n"
     ]
    },
    {
     "name": "stdout",
     "output_type": "stream",
     "text": [
      "Epoch 62/400\n"
     ]
    },
    {
     "name": "stderr",
     "output_type": "stream",
     "text": [
      "Training Epoch 62: 100%|██████████| 719/719 [00:22<00:00, 32.68it/s]\n",
      "Validation Epoch 62: 100%|██████████| 180/180 [00:25<00:00,  6.99it/s]\n"
     ]
    },
    {
     "name": "stdout",
     "output_type": "stream",
     "text": [
      "Epoch 63/400\n"
     ]
    },
    {
     "name": "stderr",
     "output_type": "stream",
     "text": [
      "Training Epoch 63: 100%|██████████| 719/719 [00:22<00:00, 31.85it/s]\n",
      "Validation Epoch 63: 100%|██████████| 180/180 [00:26<00:00,  6.83it/s]\n"
     ]
    },
    {
     "name": "stdout",
     "output_type": "stream",
     "text": [
      "Epoch 64/400\n"
     ]
    },
    {
     "name": "stderr",
     "output_type": "stream",
     "text": [
      "Training Epoch 64: 100%|██████████| 719/719 [00:22<00:00, 32.54it/s]\n",
      "Validation Epoch 64: 100%|██████████| 180/180 [00:25<00:00,  6.97it/s]\n"
     ]
    },
    {
     "name": "stdout",
     "output_type": "stream",
     "text": [
      "Epoch 65/400\n"
     ]
    },
    {
     "name": "stderr",
     "output_type": "stream",
     "text": [
      "Training Epoch 65: 100%|██████████| 719/719 [00:22<00:00, 32.20it/s]\n",
      "Validation Epoch 65: 100%|██████████| 180/180 [00:26<00:00,  6.85it/s]\n"
     ]
    },
    {
     "name": "stdout",
     "output_type": "stream",
     "text": [
      "Epoch 66/400\n"
     ]
    },
    {
     "name": "stderr",
     "output_type": "stream",
     "text": [
      "Training Epoch 66: 100%|██████████| 719/719 [00:22<00:00, 32.20it/s]\n",
      "Validation Epoch 66: 100%|██████████| 180/180 [00:26<00:00,  6.87it/s]\n"
     ]
    },
    {
     "name": "stdout",
     "output_type": "stream",
     "text": [
      "Epoch 67/400\n"
     ]
    },
    {
     "name": "stderr",
     "output_type": "stream",
     "text": [
      "Training Epoch 67: 100%|██████████| 719/719 [00:21<00:00, 32.77it/s]\n",
      "Validation Epoch 67: 100%|██████████| 180/180 [00:25<00:00,  6.96it/s]\n"
     ]
    },
    {
     "name": "stdout",
     "output_type": "stream",
     "text": [
      "Epoch 68/400\n"
     ]
    },
    {
     "name": "stderr",
     "output_type": "stream",
     "text": [
      "Training Epoch 68: 100%|██████████| 719/719 [00:22<00:00, 32.37it/s]\n",
      "Validation Epoch 68: 100%|██████████| 180/180 [00:26<00:00,  6.88it/s]\n"
     ]
    },
    {
     "name": "stdout",
     "output_type": "stream",
     "text": [
      "Epoch 69/400\n"
     ]
    },
    {
     "name": "stderr",
     "output_type": "stream",
     "text": [
      "Training Epoch 69: 100%|██████████| 719/719 [00:22<00:00, 31.40it/s]\n",
      "Validation Epoch 69: 100%|██████████| 180/180 [00:26<00:00,  6.72it/s]\n"
     ]
    },
    {
     "name": "stdout",
     "output_type": "stream",
     "text": [
      "Epoch 70/400\n"
     ]
    },
    {
     "name": "stderr",
     "output_type": "stream",
     "text": [
      "Training Epoch 70: 100%|██████████| 719/719 [00:22<00:00, 32.15it/s]\n",
      "Validation Epoch 70: 100%|██████████| 180/180 [00:26<00:00,  6.81it/s]\n"
     ]
    },
    {
     "name": "stdout",
     "output_type": "stream",
     "text": [
      "Epoch 71/400\n"
     ]
    },
    {
     "name": "stderr",
     "output_type": "stream",
     "text": [
      "Training Epoch 71: 100%|██████████| 719/719 [00:22<00:00, 32.47it/s]\n",
      "Validation Epoch 71: 100%|██████████| 180/180 [00:25<00:00,  6.94it/s]\n"
     ]
    },
    {
     "name": "stdout",
     "output_type": "stream",
     "text": [
      "Epoch 72/400\n"
     ]
    },
    {
     "name": "stderr",
     "output_type": "stream",
     "text": [
      "Training Epoch 72: 100%|██████████| 719/719 [00:22<00:00, 31.98it/s]\n",
      "Validation Epoch 72: 100%|██████████| 180/180 [00:26<00:00,  6.82it/s]\n"
     ]
    },
    {
     "name": "stdout",
     "output_type": "stream",
     "text": [
      "Epoch 73/400\n"
     ]
    },
    {
     "name": "stderr",
     "output_type": "stream",
     "text": [
      "Training Epoch 73: 100%|██████████| 719/719 [00:21<00:00, 33.20it/s]\n",
      "Validation Epoch 73: 100%|██████████| 180/180 [00:25<00:00,  7.11it/s]\n"
     ]
    },
    {
     "name": "stdout",
     "output_type": "stream",
     "text": [
      "Epoch 74/400\n"
     ]
    },
    {
     "name": "stderr",
     "output_type": "stream",
     "text": [
      "Training Epoch 74: 100%|██████████| 719/719 [00:22<00:00, 32.06it/s]\n",
      "Validation Epoch 74: 100%|██████████| 180/180 [00:26<00:00,  6.85it/s]\n"
     ]
    },
    {
     "name": "stdout",
     "output_type": "stream",
     "text": [
      "Epoch 75/400\n"
     ]
    },
    {
     "name": "stderr",
     "output_type": "stream",
     "text": [
      "Training Epoch 75: 100%|██████████| 719/719 [00:22<00:00, 32.48it/s]\n",
      "Validation Epoch 75: 100%|██████████| 180/180 [00:26<00:00,  6.90it/s]\n"
     ]
    },
    {
     "name": "stdout",
     "output_type": "stream",
     "text": [
      "Epoch 76/400\n"
     ]
    },
    {
     "name": "stderr",
     "output_type": "stream",
     "text": [
      "Training Epoch 76: 100%|██████████| 719/719 [00:22<00:00, 32.54it/s]\n",
      "Validation Epoch 76: 100%|██████████| 180/180 [00:25<00:00,  6.94it/s]\n"
     ]
    },
    {
     "name": "stdout",
     "output_type": "stream",
     "text": [
      "Epoch 77/400\n"
     ]
    },
    {
     "name": "stderr",
     "output_type": "stream",
     "text": [
      "Training Epoch 77: 100%|██████████| 719/719 [00:22<00:00, 32.50it/s]\n",
      "Validation Epoch 77: 100%|██████████| 180/180 [00:26<00:00,  6.82it/s]\n"
     ]
    },
    {
     "name": "stdout",
     "output_type": "stream",
     "text": [
      "Epoch 78/400\n"
     ]
    },
    {
     "name": "stderr",
     "output_type": "stream",
     "text": [
      "Training Epoch 78: 100%|██████████| 719/719 [00:22<00:00, 32.51it/s]\n",
      "Validation Epoch 78: 100%|██████████| 180/180 [00:25<00:00,  6.96it/s]\n"
     ]
    },
    {
     "name": "stdout",
     "output_type": "stream",
     "text": [
      "Epoch 79/400\n"
     ]
    },
    {
     "name": "stderr",
     "output_type": "stream",
     "text": [
      "Training Epoch 79: 100%|██████████| 719/719 [00:22<00:00, 31.99it/s]\n",
      "Validation Epoch 79: 100%|██████████| 180/180 [00:26<00:00,  6.84it/s]\n"
     ]
    },
    {
     "name": "stdout",
     "output_type": "stream",
     "text": [
      "Epoch 80/400\n"
     ]
    },
    {
     "name": "stderr",
     "output_type": "stream",
     "text": [
      "Training Epoch 80: 100%|██████████| 719/719 [00:22<00:00, 31.79it/s]\n",
      "Validation Epoch 80: 100%|██████████| 180/180 [00:26<00:00,  6.82it/s]\n"
     ]
    },
    {
     "name": "stdout",
     "output_type": "stream",
     "text": [
      "Epoch 81/400\n"
     ]
    },
    {
     "name": "stderr",
     "output_type": "stream",
     "text": [
      "Training Epoch 81: 100%|██████████| 719/719 [00:21<00:00, 33.68it/s]\n",
      "Validation Epoch 81: 100%|██████████| 180/180 [00:25<00:00,  7.12it/s]\n"
     ]
    },
    {
     "name": "stdout",
     "output_type": "stream",
     "text": [
      "Epoch 82/400\n"
     ]
    },
    {
     "name": "stderr",
     "output_type": "stream",
     "text": [
      "Training Epoch 82: 100%|██████████| 719/719 [00:21<00:00, 32.75it/s]\n",
      "Validation Epoch 82: 100%|██████████| 180/180 [00:25<00:00,  6.99it/s]\n"
     ]
    },
    {
     "name": "stdout",
     "output_type": "stream",
     "text": [
      "Epoch 83/400\n"
     ]
    },
    {
     "name": "stderr",
     "output_type": "stream",
     "text": [
      "Training Epoch 83: 100%|██████████| 719/719 [00:22<00:00, 31.70it/s]\n",
      "Validation Epoch 83: 100%|██████████| 180/180 [00:26<00:00,  6.76it/s]\n"
     ]
    },
    {
     "name": "stdout",
     "output_type": "stream",
     "text": [
      "Epoch 84/400\n"
     ]
    },
    {
     "name": "stderr",
     "output_type": "stream",
     "text": [
      "Training Epoch 84: 100%|██████████| 719/719 [00:22<00:00, 32.20it/s]\n",
      "Validation Epoch 84: 100%|██████████| 180/180 [00:26<00:00,  6.87it/s]\n"
     ]
    },
    {
     "name": "stdout",
     "output_type": "stream",
     "text": [
      "Epoch 85/400\n"
     ]
    },
    {
     "name": "stderr",
     "output_type": "stream",
     "text": [
      "Training Epoch 85: 100%|██████████| 719/719 [00:22<00:00, 32.11it/s]\n",
      "Validation Epoch 85: 100%|██████████| 180/180 [00:26<00:00,  6.89it/s]\n"
     ]
    },
    {
     "name": "stdout",
     "output_type": "stream",
     "text": [
      "Epoch 86/400\n"
     ]
    },
    {
     "name": "stderr",
     "output_type": "stream",
     "text": [
      "Training Epoch 86: 100%|██████████| 719/719 [00:22<00:00, 31.60it/s]\n",
      "Validation Epoch 86: 100%|██████████| 180/180 [00:26<00:00,  6.79it/s]\n"
     ]
    },
    {
     "name": "stdout",
     "output_type": "stream",
     "text": [
      "Epoch 87/400\n"
     ]
    },
    {
     "name": "stderr",
     "output_type": "stream",
     "text": [
      "Training Epoch 87: 100%|██████████| 719/719 [00:21<00:00, 32.98it/s]\n",
      "Validation Epoch 87: 100%|██████████| 180/180 [00:25<00:00,  7.02it/s]\n"
     ]
    },
    {
     "name": "stdout",
     "output_type": "stream",
     "text": [
      "Epoch 88/400\n"
     ]
    },
    {
     "name": "stderr",
     "output_type": "stream",
     "text": [
      "Training Epoch 88: 100%|██████████| 719/719 [00:22<00:00, 32.19it/s]\n",
      "Validation Epoch 88: 100%|██████████| 180/180 [00:26<00:00,  6.89it/s]\n"
     ]
    },
    {
     "name": "stdout",
     "output_type": "stream",
     "text": [
      "Epoch 89/400\n"
     ]
    },
    {
     "name": "stderr",
     "output_type": "stream",
     "text": [
      "Training Epoch 89: 100%|██████████| 719/719 [00:22<00:00, 31.72it/s]\n",
      "Validation Epoch 89: 100%|██████████| 180/180 [00:26<00:00,  6.81it/s]\n"
     ]
    },
    {
     "name": "stdout",
     "output_type": "stream",
     "text": [
      "Epoch 90/400\n"
     ]
    },
    {
     "name": "stderr",
     "output_type": "stream",
     "text": [
      "Training Epoch 90: 100%|██████████| 719/719 [00:22<00:00, 31.58it/s]\n",
      "Validation Epoch 90: 100%|██████████| 180/180 [00:26<00:00,  6.78it/s]\n"
     ]
    },
    {
     "name": "stdout",
     "output_type": "stream",
     "text": [
      "Epoch 91/400\n"
     ]
    },
    {
     "name": "stderr",
     "output_type": "stream",
     "text": [
      "Training Epoch 91: 100%|██████████| 719/719 [00:22<00:00, 31.33it/s]\n",
      "Validation Epoch 91: 100%|██████████| 180/180 [00:26<00:00,  6.69it/s]\n"
     ]
    },
    {
     "name": "stdout",
     "output_type": "stream",
     "text": [
      "Epoch 92/400\n"
     ]
    },
    {
     "name": "stderr",
     "output_type": "stream",
     "text": [
      "Training Epoch 92: 100%|██████████| 719/719 [00:22<00:00, 32.25it/s]\n",
      "Validation Epoch 92: 100%|██████████| 180/180 [00:26<00:00,  6.86it/s]\n"
     ]
    },
    {
     "name": "stdout",
     "output_type": "stream",
     "text": [
      "Epoch 93/400\n"
     ]
    },
    {
     "name": "stderr",
     "output_type": "stream",
     "text": [
      "Training Epoch 93: 100%|██████████| 719/719 [00:21<00:00, 32.75it/s]\n",
      "Validation Epoch 93: 100%|██████████| 180/180 [00:25<00:00,  7.07it/s]\n"
     ]
    },
    {
     "name": "stdout",
     "output_type": "stream",
     "text": [
      "Epoch 94/400\n"
     ]
    },
    {
     "name": "stderr",
     "output_type": "stream",
     "text": [
      "Training Epoch 94: 100%|██████████| 719/719 [00:21<00:00, 32.96it/s]\n",
      "Validation Epoch 94: 100%|██████████| 180/180 [00:25<00:00,  7.02it/s]\n"
     ]
    },
    {
     "name": "stdout",
     "output_type": "stream",
     "text": [
      "Epoch 95/400\n"
     ]
    },
    {
     "name": "stderr",
     "output_type": "stream",
     "text": [
      "Training Epoch 95: 100%|██████████| 719/719 [00:21<00:00, 32.92it/s]\n",
      "Validation Epoch 95: 100%|██████████| 180/180 [00:25<00:00,  7.05it/s]\n"
     ]
    },
    {
     "name": "stdout",
     "output_type": "stream",
     "text": [
      "Epoch 96/400\n"
     ]
    },
    {
     "name": "stderr",
     "output_type": "stream",
     "text": [
      "Training Epoch 96: 100%|██████████| 719/719 [00:22<00:00, 32.35it/s]\n",
      "Validation Epoch 96: 100%|██████████| 180/180 [00:26<00:00,  6.88it/s]\n"
     ]
    },
    {
     "name": "stdout",
     "output_type": "stream",
     "text": [
      "Epoch 97/400\n"
     ]
    },
    {
     "name": "stderr",
     "output_type": "stream",
     "text": [
      "Training Epoch 97: 100%|██████████| 719/719 [00:22<00:00, 32.10it/s]\n",
      "Validation Epoch 97: 100%|██████████| 180/180 [00:26<00:00,  6.82it/s]\n"
     ]
    },
    {
     "name": "stdout",
     "output_type": "stream",
     "text": [
      "Epoch 98/400\n"
     ]
    },
    {
     "name": "stderr",
     "output_type": "stream",
     "text": [
      "Training Epoch 98: 100%|██████████| 719/719 [00:22<00:00, 32.26it/s]\n",
      "Validation Epoch 98: 100%|██████████| 180/180 [00:26<00:00,  6.82it/s]\n"
     ]
    },
    {
     "name": "stdout",
     "output_type": "stream",
     "text": [
      "Epoch 99/400\n"
     ]
    },
    {
     "name": "stderr",
     "output_type": "stream",
     "text": [
      "Training Epoch 99: 100%|██████████| 719/719 [00:22<00:00, 31.81it/s]\n",
      "Validation Epoch 99: 100%|██████████| 180/180 [00:26<00:00,  6.80it/s]\n"
     ]
    },
    {
     "name": "stdout",
     "output_type": "stream",
     "text": [
      "Epoch 100/400\n"
     ]
    },
    {
     "name": "stderr",
     "output_type": "stream",
     "text": [
      "Training Epoch 100: 100%|██████████| 719/719 [00:22<00:00, 32.07it/s]\n",
      "Validation Epoch 100: 100%|██████████| 180/180 [00:26<00:00,  6.80it/s]\n"
     ]
    },
    {
     "name": "stdout",
     "output_type": "stream",
     "text": [
      "Epoch 101/400\n"
     ]
    },
    {
     "name": "stderr",
     "output_type": "stream",
     "text": [
      "Training Epoch 101: 100%|██████████| 719/719 [00:22<00:00, 32.60it/s]\n",
      "Validation Epoch 101: 100%|██████████| 180/180 [00:26<00:00,  6.91it/s]\n"
     ]
    },
    {
     "name": "stdout",
     "output_type": "stream",
     "text": [
      "Epoch 102/400\n"
     ]
    },
    {
     "name": "stderr",
     "output_type": "stream",
     "text": [
      "Training Epoch 102: 100%|██████████| 719/719 [00:22<00:00, 32.14it/s]\n",
      "Validation Epoch 102: 100%|██████████| 180/180 [00:26<00:00,  6.81it/s]\n"
     ]
    },
    {
     "name": "stdout",
     "output_type": "stream",
     "text": [
      "Epoch 103/400\n"
     ]
    },
    {
     "name": "stderr",
     "output_type": "stream",
     "text": [
      "Training Epoch 103: 100%|██████████| 719/719 [00:21<00:00, 32.76it/s]\n",
      "Validation Epoch 103: 100%|██████████| 180/180 [00:25<00:00,  7.01it/s]\n"
     ]
    },
    {
     "name": "stdout",
     "output_type": "stream",
     "text": [
      "Epoch 104/400\n"
     ]
    },
    {
     "name": "stderr",
     "output_type": "stream",
     "text": [
      "Training Epoch 104: 100%|██████████| 719/719 [00:22<00:00, 32.45it/s]\n",
      "Validation Epoch 104: 100%|██████████| 180/180 [00:26<00:00,  6.91it/s]\n"
     ]
    },
    {
     "name": "stdout",
     "output_type": "stream",
     "text": [
      "Epoch 105/400\n"
     ]
    },
    {
     "name": "stderr",
     "output_type": "stream",
     "text": [
      "Training Epoch 105: 100%|██████████| 719/719 [00:22<00:00, 32.31it/s]\n",
      "Validation Epoch 105: 100%|██████████| 180/180 [00:26<00:00,  6.86it/s]\n"
     ]
    },
    {
     "name": "stdout",
     "output_type": "stream",
     "text": [
      "Epoch 106/400\n"
     ]
    },
    {
     "name": "stderr",
     "output_type": "stream",
     "text": [
      "Training Epoch 106: 100%|██████████| 719/719 [00:22<00:00, 32.63it/s]\n",
      "Validation Epoch 106: 100%|██████████| 180/180 [00:26<00:00,  6.91it/s]\n"
     ]
    },
    {
     "name": "stdout",
     "output_type": "stream",
     "text": [
      "Epoch 107/400\n"
     ]
    },
    {
     "name": "stderr",
     "output_type": "stream",
     "text": [
      "Training Epoch 107: 100%|██████████| 719/719 [00:22<00:00, 32.10it/s]\n",
      "Validation Epoch 107: 100%|██████████| 180/180 [00:26<00:00,  6.90it/s]\n"
     ]
    },
    {
     "name": "stdout",
     "output_type": "stream",
     "text": [
      "Epoch 108/400\n"
     ]
    },
    {
     "name": "stderr",
     "output_type": "stream",
     "text": [
      "Training Epoch 108: 100%|██████████| 719/719 [00:21<00:00, 33.05it/s]\n",
      "Validation Epoch 108: 100%|██████████| 180/180 [00:25<00:00,  6.99it/s]\n"
     ]
    },
    {
     "name": "stdout",
     "output_type": "stream",
     "text": [
      "Epoch 109/400\n"
     ]
    },
    {
     "name": "stderr",
     "output_type": "stream",
     "text": [
      "Training Epoch 109: 100%|██████████| 719/719 [00:21<00:00, 32.82it/s]\n",
      "Validation Epoch 109: 100%|██████████| 180/180 [00:25<00:00,  7.05it/s]\n"
     ]
    },
    {
     "name": "stdout",
     "output_type": "stream",
     "text": [
      "Epoch 110/400\n"
     ]
    },
    {
     "name": "stderr",
     "output_type": "stream",
     "text": [
      "Training Epoch 110: 100%|██████████| 719/719 [00:22<00:00, 32.05it/s]\n",
      "Validation Epoch 110: 100%|██████████| 180/180 [00:26<00:00,  6.85it/s]\n"
     ]
    },
    {
     "name": "stdout",
     "output_type": "stream",
     "text": [
      "Epoch 111/400\n"
     ]
    },
    {
     "name": "stderr",
     "output_type": "stream",
     "text": [
      "Training Epoch 111: 100%|██████████| 719/719 [00:22<00:00, 32.50it/s]\n",
      "Validation Epoch 111: 100%|██████████| 180/180 [00:25<00:00,  6.98it/s]\n"
     ]
    },
    {
     "name": "stdout",
     "output_type": "stream",
     "text": [
      "Epoch 112/400\n"
     ]
    },
    {
     "name": "stderr",
     "output_type": "stream",
     "text": [
      "Training Epoch 112: 100%|██████████| 719/719 [00:21<00:00, 32.79it/s]\n",
      "Validation Epoch 112: 100%|██████████| 180/180 [00:25<00:00,  6.97it/s]\n"
     ]
    },
    {
     "name": "stdout",
     "output_type": "stream",
     "text": [
      "Epoch 113/400\n"
     ]
    },
    {
     "name": "stderr",
     "output_type": "stream",
     "text": [
      "Training Epoch 113: 100%|██████████| 719/719 [00:22<00:00, 32.54it/s]\n",
      "Validation Epoch 113: 100%|██████████| 180/180 [00:25<00:00,  6.96it/s]\n"
     ]
    },
    {
     "name": "stdout",
     "output_type": "stream",
     "text": [
      "Epoch 114/400\n"
     ]
    },
    {
     "name": "stderr",
     "output_type": "stream",
     "text": [
      "Training Epoch 114: 100%|██████████| 719/719 [00:22<00:00, 31.83it/s]\n",
      "Validation Epoch 114: 100%|██████████| 180/180 [00:26<00:00,  6.83it/s]\n"
     ]
    },
    {
     "name": "stdout",
     "output_type": "stream",
     "text": [
      "Epoch 115/400\n"
     ]
    },
    {
     "name": "stderr",
     "output_type": "stream",
     "text": [
      "Training Epoch 115: 100%|██████████| 719/719 [00:22<00:00, 32.48it/s]\n",
      "Validation Epoch 115: 100%|██████████| 180/180 [00:25<00:00,  6.99it/s]\n"
     ]
    },
    {
     "name": "stdout",
     "output_type": "stream",
     "text": [
      "Epoch 116/400\n"
     ]
    },
    {
     "name": "stderr",
     "output_type": "stream",
     "text": [
      "Training Epoch 116: 100%|██████████| 719/719 [00:22<00:00, 32.22it/s]\n",
      "Validation Epoch 116: 100%|██████████| 180/180 [00:25<00:00,  6.95it/s]\n"
     ]
    },
    {
     "name": "stdout",
     "output_type": "stream",
     "text": [
      "Epoch 117/400\n"
     ]
    },
    {
     "name": "stderr",
     "output_type": "stream",
     "text": [
      "Training Epoch 117: 100%|██████████| 719/719 [00:22<00:00, 31.58it/s]\n",
      "Validation Epoch 117: 100%|██████████| 180/180 [00:26<00:00,  6.83it/s]\n"
     ]
    },
    {
     "name": "stdout",
     "output_type": "stream",
     "text": [
      "Epoch 118/400\n"
     ]
    },
    {
     "name": "stderr",
     "output_type": "stream",
     "text": [
      "Training Epoch 118: 100%|██████████| 719/719 [00:22<00:00, 31.66it/s]\n",
      "Validation Epoch 118: 100%|██████████| 180/180 [00:26<00:00,  6.77it/s]\n"
     ]
    },
    {
     "name": "stdout",
     "output_type": "stream",
     "text": [
      "Epoch 119/400\n"
     ]
    },
    {
     "name": "stderr",
     "output_type": "stream",
     "text": [
      "Training Epoch 119: 100%|██████████| 719/719 [00:21<00:00, 32.69it/s]\n",
      "Validation Epoch 119: 100%|██████████| 180/180 [00:25<00:00,  6.98it/s]\n"
     ]
    },
    {
     "name": "stdout",
     "output_type": "stream",
     "text": [
      "Epoch 120/400\n"
     ]
    },
    {
     "name": "stderr",
     "output_type": "stream",
     "text": [
      "Training Epoch 120: 100%|██████████| 719/719 [00:22<00:00, 31.59it/s]\n",
      "Validation Epoch 120: 100%|██████████| 180/180 [00:26<00:00,  6.78it/s]\n"
     ]
    },
    {
     "name": "stdout",
     "output_type": "stream",
     "text": [
      "Epoch 121/400\n"
     ]
    },
    {
     "name": "stderr",
     "output_type": "stream",
     "text": [
      "Training Epoch 121: 100%|██████████| 719/719 [00:22<00:00, 32.51it/s]\n",
      "Validation Epoch 121: 100%|██████████| 180/180 [00:25<00:00,  6.96it/s]\n"
     ]
    },
    {
     "name": "stdout",
     "output_type": "stream",
     "text": [
      "Epoch 122/400\n"
     ]
    },
    {
     "name": "stderr",
     "output_type": "stream",
     "text": [
      "Training Epoch 122: 100%|██████████| 719/719 [00:21<00:00, 32.73it/s]\n",
      "Validation Epoch 122: 100%|██████████| 180/180 [00:25<00:00,  6.97it/s]\n"
     ]
    },
    {
     "name": "stdout",
     "output_type": "stream",
     "text": [
      "Epoch 123/400\n"
     ]
    },
    {
     "name": "stderr",
     "output_type": "stream",
     "text": [
      "Training Epoch 123: 100%|██████████| 719/719 [00:22<00:00, 32.33it/s]\n",
      "Validation Epoch 123: 100%|██████████| 180/180 [00:26<00:00,  6.91it/s]\n"
     ]
    },
    {
     "name": "stdout",
     "output_type": "stream",
     "text": [
      "Epoch 124/400\n"
     ]
    },
    {
     "name": "stderr",
     "output_type": "stream",
     "text": [
      "Training Epoch 124: 100%|██████████| 719/719 [00:21<00:00, 32.73it/s]\n",
      "Validation Epoch 124: 100%|██████████| 180/180 [00:25<00:00,  6.97it/s]\n"
     ]
    },
    {
     "name": "stdout",
     "output_type": "stream",
     "text": [
      "Epoch 125/400\n"
     ]
    },
    {
     "name": "stderr",
     "output_type": "stream",
     "text": [
      "Training Epoch 125: 100%|██████████| 719/719 [00:22<00:00, 31.27it/s]\n",
      "Validation Epoch 125: 100%|██████████| 180/180 [00:26<00:00,  6.68it/s]\n"
     ]
    },
    {
     "name": "stdout",
     "output_type": "stream",
     "text": [
      "Epoch 126/400\n"
     ]
    },
    {
     "name": "stderr",
     "output_type": "stream",
     "text": [
      "Training Epoch 126: 100%|██████████| 719/719 [00:22<00:00, 32.50it/s]\n",
      "Validation Epoch 126: 100%|██████████| 180/180 [00:25<00:00,  6.93it/s]\n"
     ]
    },
    {
     "name": "stdout",
     "output_type": "stream",
     "text": [
      "Epoch 127/400\n"
     ]
    },
    {
     "name": "stderr",
     "output_type": "stream",
     "text": [
      "Training Epoch 127: 100%|██████████| 719/719 [00:21<00:00, 32.69it/s]\n",
      "Validation Epoch 127: 100%|██████████| 180/180 [00:25<00:00,  6.96it/s]\n"
     ]
    },
    {
     "name": "stdout",
     "output_type": "stream",
     "text": [
      "Epoch 128/400\n"
     ]
    },
    {
     "name": "stderr",
     "output_type": "stream",
     "text": [
      "Training Epoch 128: 100%|██████████| 719/719 [00:22<00:00, 32.12it/s]\n",
      "Validation Epoch 128: 100%|██████████| 180/180 [00:26<00:00,  6.83it/s]\n"
     ]
    },
    {
     "name": "stdout",
     "output_type": "stream",
     "text": [
      "Epoch 129/400\n"
     ]
    },
    {
     "name": "stderr",
     "output_type": "stream",
     "text": [
      "Training Epoch 129: 100%|██████████| 719/719 [00:22<00:00, 32.28it/s]\n",
      "Validation Epoch 129: 100%|██████████| 180/180 [00:26<00:00,  6.85it/s]\n"
     ]
    },
    {
     "name": "stdout",
     "output_type": "stream",
     "text": [
      "Epoch 130/400\n"
     ]
    },
    {
     "name": "stderr",
     "output_type": "stream",
     "text": [
      "Training Epoch 130: 100%|██████████| 719/719 [00:22<00:00, 32.09it/s]\n",
      "Validation Epoch 130: 100%|██████████| 180/180 [00:26<00:00,  6.87it/s]\n"
     ]
    },
    {
     "name": "stdout",
     "output_type": "stream",
     "text": [
      "Epoch 131/400\n"
     ]
    },
    {
     "name": "stderr",
     "output_type": "stream",
     "text": [
      "Training Epoch 131: 100%|██████████| 719/719 [00:22<00:00, 32.10it/s]\n",
      "Validation Epoch 131: 100%|██████████| 180/180 [00:26<00:00,  6.84it/s]\n"
     ]
    },
    {
     "name": "stdout",
     "output_type": "stream",
     "text": [
      "Epoch 132/400\n"
     ]
    },
    {
     "name": "stderr",
     "output_type": "stream",
     "text": [
      "Training Epoch 132: 100%|██████████| 719/719 [00:22<00:00, 32.59it/s]\n",
      "Validation Epoch 132: 100%|██████████| 180/180 [00:25<00:00,  6.94it/s]\n"
     ]
    },
    {
     "name": "stdout",
     "output_type": "stream",
     "text": [
      "Epoch 133/400\n"
     ]
    },
    {
     "name": "stderr",
     "output_type": "stream",
     "text": [
      "Training Epoch 133: 100%|██████████| 719/719 [00:22<00:00, 32.63it/s]\n",
      "Validation Epoch 133: 100%|██████████| 180/180 [00:25<00:00,  7.02it/s]\n"
     ]
    },
    {
     "name": "stdout",
     "output_type": "stream",
     "text": [
      "Epoch 134/400\n"
     ]
    },
    {
     "name": "stderr",
     "output_type": "stream",
     "text": [
      "Training Epoch 134: 100%|██████████| 719/719 [00:21<00:00, 33.15it/s]\n",
      "Validation Epoch 134: 100%|██████████| 180/180 [00:25<00:00,  7.06it/s]\n"
     ]
    },
    {
     "name": "stdout",
     "output_type": "stream",
     "text": [
      "Epoch 135/400\n"
     ]
    },
    {
     "name": "stderr",
     "output_type": "stream",
     "text": [
      "Training Epoch 135: 100%|██████████| 719/719 [00:22<00:00, 32.21it/s]\n",
      "Validation Epoch 135: 100%|██████████| 180/180 [00:25<00:00,  6.93it/s]\n"
     ]
    },
    {
     "name": "stdout",
     "output_type": "stream",
     "text": [
      "Epoch 136/400\n"
     ]
    },
    {
     "name": "stderr",
     "output_type": "stream",
     "text": [
      "Training Epoch 136: 100%|██████████| 719/719 [00:21<00:00, 32.81it/s]\n",
      "Validation Epoch 136: 100%|██████████| 180/180 [00:25<00:00,  7.04it/s]\n"
     ]
    },
    {
     "name": "stdout",
     "output_type": "stream",
     "text": [
      "Epoch 137/400\n"
     ]
    },
    {
     "name": "stderr",
     "output_type": "stream",
     "text": [
      "Training Epoch 137: 100%|██████████| 719/719 [00:23<00:00, 30.62it/s]\n",
      "Validation Epoch 137: 100%|██████████| 180/180 [00:27<00:00,  6.62it/s]\n"
     ]
    },
    {
     "name": "stdout",
     "output_type": "stream",
     "text": [
      "Epoch 138/400\n"
     ]
    },
    {
     "name": "stderr",
     "output_type": "stream",
     "text": [
      "Training Epoch 138: 100%|██████████| 719/719 [00:21<00:00, 32.99it/s]\n",
      "Validation Epoch 138: 100%|██████████| 180/180 [00:25<00:00,  7.03it/s]\n"
     ]
    },
    {
     "name": "stdout",
     "output_type": "stream",
     "text": [
      "Epoch 139/400\n"
     ]
    },
    {
     "name": "stderr",
     "output_type": "stream",
     "text": [
      "Training Epoch 139: 100%|██████████| 719/719 [00:22<00:00, 31.85it/s]\n",
      "Validation Epoch 139: 100%|██████████| 180/180 [00:26<00:00,  6.80it/s]\n"
     ]
    },
    {
     "name": "stdout",
     "output_type": "stream",
     "text": [
      "Epoch 140/400\n"
     ]
    },
    {
     "name": "stderr",
     "output_type": "stream",
     "text": [
      "Training Epoch 140: 100%|██████████| 719/719 [00:23<00:00, 31.22it/s]\n",
      "Validation Epoch 140: 100%|██████████| 180/180 [00:27<00:00,  6.67it/s]\n"
     ]
    },
    {
     "name": "stdout",
     "output_type": "stream",
     "text": [
      "Epoch 141/400\n"
     ]
    },
    {
     "name": "stderr",
     "output_type": "stream",
     "text": [
      "Training Epoch 141: 100%|██████████| 719/719 [00:22<00:00, 31.65it/s]\n",
      "Validation Epoch 141: 100%|██████████| 180/180 [00:26<00:00,  6.78it/s]\n"
     ]
    },
    {
     "name": "stdout",
     "output_type": "stream",
     "text": [
      "Epoch 142/400\n"
     ]
    },
    {
     "name": "stderr",
     "output_type": "stream",
     "text": [
      "Training Epoch 142: 100%|██████████| 719/719 [00:22<00:00, 32.64it/s]\n",
      "Validation Epoch 142: 100%|██████████| 180/180 [00:26<00:00,  6.90it/s]\n"
     ]
    },
    {
     "name": "stdout",
     "output_type": "stream",
     "text": [
      "Epoch 143/400\n"
     ]
    },
    {
     "name": "stderr",
     "output_type": "stream",
     "text": [
      "Training Epoch 143: 100%|██████████| 719/719 [00:22<00:00, 32.57it/s]\n",
      "Validation Epoch 143: 100%|██████████| 180/180 [00:25<00:00,  6.94it/s]\n"
     ]
    },
    {
     "name": "stdout",
     "output_type": "stream",
     "text": [
      "Epoch 144/400\n"
     ]
    },
    {
     "name": "stderr",
     "output_type": "stream",
     "text": [
      "Training Epoch 144: 100%|██████████| 719/719 [00:22<00:00, 31.93it/s]\n",
      "Validation Epoch 144: 100%|██████████| 180/180 [00:26<00:00,  6.89it/s]\n"
     ]
    },
    {
     "name": "stdout",
     "output_type": "stream",
     "text": [
      "Epoch 145/400\n"
     ]
    },
    {
     "name": "stderr",
     "output_type": "stream",
     "text": [
      "Training Epoch 145: 100%|██████████| 719/719 [00:22<00:00, 32.43it/s]\n",
      "Validation Epoch 145: 100%|██████████| 180/180 [00:26<00:00,  6.85it/s]\n"
     ]
    },
    {
     "name": "stdout",
     "output_type": "stream",
     "text": [
      "Epoch 146/400\n"
     ]
    },
    {
     "name": "stderr",
     "output_type": "stream",
     "text": [
      "Training Epoch 146: 100%|██████████| 719/719 [00:22<00:00, 32.56it/s]\n",
      "Validation Epoch 146: 100%|██████████| 180/180 [00:25<00:00,  6.96it/s]\n"
     ]
    },
    {
     "name": "stdout",
     "output_type": "stream",
     "text": [
      "Epoch 147/400\n"
     ]
    },
    {
     "name": "stderr",
     "output_type": "stream",
     "text": [
      "Training Epoch 147: 100%|██████████| 719/719 [00:22<00:00, 31.71it/s]\n",
      "Validation Epoch 147: 100%|██████████| 180/180 [00:26<00:00,  6.79it/s]\n"
     ]
    },
    {
     "name": "stdout",
     "output_type": "stream",
     "text": [
      "Epoch 148/400\n"
     ]
    },
    {
     "name": "stderr",
     "output_type": "stream",
     "text": [
      "Training Epoch 148: 100%|██████████| 719/719 [00:22<00:00, 32.35it/s]\n",
      "Validation Epoch 148: 100%|██████████| 180/180 [00:26<00:00,  6.87it/s]\n"
     ]
    },
    {
     "name": "stdout",
     "output_type": "stream",
     "text": [
      "Epoch 149/400\n"
     ]
    },
    {
     "name": "stderr",
     "output_type": "stream",
     "text": [
      "Training Epoch 149: 100%|██████████| 719/719 [00:22<00:00, 32.26it/s]\n",
      "Validation Epoch 149: 100%|██████████| 180/180 [00:25<00:00,  6.94it/s]\n"
     ]
    },
    {
     "name": "stdout",
     "output_type": "stream",
     "text": [
      "Epoch 150/400\n"
     ]
    },
    {
     "name": "stderr",
     "output_type": "stream",
     "text": [
      "Training Epoch 150: 100%|██████████| 719/719 [00:21<00:00, 33.80it/s]\n",
      "Validation Epoch 150: 100%|██████████| 180/180 [00:24<00:00,  7.20it/s]\n"
     ]
    },
    {
     "name": "stdout",
     "output_type": "stream",
     "text": [
      "Epoch 151/400\n"
     ]
    },
    {
     "name": "stderr",
     "output_type": "stream",
     "text": [
      "Training Epoch 151: 100%|██████████| 719/719 [00:21<00:00, 33.46it/s]\n",
      "Validation Epoch 151: 100%|██████████| 180/180 [00:25<00:00,  7.08it/s]\n"
     ]
    },
    {
     "name": "stdout",
     "output_type": "stream",
     "text": [
      "Epoch 152/400\n"
     ]
    },
    {
     "name": "stderr",
     "output_type": "stream",
     "text": [
      "Training Epoch 152: 100%|██████████| 719/719 [00:22<00:00, 32.58it/s]\n",
      "Validation Epoch 152: 100%|██████████| 180/180 [00:26<00:00,  6.91it/s]\n"
     ]
    },
    {
     "name": "stdout",
     "output_type": "stream",
     "text": [
      "Epoch 153/400\n"
     ]
    },
    {
     "name": "stderr",
     "output_type": "stream",
     "text": [
      "Training Epoch 153: 100%|██████████| 719/719 [00:22<00:00, 31.62it/s]\n",
      "Validation Epoch 153: 100%|██████████| 180/180 [00:26<00:00,  6.74it/s]\n"
     ]
    },
    {
     "name": "stdout",
     "output_type": "stream",
     "text": [
      "Epoch 154/400\n"
     ]
    },
    {
     "name": "stderr",
     "output_type": "stream",
     "text": [
      "Training Epoch 154: 100%|██████████| 719/719 [00:22<00:00, 32.29it/s]\n",
      "Validation Epoch 154: 100%|██████████| 180/180 [00:26<00:00,  6.80it/s]\n"
     ]
    },
    {
     "name": "stdout",
     "output_type": "stream",
     "text": [
      "Epoch 155/400\n"
     ]
    },
    {
     "name": "stderr",
     "output_type": "stream",
     "text": [
      "Training Epoch 155: 100%|██████████| 719/719 [00:22<00:00, 31.78it/s]\n",
      "Validation Epoch 155: 100%|██████████| 180/180 [00:26<00:00,  6.74it/s]\n"
     ]
    },
    {
     "name": "stdout",
     "output_type": "stream",
     "text": [
      "Epoch 156/400\n"
     ]
    },
    {
     "name": "stderr",
     "output_type": "stream",
     "text": [
      "Training Epoch 156: 100%|██████████| 719/719 [00:22<00:00, 31.40it/s]\n",
      "Validation Epoch 156: 100%|██████████| 180/180 [00:26<00:00,  6.77it/s]\n"
     ]
    },
    {
     "name": "stdout",
     "output_type": "stream",
     "text": [
      "Epoch 157/400\n"
     ]
    },
    {
     "name": "stderr",
     "output_type": "stream",
     "text": [
      "Training Epoch 157: 100%|██████████| 719/719 [00:22<00:00, 32.32it/s]\n",
      "Validation Epoch 157: 100%|██████████| 180/180 [00:26<00:00,  6.86it/s]\n"
     ]
    },
    {
     "name": "stdout",
     "output_type": "stream",
     "text": [
      "Epoch 158/400\n"
     ]
    },
    {
     "name": "stderr",
     "output_type": "stream",
     "text": [
      "Training Epoch 158: 100%|██████████| 719/719 [00:22<00:00, 31.84it/s]\n",
      "Validation Epoch 158: 100%|██████████| 180/180 [00:26<00:00,  6.83it/s]\n"
     ]
    },
    {
     "name": "stdout",
     "output_type": "stream",
     "text": [
      "Epoch 159/400\n"
     ]
    },
    {
     "name": "stderr",
     "output_type": "stream",
     "text": [
      "Training Epoch 159: 100%|██████████| 719/719 [00:22<00:00, 32.36it/s]\n",
      "Validation Epoch 159: 100%|██████████| 180/180 [00:26<00:00,  6.87it/s]\n"
     ]
    },
    {
     "name": "stdout",
     "output_type": "stream",
     "text": [
      "Epoch 160/400\n"
     ]
    },
    {
     "name": "stderr",
     "output_type": "stream",
     "text": [
      "Training Epoch 160: 100%|██████████| 719/719 [00:23<00:00, 31.20it/s]\n",
      "Validation Epoch 160: 100%|██████████| 180/180 [00:26<00:00,  6.69it/s]\n"
     ]
    },
    {
     "name": "stdout",
     "output_type": "stream",
     "text": [
      "Epoch 161/400\n"
     ]
    },
    {
     "name": "stderr",
     "output_type": "stream",
     "text": [
      "Training Epoch 161: 100%|██████████| 719/719 [00:22<00:00, 32.02it/s]\n",
      "Validation Epoch 161: 100%|██████████| 180/180 [00:26<00:00,  6.85it/s]\n"
     ]
    },
    {
     "name": "stdout",
     "output_type": "stream",
     "text": [
      "Epoch 162/400\n"
     ]
    },
    {
     "name": "stderr",
     "output_type": "stream",
     "text": [
      "Training Epoch 162: 100%|██████████| 719/719 [00:22<00:00, 32.18it/s]\n",
      "Validation Epoch 162: 100%|██████████| 180/180 [00:25<00:00,  6.94it/s]\n"
     ]
    },
    {
     "name": "stdout",
     "output_type": "stream",
     "text": [
      "Epoch 163/400\n"
     ]
    },
    {
     "name": "stderr",
     "output_type": "stream",
     "text": [
      "Training Epoch 163: 100%|██████████| 719/719 [00:21<00:00, 33.11it/s]\n",
      "Validation Epoch 163: 100%|██████████| 180/180 [00:25<00:00,  7.06it/s]\n"
     ]
    },
    {
     "name": "stdout",
     "output_type": "stream",
     "text": [
      "Epoch 164/400\n"
     ]
    },
    {
     "name": "stderr",
     "output_type": "stream",
     "text": [
      "Training Epoch 164: 100%|██████████| 719/719 [00:22<00:00, 32.36it/s]\n",
      "Validation Epoch 164: 100%|██████████| 180/180 [00:25<00:00,  6.95it/s]\n"
     ]
    },
    {
     "name": "stdout",
     "output_type": "stream",
     "text": [
      "Epoch 165/400\n"
     ]
    },
    {
     "name": "stderr",
     "output_type": "stream",
     "text": [
      "Training Epoch 165: 100%|██████████| 719/719 [00:22<00:00, 32.34it/s]\n",
      "Validation Epoch 165: 100%|██████████| 180/180 [00:25<00:00,  6.94it/s]\n"
     ]
    },
    {
     "name": "stdout",
     "output_type": "stream",
     "text": [
      "Epoch 166/400\n"
     ]
    },
    {
     "name": "stderr",
     "output_type": "stream",
     "text": [
      "Training Epoch 166: 100%|██████████| 719/719 [00:22<00:00, 32.44it/s]\n",
      "Validation Epoch 166: 100%|██████████| 180/180 [00:25<00:00,  6.94it/s]\n"
     ]
    },
    {
     "name": "stdout",
     "output_type": "stream",
     "text": [
      "Epoch 167/400\n"
     ]
    },
    {
     "name": "stderr",
     "output_type": "stream",
     "text": [
      "Training Epoch 167: 100%|██████████| 719/719 [00:22<00:00, 31.85it/s]\n",
      "Validation Epoch 167: 100%|██████████| 180/180 [00:26<00:00,  6.84it/s]\n"
     ]
    },
    {
     "name": "stdout",
     "output_type": "stream",
     "text": [
      "Epoch 168/400\n"
     ]
    },
    {
     "name": "stderr",
     "output_type": "stream",
     "text": [
      "Training Epoch 168: 100%|██████████| 719/719 [00:21<00:00, 32.74it/s]\n",
      "Validation Epoch 168: 100%|██████████| 180/180 [00:25<00:00,  7.02it/s]\n"
     ]
    },
    {
     "name": "stdout",
     "output_type": "stream",
     "text": [
      "Epoch 169/400\n"
     ]
    },
    {
     "name": "stderr",
     "output_type": "stream",
     "text": [
      "Training Epoch 169: 100%|██████████| 719/719 [00:22<00:00, 31.90it/s]\n",
      "Validation Epoch 169: 100%|██████████| 180/180 [00:26<00:00,  6.79it/s]\n"
     ]
    },
    {
     "name": "stdout",
     "output_type": "stream",
     "text": [
      "Epoch 170/400\n"
     ]
    },
    {
     "name": "stderr",
     "output_type": "stream",
     "text": [
      "Training Epoch 170: 100%|██████████| 719/719 [00:22<00:00, 31.92it/s]\n",
      "Validation Epoch 170: 100%|██████████| 180/180 [00:26<00:00,  6.85it/s]\n"
     ]
    },
    {
     "name": "stdout",
     "output_type": "stream",
     "text": [
      "Epoch 171/400\n"
     ]
    },
    {
     "name": "stderr",
     "output_type": "stream",
     "text": [
      "Training Epoch 171: 100%|██████████| 719/719 [00:22<00:00, 32.59it/s]\n",
      "Validation Epoch 171: 100%|██████████| 180/180 [00:26<00:00,  6.90it/s]\n"
     ]
    },
    {
     "name": "stdout",
     "output_type": "stream",
     "text": [
      "Epoch 172/400\n"
     ]
    },
    {
     "name": "stderr",
     "output_type": "stream",
     "text": [
      "Training Epoch 172: 100%|██████████| 719/719 [00:22<00:00, 32.03it/s]\n",
      "Validation Epoch 172: 100%|██████████| 180/180 [00:26<00:00,  6.80it/s]\n"
     ]
    },
    {
     "name": "stdout",
     "output_type": "stream",
     "text": [
      "Epoch 173/400\n"
     ]
    },
    {
     "name": "stderr",
     "output_type": "stream",
     "text": [
      "Training Epoch 173: 100%|██████████| 719/719 [00:22<00:00, 31.75it/s]\n",
      "Validation Epoch 173: 100%|██████████| 180/180 [00:26<00:00,  6.79it/s]\n"
     ]
    },
    {
     "name": "stdout",
     "output_type": "stream",
     "text": [
      "Epoch 174/400\n"
     ]
    },
    {
     "name": "stderr",
     "output_type": "stream",
     "text": [
      "Training Epoch 174: 100%|██████████| 719/719 [00:22<00:00, 31.53it/s]\n",
      "Validation Epoch 174: 100%|██████████| 180/180 [00:26<00:00,  6.76it/s]\n"
     ]
    },
    {
     "name": "stdout",
     "output_type": "stream",
     "text": [
      "Epoch 175/400\n"
     ]
    },
    {
     "name": "stderr",
     "output_type": "stream",
     "text": [
      "Training Epoch 175: 100%|██████████| 719/719 [00:22<00:00, 32.49it/s]\n",
      "Validation Epoch 175: 100%|██████████| 180/180 [00:25<00:00,  6.93it/s]\n"
     ]
    },
    {
     "name": "stdout",
     "output_type": "stream",
     "text": [
      "Epoch 176/400\n"
     ]
    },
    {
     "name": "stderr",
     "output_type": "stream",
     "text": [
      "Training Epoch 176: 100%|██████████| 719/719 [00:22<00:00, 32.04it/s]\n",
      "Validation Epoch 176: 100%|██████████| 180/180 [00:26<00:00,  6.83it/s]\n"
     ]
    },
    {
     "name": "stdout",
     "output_type": "stream",
     "text": [
      "Epoch 177/400\n"
     ]
    },
    {
     "name": "stderr",
     "output_type": "stream",
     "text": [
      "Training Epoch 177: 100%|██████████| 719/719 [00:22<00:00, 32.46it/s]\n",
      "Validation Epoch 177: 100%|██████████| 180/180 [00:26<00:00,  6.91it/s]\n"
     ]
    },
    {
     "name": "stdout",
     "output_type": "stream",
     "text": [
      "Epoch 178/400\n"
     ]
    },
    {
     "name": "stderr",
     "output_type": "stream",
     "text": [
      "Training Epoch 178: 100%|██████████| 719/719 [00:22<00:00, 31.52it/s]\n",
      "Validation Epoch 178: 100%|██████████| 180/180 [00:26<00:00,  6.67it/s]\n"
     ]
    },
    {
     "name": "stdout",
     "output_type": "stream",
     "text": [
      "Epoch 179/400\n"
     ]
    },
    {
     "name": "stderr",
     "output_type": "stream",
     "text": [
      "Training Epoch 179: 100%|██████████| 719/719 [00:21<00:00, 32.94it/s]\n",
      "Validation Epoch 179: 100%|██████████| 180/180 [00:25<00:00,  6.98it/s]\n"
     ]
    },
    {
     "name": "stdout",
     "output_type": "stream",
     "text": [
      "Epoch 180/400\n"
     ]
    },
    {
     "name": "stderr",
     "output_type": "stream",
     "text": [
      "Training Epoch 180: 100%|██████████| 719/719 [00:23<00:00, 31.11it/s]\n",
      "Validation Epoch 180: 100%|██████████| 180/180 [00:27<00:00,  6.63it/s]\n"
     ]
    },
    {
     "name": "stdout",
     "output_type": "stream",
     "text": [
      "Epoch 181/400\n"
     ]
    },
    {
     "name": "stderr",
     "output_type": "stream",
     "text": [
      "Training Epoch 181: 100%|██████████| 719/719 [00:22<00:00, 32.09it/s]\n",
      "Validation Epoch 181: 100%|██████████| 180/180 [00:26<00:00,  6.83it/s]\n"
     ]
    },
    {
     "name": "stdout",
     "output_type": "stream",
     "text": [
      "Epoch 182/400\n"
     ]
    },
    {
     "name": "stderr",
     "output_type": "stream",
     "text": [
      "Training Epoch 182: 100%|██████████| 719/719 [00:22<00:00, 31.78it/s]\n",
      "Validation Epoch 182: 100%|██████████| 180/180 [00:26<00:00,  6.74it/s]\n"
     ]
    },
    {
     "name": "stdout",
     "output_type": "stream",
     "text": [
      "Epoch 183/400\n"
     ]
    },
    {
     "name": "stderr",
     "output_type": "stream",
     "text": [
      "Training Epoch 183: 100%|██████████| 719/719 [00:22<00:00, 31.32it/s]\n",
      "Validation Epoch 183: 100%|██████████| 180/180 [00:26<00:00,  6.71it/s]\n"
     ]
    },
    {
     "name": "stdout",
     "output_type": "stream",
     "text": [
      "Epoch 184/400\n"
     ]
    },
    {
     "name": "stderr",
     "output_type": "stream",
     "text": [
      "Training Epoch 184: 100%|██████████| 719/719 [00:22<00:00, 31.89it/s]\n",
      "Validation Epoch 184: 100%|██████████| 180/180 [00:26<00:00,  6.81it/s]\n"
     ]
    },
    {
     "name": "stdout",
     "output_type": "stream",
     "text": [
      "Epoch 185/400\n"
     ]
    },
    {
     "name": "stderr",
     "output_type": "stream",
     "text": [
      "Training Epoch 185: 100%|██████████| 719/719 [00:22<00:00, 31.92it/s]\n",
      "Validation Epoch 185: 100%|██████████| 180/180 [00:26<00:00,  6.85it/s]\n"
     ]
    },
    {
     "name": "stdout",
     "output_type": "stream",
     "text": [
      "Epoch 186/400\n"
     ]
    },
    {
     "name": "stderr",
     "output_type": "stream",
     "text": [
      "Training Epoch 186: 100%|██████████| 719/719 [00:22<00:00, 31.70it/s]\n",
      "Validation Epoch 186: 100%|██████████| 180/180 [00:26<00:00,  6.77it/s]\n"
     ]
    },
    {
     "name": "stdout",
     "output_type": "stream",
     "text": [
      "Epoch 187/400\n"
     ]
    },
    {
     "name": "stderr",
     "output_type": "stream",
     "text": [
      "Training Epoch 187: 100%|██████████| 719/719 [00:22<00:00, 31.66it/s]\n",
      "Validation Epoch 187: 100%|██████████| 180/180 [00:26<00:00,  6.80it/s]\n"
     ]
    },
    {
     "name": "stdout",
     "output_type": "stream",
     "text": [
      "Epoch 188/400\n"
     ]
    },
    {
     "name": "stderr",
     "output_type": "stream",
     "text": [
      "Training Epoch 188: 100%|██████████| 719/719 [00:22<00:00, 31.99it/s]\n",
      "Validation Epoch 188: 100%|██████████| 180/180 [00:26<00:00,  6.78it/s]\n"
     ]
    },
    {
     "name": "stdout",
     "output_type": "stream",
     "text": [
      "Epoch 189/400\n"
     ]
    },
    {
     "name": "stderr",
     "output_type": "stream",
     "text": [
      "Training Epoch 189: 100%|██████████| 719/719 [00:22<00:00, 31.83it/s]\n",
      "Validation Epoch 189: 100%|██████████| 180/180 [00:26<00:00,  6.82it/s]\n"
     ]
    },
    {
     "name": "stdout",
     "output_type": "stream",
     "text": [
      "Epoch 190/400\n"
     ]
    },
    {
     "name": "stderr",
     "output_type": "stream",
     "text": [
      "Training Epoch 190: 100%|██████████| 719/719 [00:22<00:00, 32.60it/s]\n",
      "Validation Epoch 190: 100%|██████████| 180/180 [00:25<00:00,  6.94it/s]\n"
     ]
    },
    {
     "name": "stdout",
     "output_type": "stream",
     "text": [
      "Epoch 191/400\n"
     ]
    },
    {
     "name": "stderr",
     "output_type": "stream",
     "text": [
      "Training Epoch 191: 100%|██████████| 719/719 [00:22<00:00, 31.87it/s]\n",
      "Validation Epoch 191: 100%|██████████| 180/180 [00:26<00:00,  6.82it/s]\n"
     ]
    },
    {
     "name": "stdout",
     "output_type": "stream",
     "text": [
      "Epoch 192/400\n"
     ]
    },
    {
     "name": "stderr",
     "output_type": "stream",
     "text": [
      "Training Epoch 192: 100%|██████████| 719/719 [00:22<00:00, 31.82it/s]\n",
      "Validation Epoch 192: 100%|██████████| 180/180 [00:26<00:00,  6.80it/s]\n"
     ]
    },
    {
     "name": "stdout",
     "output_type": "stream",
     "text": [
      "Epoch 193/400\n"
     ]
    },
    {
     "name": "stderr",
     "output_type": "stream",
     "text": [
      "Training Epoch 193: 100%|██████████| 719/719 [00:22<00:00, 32.44it/s]\n",
      "Validation Epoch 193: 100%|██████████| 180/180 [00:26<00:00,  6.91it/s]\n"
     ]
    },
    {
     "name": "stdout",
     "output_type": "stream",
     "text": [
      "Epoch 194/400\n"
     ]
    },
    {
     "name": "stderr",
     "output_type": "stream",
     "text": [
      "Training Epoch 194: 100%|██████████| 719/719 [00:22<00:00, 31.29it/s]\n",
      "Validation Epoch 194: 100%|██████████| 180/180 [00:26<00:00,  6.71it/s]\n"
     ]
    },
    {
     "name": "stdout",
     "output_type": "stream",
     "text": [
      "Epoch 195/400\n"
     ]
    },
    {
     "name": "stderr",
     "output_type": "stream",
     "text": [
      "Training Epoch 195: 100%|██████████| 719/719 [00:22<00:00, 31.99it/s]\n",
      "Validation Epoch 195: 100%|██████████| 180/180 [00:26<00:00,  6.86it/s]\n"
     ]
    },
    {
     "name": "stdout",
     "output_type": "stream",
     "text": [
      "Epoch 196/400\n"
     ]
    },
    {
     "name": "stderr",
     "output_type": "stream",
     "text": [
      "Training Epoch 196: 100%|██████████| 719/719 [00:22<00:00, 31.96it/s]\n",
      "Validation Epoch 196: 100%|██████████| 180/180 [00:26<00:00,  6.82it/s]\n"
     ]
    },
    {
     "name": "stdout",
     "output_type": "stream",
     "text": [
      "Epoch 197/400\n"
     ]
    },
    {
     "name": "stderr",
     "output_type": "stream",
     "text": [
      "Training Epoch 197: 100%|██████████| 719/719 [00:21<00:00, 33.15it/s]\n",
      "Validation Epoch 197: 100%|██████████| 180/180 [00:25<00:00,  7.09it/s]\n"
     ]
    },
    {
     "name": "stdout",
     "output_type": "stream",
     "text": [
      "Epoch 198/400\n"
     ]
    },
    {
     "name": "stderr",
     "output_type": "stream",
     "text": [
      "Training Epoch 198: 100%|██████████| 719/719 [00:22<00:00, 31.71it/s]\n",
      "Validation Epoch 198: 100%|██████████| 180/180 [00:26<00:00,  6.78it/s]\n"
     ]
    },
    {
     "name": "stdout",
     "output_type": "stream",
     "text": [
      "Epoch 199/400\n"
     ]
    },
    {
     "name": "stderr",
     "output_type": "stream",
     "text": [
      "Training Epoch 199: 100%|██████████| 719/719 [00:21<00:00, 32.75it/s]\n",
      "Validation Epoch 199: 100%|██████████| 180/180 [00:25<00:00,  6.93it/s]\n"
     ]
    },
    {
     "name": "stdout",
     "output_type": "stream",
     "text": [
      "Epoch 200/400\n"
     ]
    },
    {
     "name": "stderr",
     "output_type": "stream",
     "text": [
      "Training Epoch 200: 100%|██████████| 719/719 [00:22<00:00, 31.48it/s]\n",
      "Validation Epoch 200: 100%|██████████| 180/180 [00:26<00:00,  6.68it/s]\n"
     ]
    },
    {
     "name": "stdout",
     "output_type": "stream",
     "text": [
      "Epoch 201/400\n"
     ]
    },
    {
     "name": "stderr",
     "output_type": "stream",
     "text": [
      "Training Epoch 201: 100%|██████████| 719/719 [00:21<00:00, 33.09it/s]\n",
      "Validation Epoch 201: 100%|██████████| 180/180 [00:25<00:00,  6.99it/s]\n"
     ]
    },
    {
     "name": "stdout",
     "output_type": "stream",
     "text": [
      "Epoch 202/400\n"
     ]
    },
    {
     "name": "stderr",
     "output_type": "stream",
     "text": [
      "Training Epoch 202: 100%|██████████| 719/719 [00:22<00:00, 32.27it/s]\n",
      "Validation Epoch 202: 100%|██████████| 180/180 [00:26<00:00,  6.89it/s]\n"
     ]
    },
    {
     "name": "stdout",
     "output_type": "stream",
     "text": [
      "Epoch 203/400\n"
     ]
    },
    {
     "name": "stderr",
     "output_type": "stream",
     "text": [
      "Training Epoch 203: 100%|██████████| 719/719 [00:22<00:00, 32.43it/s]\n",
      "Validation Epoch 203: 100%|██████████| 180/180 [00:26<00:00,  6.88it/s]\n"
     ]
    },
    {
     "name": "stdout",
     "output_type": "stream",
     "text": [
      "Epoch 204/400\n"
     ]
    },
    {
     "name": "stderr",
     "output_type": "stream",
     "text": [
      "Training Epoch 204: 100%|██████████| 719/719 [00:22<00:00, 31.98it/s]\n",
      "Validation Epoch 204: 100%|██████████| 180/180 [00:26<00:00,  6.86it/s]\n"
     ]
    },
    {
     "name": "stdout",
     "output_type": "stream",
     "text": [
      "Epoch 205/400\n"
     ]
    },
    {
     "name": "stderr",
     "output_type": "stream",
     "text": [
      "Training Epoch 205: 100%|██████████| 719/719 [00:21<00:00, 32.76it/s]\n",
      "Validation Epoch 205: 100%|██████████| 180/180 [00:26<00:00,  6.91it/s]\n"
     ]
    },
    {
     "name": "stdout",
     "output_type": "stream",
     "text": [
      "Epoch 206/400\n"
     ]
    },
    {
     "name": "stderr",
     "output_type": "stream",
     "text": [
      "Training Epoch 206: 100%|██████████| 719/719 [00:22<00:00, 32.01it/s]\n",
      "Validation Epoch 206: 100%|██████████| 180/180 [00:26<00:00,  6.88it/s]\n"
     ]
    },
    {
     "name": "stdout",
     "output_type": "stream",
     "text": [
      "Epoch 207/400\n"
     ]
    },
    {
     "name": "stderr",
     "output_type": "stream",
     "text": [
      "Training Epoch 207: 100%|██████████| 719/719 [00:22<00:00, 32.27it/s]\n",
      "Validation Epoch 207: 100%|██████████| 180/180 [00:26<00:00,  6.89it/s]\n"
     ]
    },
    {
     "name": "stdout",
     "output_type": "stream",
     "text": [
      "Epoch 208/400\n"
     ]
    },
    {
     "name": "stderr",
     "output_type": "stream",
     "text": [
      "Training Epoch 208: 100%|██████████| 719/719 [00:22<00:00, 32.26it/s]\n",
      "Validation Epoch 208: 100%|██████████| 180/180 [00:26<00:00,  6.88it/s]\n"
     ]
    },
    {
     "name": "stdout",
     "output_type": "stream",
     "text": [
      "Epoch 209/400\n"
     ]
    },
    {
     "name": "stderr",
     "output_type": "stream",
     "text": [
      "Training Epoch 209: 100%|██████████| 719/719 [00:22<00:00, 31.77it/s]\n",
      "Validation Epoch 209: 100%|██████████| 180/180 [00:26<00:00,  6.76it/s]\n"
     ]
    },
    {
     "name": "stdout",
     "output_type": "stream",
     "text": [
      "Epoch 210/400\n"
     ]
    },
    {
     "name": "stderr",
     "output_type": "stream",
     "text": [
      "Training Epoch 210: 100%|██████████| 719/719 [00:21<00:00, 32.82it/s]\n",
      "Validation Epoch 210: 100%|██████████| 180/180 [00:25<00:00,  6.99it/s]\n"
     ]
    },
    {
     "name": "stdout",
     "output_type": "stream",
     "text": [
      "Epoch 211/400\n"
     ]
    },
    {
     "name": "stderr",
     "output_type": "stream",
     "text": [
      "Training Epoch 211: 100%|██████████| 719/719 [00:22<00:00, 31.84it/s]\n",
      "Validation Epoch 211: 100%|██████████| 180/180 [00:26<00:00,  6.76it/s]\n"
     ]
    },
    {
     "name": "stdout",
     "output_type": "stream",
     "text": [
      "Epoch 212/400\n"
     ]
    },
    {
     "name": "stderr",
     "output_type": "stream",
     "text": [
      "Training Epoch 212: 100%|██████████| 719/719 [00:22<00:00, 32.49it/s]\n",
      "Validation Epoch 212: 100%|██████████| 180/180 [00:25<00:00,  6.94it/s]\n"
     ]
    },
    {
     "name": "stdout",
     "output_type": "stream",
     "text": [
      "Epoch 213/400\n"
     ]
    },
    {
     "name": "stderr",
     "output_type": "stream",
     "text": [
      "Training Epoch 213: 100%|██████████| 719/719 [00:22<00:00, 31.99it/s]\n",
      "Validation Epoch 213: 100%|██████████| 180/180 [00:26<00:00,  6.79it/s]\n"
     ]
    },
    {
     "name": "stdout",
     "output_type": "stream",
     "text": [
      "Epoch 214/400\n"
     ]
    },
    {
     "name": "stderr",
     "output_type": "stream",
     "text": [
      "Training Epoch 214: 100%|██████████| 719/719 [00:22<00:00, 31.84it/s]\n",
      "Validation Epoch 214: 100%|██████████| 180/180 [00:26<00:00,  6.83it/s]\n"
     ]
    },
    {
     "name": "stdout",
     "output_type": "stream",
     "text": [
      "Epoch 215/400\n"
     ]
    },
    {
     "name": "stderr",
     "output_type": "stream",
     "text": [
      "Training Epoch 215: 100%|██████████| 719/719 [00:22<00:00, 31.86it/s]\n",
      "Validation Epoch 215: 100%|██████████| 180/180 [00:26<00:00,  6.77it/s]\n"
     ]
    },
    {
     "name": "stdout",
     "output_type": "stream",
     "text": [
      "Epoch 216/400\n"
     ]
    },
    {
     "name": "stderr",
     "output_type": "stream",
     "text": [
      "Training Epoch 216: 100%|██████████| 719/719 [00:22<00:00, 32.49it/s]\n",
      "Validation Epoch 216: 100%|██████████| 180/180 [00:25<00:00,  6.96it/s]\n"
     ]
    },
    {
     "name": "stdout",
     "output_type": "stream",
     "text": [
      "Epoch 217/400\n"
     ]
    },
    {
     "name": "stderr",
     "output_type": "stream",
     "text": [
      "Training Epoch 217: 100%|██████████| 719/719 [00:22<00:00, 31.72it/s]\n",
      "Validation Epoch 217: 100%|██████████| 180/180 [00:26<00:00,  6.80it/s]\n"
     ]
    },
    {
     "name": "stdout",
     "output_type": "stream",
     "text": [
      "Epoch 218/400\n"
     ]
    },
    {
     "name": "stderr",
     "output_type": "stream",
     "text": [
      "Training Epoch 218: 100%|██████████| 719/719 [00:22<00:00, 32.50it/s]\n",
      "Validation Epoch 218: 100%|██████████| 180/180 [00:26<00:00,  6.83it/s]\n"
     ]
    },
    {
     "name": "stdout",
     "output_type": "stream",
     "text": [
      "Epoch 219/400\n"
     ]
    },
    {
     "name": "stderr",
     "output_type": "stream",
     "text": [
      "Training Epoch 219: 100%|██████████| 719/719 [00:21<00:00, 32.92it/s]\n",
      "Validation Epoch 219: 100%|██████████| 180/180 [00:25<00:00,  6.97it/s]\n"
     ]
    },
    {
     "name": "stdout",
     "output_type": "stream",
     "text": [
      "Epoch 220/400\n"
     ]
    },
    {
     "name": "stderr",
     "output_type": "stream",
     "text": [
      "Training Epoch 220: 100%|██████████| 719/719 [00:21<00:00, 32.90it/s]\n",
      "Validation Epoch 220: 100%|██████████| 180/180 [00:25<00:00,  7.01it/s]\n"
     ]
    },
    {
     "name": "stdout",
     "output_type": "stream",
     "text": [
      "Epoch 221/400\n"
     ]
    },
    {
     "name": "stderr",
     "output_type": "stream",
     "text": [
      "Training Epoch 221: 100%|██████████| 719/719 [00:22<00:00, 32.05it/s]\n",
      "Validation Epoch 221: 100%|██████████| 180/180 [00:26<00:00,  6.75it/s]\n"
     ]
    },
    {
     "name": "stdout",
     "output_type": "stream",
     "text": [
      "Epoch 222/400\n"
     ]
    },
    {
     "name": "stderr",
     "output_type": "stream",
     "text": [
      "Training Epoch 222: 100%|██████████| 719/719 [00:22<00:00, 32.39it/s]\n",
      "Validation Epoch 222: 100%|██████████| 180/180 [00:26<00:00,  6.89it/s]\n"
     ]
    },
    {
     "name": "stdout",
     "output_type": "stream",
     "text": [
      "Epoch 223/400\n"
     ]
    },
    {
     "name": "stderr",
     "output_type": "stream",
     "text": [
      "Training Epoch 223: 100%|██████████| 719/719 [00:22<00:00, 32.14it/s]\n",
      "Validation Epoch 223: 100%|██████████| 180/180 [00:26<00:00,  6.83it/s]\n"
     ]
    },
    {
     "name": "stdout",
     "output_type": "stream",
     "text": [
      "Epoch 224/400\n"
     ]
    },
    {
     "name": "stderr",
     "output_type": "stream",
     "text": [
      "Training Epoch 224: 100%|██████████| 719/719 [00:22<00:00, 31.78it/s]\n",
      "Validation Epoch 224: 100%|██████████| 180/180 [00:26<00:00,  6.77it/s]\n"
     ]
    },
    {
     "name": "stdout",
     "output_type": "stream",
     "text": [
      "Epoch 225/400\n"
     ]
    },
    {
     "name": "stderr",
     "output_type": "stream",
     "text": [
      "Training Epoch 225: 100%|██████████| 719/719 [00:20<00:00, 34.34it/s]\n",
      "Validation Epoch 225: 100%|██████████| 180/180 [00:24<00:00,  7.29it/s]\n"
     ]
    },
    {
     "name": "stdout",
     "output_type": "stream",
     "text": [
      "Epoch 226/400\n"
     ]
    },
    {
     "name": "stderr",
     "output_type": "stream",
     "text": [
      "Training Epoch 226: 100%|██████████| 719/719 [00:23<00:00, 31.18it/s]\n",
      "Validation Epoch 226: 100%|██████████| 180/180 [00:26<00:00,  6.67it/s]\n"
     ]
    },
    {
     "name": "stdout",
     "output_type": "stream",
     "text": [
      "Epoch 227/400\n"
     ]
    },
    {
     "name": "stderr",
     "output_type": "stream",
     "text": [
      "Training Epoch 227: 100%|██████████| 719/719 [00:22<00:00, 31.30it/s]\n",
      "Validation Epoch 227: 100%|██████████| 180/180 [00:26<00:00,  6.71it/s]\n"
     ]
    },
    {
     "name": "stdout",
     "output_type": "stream",
     "text": [
      "Epoch 228/400\n"
     ]
    },
    {
     "name": "stderr",
     "output_type": "stream",
     "text": [
      "Training Epoch 228: 100%|██████████| 719/719 [00:22<00:00, 32.51it/s]\n",
      "Validation Epoch 228: 100%|██████████| 180/180 [00:26<00:00,  6.89it/s]\n"
     ]
    },
    {
     "name": "stdout",
     "output_type": "stream",
     "text": [
      "Epoch 229/400\n"
     ]
    },
    {
     "name": "stderr",
     "output_type": "stream",
     "text": [
      "Training Epoch 229: 100%|██████████| 719/719 [00:23<00:00, 30.88it/s]\n",
      "Validation Epoch 229: 100%|██████████| 180/180 [00:27<00:00,  6.59it/s]\n"
     ]
    },
    {
     "name": "stdout",
     "output_type": "stream",
     "text": [
      "Epoch 230/400\n"
     ]
    },
    {
     "name": "stderr",
     "output_type": "stream",
     "text": [
      "Training Epoch 230: 100%|██████████| 719/719 [00:22<00:00, 32.33it/s]\n",
      "Validation Epoch 230: 100%|██████████| 180/180 [00:25<00:00,  6.96it/s]\n"
     ]
    },
    {
     "name": "stdout",
     "output_type": "stream",
     "text": [
      "Epoch 231/400\n"
     ]
    },
    {
     "name": "stderr",
     "output_type": "stream",
     "text": [
      "Training Epoch 231: 100%|██████████| 719/719 [00:22<00:00, 32.39it/s]\n",
      "Validation Epoch 231: 100%|██████████| 180/180 [00:26<00:00,  6.91it/s]\n"
     ]
    },
    {
     "name": "stdout",
     "output_type": "stream",
     "text": [
      "Epoch 232/400\n"
     ]
    },
    {
     "name": "stderr",
     "output_type": "stream",
     "text": [
      "Training Epoch 232: 100%|██████████| 719/719 [00:22<00:00, 32.20it/s]\n",
      "Validation Epoch 232: 100%|██████████| 180/180 [00:26<00:00,  6.89it/s]\n"
     ]
    },
    {
     "name": "stdout",
     "output_type": "stream",
     "text": [
      "Epoch 233/400\n"
     ]
    },
    {
     "name": "stderr",
     "output_type": "stream",
     "text": [
      "Training Epoch 233: 100%|██████████| 719/719 [00:22<00:00, 32.55it/s]\n",
      "Validation Epoch 233: 100%|██████████| 180/180 [00:26<00:00,  6.89it/s]\n"
     ]
    },
    {
     "name": "stdout",
     "output_type": "stream",
     "text": [
      "Epoch 234/400\n"
     ]
    },
    {
     "name": "stderr",
     "output_type": "stream",
     "text": [
      "Training Epoch 234: 100%|██████████| 719/719 [00:22<00:00, 31.52it/s]\n",
      "Validation Epoch 234: 100%|██████████| 180/180 [00:26<00:00,  6.69it/s]\n"
     ]
    },
    {
     "name": "stdout",
     "output_type": "stream",
     "text": [
      "Epoch 235/400\n"
     ]
    },
    {
     "name": "stderr",
     "output_type": "stream",
     "text": [
      "Training Epoch 235: 100%|██████████| 719/719 [00:22<00:00, 31.49it/s]\n",
      "Validation Epoch 235: 100%|██████████| 180/180 [00:26<00:00,  6.74it/s]\n"
     ]
    },
    {
     "name": "stdout",
     "output_type": "stream",
     "text": [
      "Epoch 236/400\n"
     ]
    },
    {
     "name": "stderr",
     "output_type": "stream",
     "text": [
      "Training Epoch 236: 100%|██████████| 719/719 [00:22<00:00, 32.02it/s]\n",
      "Validation Epoch 236: 100%|██████████| 180/180 [00:26<00:00,  6.81it/s]\n"
     ]
    },
    {
     "name": "stdout",
     "output_type": "stream",
     "text": [
      "Epoch 237/400\n"
     ]
    },
    {
     "name": "stderr",
     "output_type": "stream",
     "text": [
      "Training Epoch 237: 100%|██████████| 719/719 [00:21<00:00, 32.69it/s]\n",
      "Validation Epoch 237: 100%|██████████| 180/180 [00:25<00:00,  6.98it/s]\n"
     ]
    },
    {
     "name": "stdout",
     "output_type": "stream",
     "text": [
      "Epoch 238/400\n"
     ]
    },
    {
     "name": "stderr",
     "output_type": "stream",
     "text": [
      "Training Epoch 238: 100%|██████████| 719/719 [00:22<00:00, 32.29it/s]\n",
      "Validation Epoch 238: 100%|██████████| 180/180 [00:26<00:00,  6.86it/s]\n"
     ]
    },
    {
     "name": "stdout",
     "output_type": "stream",
     "text": [
      "Epoch 239/400\n"
     ]
    },
    {
     "name": "stderr",
     "output_type": "stream",
     "text": [
      "Training Epoch 239: 100%|██████████| 719/719 [00:22<00:00, 31.82it/s]\n",
      "Validation Epoch 239: 100%|██████████| 180/180 [00:26<00:00,  6.81it/s]\n"
     ]
    },
    {
     "name": "stdout",
     "output_type": "stream",
     "text": [
      "Epoch 240/400\n"
     ]
    },
    {
     "name": "stderr",
     "output_type": "stream",
     "text": [
      "Training Epoch 240: 100%|██████████| 719/719 [00:22<00:00, 32.36it/s]\n",
      "Validation Epoch 240: 100%|██████████| 180/180 [00:26<00:00,  6.92it/s]\n"
     ]
    },
    {
     "name": "stdout",
     "output_type": "stream",
     "text": [
      "Epoch 241/400\n"
     ]
    },
    {
     "name": "stderr",
     "output_type": "stream",
     "text": [
      "Training Epoch 241: 100%|██████████| 719/719 [00:22<00:00, 32.14it/s]\n",
      "Validation Epoch 241: 100%|██████████| 180/180 [00:26<00:00,  6.82it/s]\n"
     ]
    },
    {
     "name": "stdout",
     "output_type": "stream",
     "text": [
      "Epoch 242/400\n"
     ]
    },
    {
     "name": "stderr",
     "output_type": "stream",
     "text": [
      "Training Epoch 242: 100%|██████████| 719/719 [00:23<00:00, 31.24it/s]\n",
      "Validation Epoch 242: 100%|██████████| 180/180 [00:26<00:00,  6.68it/s]\n"
     ]
    },
    {
     "name": "stdout",
     "output_type": "stream",
     "text": [
      "Epoch 243/400\n"
     ]
    },
    {
     "name": "stderr",
     "output_type": "stream",
     "text": [
      "Training Epoch 243: 100%|██████████| 719/719 [00:22<00:00, 32.64it/s]\n",
      "Validation Epoch 243: 100%|██████████| 180/180 [00:25<00:00,  6.97it/s]\n"
     ]
    },
    {
     "name": "stdout",
     "output_type": "stream",
     "text": [
      "Epoch 244/400\n"
     ]
    },
    {
     "name": "stderr",
     "output_type": "stream",
     "text": [
      "Training Epoch 244: 100%|██████████| 719/719 [00:22<00:00, 32.03it/s]\n",
      "Validation Epoch 244: 100%|██████████| 180/180 [00:26<00:00,  6.81it/s]\n"
     ]
    },
    {
     "name": "stdout",
     "output_type": "stream",
     "text": [
      "Epoch 245/400\n"
     ]
    },
    {
     "name": "stderr",
     "output_type": "stream",
     "text": [
      "Training Epoch 245: 100%|██████████| 719/719 [00:21<00:00, 32.81it/s]\n",
      "Validation Epoch 245: 100%|██████████| 180/180 [00:25<00:00,  6.97it/s]\n"
     ]
    },
    {
     "name": "stdout",
     "output_type": "stream",
     "text": [
      "Epoch 246/400\n"
     ]
    },
    {
     "name": "stderr",
     "output_type": "stream",
     "text": [
      "Training Epoch 246: 100%|██████████| 719/719 [00:23<00:00, 30.89it/s]\n",
      "Validation Epoch 246: 100%|██████████| 180/180 [00:27<00:00,  6.60it/s]\n"
     ]
    },
    {
     "name": "stdout",
     "output_type": "stream",
     "text": [
      "Epoch 247/400\n"
     ]
    },
    {
     "name": "stderr",
     "output_type": "stream",
     "text": [
      "Training Epoch 247: 100%|██████████| 719/719 [00:22<00:00, 32.63it/s]\n",
      "Validation Epoch 247: 100%|██████████| 180/180 [00:25<00:00,  6.98it/s]\n"
     ]
    },
    {
     "name": "stdout",
     "output_type": "stream",
     "text": [
      "Epoch 248/400\n"
     ]
    },
    {
     "name": "stderr",
     "output_type": "stream",
     "text": [
      "Training Epoch 248: 100%|██████████| 719/719 [00:22<00:00, 32.43it/s]\n",
      "Validation Epoch 248: 100%|██████████| 180/180 [00:26<00:00,  6.91it/s]\n"
     ]
    },
    {
     "name": "stdout",
     "output_type": "stream",
     "text": [
      "Epoch 249/400\n"
     ]
    },
    {
     "name": "stderr",
     "output_type": "stream",
     "text": [
      "Training Epoch 249: 100%|██████████| 719/719 [00:22<00:00, 32.11it/s]\n",
      "Validation Epoch 249: 100%|██████████| 180/180 [00:26<00:00,  6.82it/s]\n"
     ]
    },
    {
     "name": "stdout",
     "output_type": "stream",
     "text": [
      "Epoch 250/400\n"
     ]
    },
    {
     "name": "stderr",
     "output_type": "stream",
     "text": [
      "Training Epoch 250: 100%|██████████| 719/719 [00:22<00:00, 31.65it/s]\n",
      "Validation Epoch 250: 100%|██████████| 180/180 [00:26<00:00,  6.76it/s]\n"
     ]
    },
    {
     "name": "stdout",
     "output_type": "stream",
     "text": [
      "Epoch 251/400\n"
     ]
    },
    {
     "name": "stderr",
     "output_type": "stream",
     "text": [
      "Training Epoch 251: 100%|██████████| 719/719 [00:22<00:00, 31.59it/s]\n",
      "Validation Epoch 251: 100%|██████████| 180/180 [00:26<00:00,  6.73it/s]\n"
     ]
    },
    {
     "name": "stdout",
     "output_type": "stream",
     "text": [
      "Epoch 252/400\n"
     ]
    },
    {
     "name": "stderr",
     "output_type": "stream",
     "text": [
      "Training Epoch 252: 100%|██████████| 719/719 [00:22<00:00, 31.27it/s]\n",
      "Validation Epoch 252: 100%|██████████| 180/180 [00:26<00:00,  6.71it/s]\n"
     ]
    },
    {
     "name": "stdout",
     "output_type": "stream",
     "text": [
      "Epoch 253/400\n"
     ]
    },
    {
     "name": "stderr",
     "output_type": "stream",
     "text": [
      "Training Epoch 253: 100%|██████████| 719/719 [00:22<00:00, 31.97it/s]\n",
      "Validation Epoch 253: 100%|██████████| 180/180 [00:26<00:00,  6.82it/s]\n"
     ]
    },
    {
     "name": "stdout",
     "output_type": "stream",
     "text": [
      "Epoch 254/400\n"
     ]
    },
    {
     "name": "stderr",
     "output_type": "stream",
     "text": [
      "Training Epoch 254: 100%|██████████| 719/719 [00:22<00:00, 32.31it/s]\n",
      "Validation Epoch 254: 100%|██████████| 180/180 [00:25<00:00,  6.94it/s]\n"
     ]
    },
    {
     "name": "stdout",
     "output_type": "stream",
     "text": [
      "Epoch 255/400\n"
     ]
    },
    {
     "name": "stderr",
     "output_type": "stream",
     "text": [
      "Training Epoch 255: 100%|██████████| 719/719 [00:22<00:00, 32.59it/s]\n",
      "Validation Epoch 255: 100%|██████████| 180/180 [00:26<00:00,  6.91it/s]\n"
     ]
    },
    {
     "name": "stdout",
     "output_type": "stream",
     "text": [
      "Epoch 256/400\n"
     ]
    },
    {
     "name": "stderr",
     "output_type": "stream",
     "text": [
      "Training Epoch 256: 100%|██████████| 719/719 [00:22<00:00, 32.06it/s]\n",
      "Validation Epoch 256: 100%|██████████| 180/180 [00:26<00:00,  6.88it/s]\n"
     ]
    },
    {
     "name": "stdout",
     "output_type": "stream",
     "text": [
      "Epoch 257/400\n"
     ]
    },
    {
     "name": "stderr",
     "output_type": "stream",
     "text": [
      "Training Epoch 257: 100%|██████████| 719/719 [00:22<00:00, 32.59it/s]\n",
      "Validation Epoch 257: 100%|██████████| 180/180 [00:25<00:00,  6.96it/s]\n"
     ]
    },
    {
     "name": "stdout",
     "output_type": "stream",
     "text": [
      "Epoch 258/400\n"
     ]
    },
    {
     "name": "stderr",
     "output_type": "stream",
     "text": [
      "Training Epoch 258: 100%|██████████| 719/719 [00:22<00:00, 32.24it/s]\n",
      "Validation Epoch 258: 100%|██████████| 180/180 [00:26<00:00,  6.91it/s]\n"
     ]
    },
    {
     "name": "stdout",
     "output_type": "stream",
     "text": [
      "Epoch 259/400\n"
     ]
    },
    {
     "name": "stderr",
     "output_type": "stream",
     "text": [
      "Training Epoch 259: 100%|██████████| 719/719 [00:22<00:00, 32.08it/s]\n",
      "Validation Epoch 259: 100%|██████████| 180/180 [00:26<00:00,  6.89it/s]\n"
     ]
    },
    {
     "name": "stdout",
     "output_type": "stream",
     "text": [
      "Epoch 260/400\n"
     ]
    },
    {
     "name": "stderr",
     "output_type": "stream",
     "text": [
      "Training Epoch 260: 100%|██████████| 719/719 [00:22<00:00, 32.62it/s]\n",
      "Validation Epoch 260: 100%|██████████| 180/180 [00:25<00:00,  6.94it/s]\n"
     ]
    },
    {
     "name": "stdout",
     "output_type": "stream",
     "text": [
      "Epoch 261/400\n"
     ]
    },
    {
     "name": "stderr",
     "output_type": "stream",
     "text": [
      "Training Epoch 261: 100%|██████████| 719/719 [00:22<00:00, 32.24it/s]\n",
      "Validation Epoch 261: 100%|██████████| 180/180 [00:26<00:00,  6.85it/s]\n"
     ]
    },
    {
     "name": "stdout",
     "output_type": "stream",
     "text": [
      "Epoch 262/400\n"
     ]
    },
    {
     "name": "stderr",
     "output_type": "stream",
     "text": [
      "Training Epoch 262: 100%|██████████| 719/719 [00:22<00:00, 31.97it/s]\n",
      "Validation Epoch 262: 100%|██████████| 180/180 [00:26<00:00,  6.74it/s]\n"
     ]
    },
    {
     "name": "stdout",
     "output_type": "stream",
     "text": [
      "Epoch 263/400\n"
     ]
    },
    {
     "name": "stderr",
     "output_type": "stream",
     "text": [
      "Training Epoch 263: 100%|██████████| 719/719 [00:22<00:00, 32.43it/s]\n",
      "Validation Epoch 263: 100%|██████████| 180/180 [00:26<00:00,  6.83it/s]\n"
     ]
    },
    {
     "name": "stdout",
     "output_type": "stream",
     "text": [
      "Epoch 264/400\n"
     ]
    },
    {
     "name": "stderr",
     "output_type": "stream",
     "text": [
      "Training Epoch 264: 100%|██████████| 719/719 [00:22<00:00, 31.61it/s]\n",
      "Validation Epoch 264: 100%|██████████| 180/180 [00:26<00:00,  6.77it/s]\n"
     ]
    },
    {
     "name": "stdout",
     "output_type": "stream",
     "text": [
      "Epoch 265/400\n"
     ]
    },
    {
     "name": "stderr",
     "output_type": "stream",
     "text": [
      "Training Epoch 265: 100%|██████████| 719/719 [00:22<00:00, 32.03it/s]\n",
      "Validation Epoch 265: 100%|██████████| 180/180 [00:26<00:00,  6.82it/s]\n"
     ]
    },
    {
     "name": "stdout",
     "output_type": "stream",
     "text": [
      "Epoch 266/400\n"
     ]
    },
    {
     "name": "stderr",
     "output_type": "stream",
     "text": [
      "Training Epoch 266: 100%|██████████| 719/719 [00:23<00:00, 31.19it/s]\n",
      "Validation Epoch 266: 100%|██████████| 180/180 [00:27<00:00,  6.66it/s]\n"
     ]
    },
    {
     "name": "stdout",
     "output_type": "stream",
     "text": [
      "Epoch 267/400\n"
     ]
    },
    {
     "name": "stderr",
     "output_type": "stream",
     "text": [
      "Training Epoch 267: 100%|██████████| 719/719 [00:22<00:00, 32.09it/s]\n",
      "Validation Epoch 267: 100%|██████████| 180/180 [00:26<00:00,  6.82it/s]\n"
     ]
    },
    {
     "name": "stdout",
     "output_type": "stream",
     "text": [
      "Epoch 268/400\n"
     ]
    },
    {
     "name": "stderr",
     "output_type": "stream",
     "text": [
      "Training Epoch 268: 100%|██████████| 719/719 [00:22<00:00, 31.95it/s]\n",
      "Validation Epoch 268: 100%|██████████| 180/180 [00:26<00:00,  6.81it/s]\n"
     ]
    },
    {
     "name": "stdout",
     "output_type": "stream",
     "text": [
      "Epoch 269/400\n"
     ]
    },
    {
     "name": "stderr",
     "output_type": "stream",
     "text": [
      "Training Epoch 269: 100%|██████████| 719/719 [00:22<00:00, 32.23it/s]\n",
      "Validation Epoch 269: 100%|██████████| 180/180 [00:26<00:00,  6.92it/s]\n"
     ]
    },
    {
     "name": "stdout",
     "output_type": "stream",
     "text": [
      "Epoch 270/400\n"
     ]
    },
    {
     "name": "stderr",
     "output_type": "stream",
     "text": [
      "Training Epoch 270: 100%|██████████| 719/719 [00:22<00:00, 32.03it/s]\n",
      "Validation Epoch 270: 100%|██████████| 180/180 [00:26<00:00,  6.81it/s]\n"
     ]
    },
    {
     "name": "stdout",
     "output_type": "stream",
     "text": [
      "Epoch 271/400\n"
     ]
    },
    {
     "name": "stderr",
     "output_type": "stream",
     "text": [
      "Training Epoch 271: 100%|██████████| 719/719 [00:22<00:00, 32.65it/s]\n",
      "Validation Epoch 271: 100%|██████████| 180/180 [00:25<00:00,  6.99it/s]\n"
     ]
    },
    {
     "name": "stdout",
     "output_type": "stream",
     "text": [
      "Epoch 272/400\n"
     ]
    },
    {
     "name": "stderr",
     "output_type": "stream",
     "text": [
      "Training Epoch 272: 100%|██████████| 719/719 [00:22<00:00, 32.25it/s]\n",
      "Validation Epoch 272: 100%|██████████| 180/180 [00:26<00:00,  6.91it/s]\n"
     ]
    },
    {
     "name": "stdout",
     "output_type": "stream",
     "text": [
      "Epoch 273/400\n"
     ]
    },
    {
     "name": "stderr",
     "output_type": "stream",
     "text": [
      "Training Epoch 273: 100%|██████████| 719/719 [00:22<00:00, 31.67it/s]\n",
      "Validation Epoch 273: 100%|██████████| 180/180 [00:26<00:00,  6.70it/s]\n"
     ]
    },
    {
     "name": "stdout",
     "output_type": "stream",
     "text": [
      "Epoch 274/400\n"
     ]
    },
    {
     "name": "stderr",
     "output_type": "stream",
     "text": [
      "Training Epoch 274: 100%|██████████| 719/719 [00:22<00:00, 31.38it/s]\n",
      "Validation Epoch 274: 100%|██████████| 180/180 [00:26<00:00,  6.80it/s]\n"
     ]
    },
    {
     "name": "stdout",
     "output_type": "stream",
     "text": [
      "Epoch 275/400\n"
     ]
    },
    {
     "name": "stderr",
     "output_type": "stream",
     "text": [
      "Training Epoch 275: 100%|██████████| 719/719 [00:21<00:00, 32.78it/s]\n",
      "Validation Epoch 275: 100%|██████████| 180/180 [00:25<00:00,  6.98it/s]\n"
     ]
    },
    {
     "name": "stdout",
     "output_type": "stream",
     "text": [
      "Epoch 276/400\n"
     ]
    },
    {
     "name": "stderr",
     "output_type": "stream",
     "text": [
      "Training Epoch 276: 100%|██████████| 719/719 [00:22<00:00, 31.62it/s]\n",
      "Validation Epoch 276: 100%|██████████| 180/180 [00:26<00:00,  6.79it/s]\n"
     ]
    },
    {
     "name": "stdout",
     "output_type": "stream",
     "text": [
      "Epoch 277/400\n"
     ]
    },
    {
     "name": "stderr",
     "output_type": "stream",
     "text": [
      "Training Epoch 277: 100%|██████████| 719/719 [00:22<00:00, 31.97it/s]\n",
      "Validation Epoch 277: 100%|██████████| 180/180 [00:26<00:00,  6.84it/s]\n"
     ]
    },
    {
     "name": "stdout",
     "output_type": "stream",
     "text": [
      "Epoch 278/400\n"
     ]
    },
    {
     "name": "stderr",
     "output_type": "stream",
     "text": [
      "Training Epoch 278: 100%|██████████| 719/719 [00:22<00:00, 31.59it/s]\n",
      "Validation Epoch 278: 100%|██████████| 180/180 [00:26<00:00,  6.77it/s]\n"
     ]
    },
    {
     "name": "stdout",
     "output_type": "stream",
     "text": [
      "Epoch 279/400\n"
     ]
    },
    {
     "name": "stderr",
     "output_type": "stream",
     "text": [
      "Training Epoch 279: 100%|██████████| 719/719 [00:22<00:00, 31.82it/s]\n",
      "Validation Epoch 279: 100%|██████████| 180/180 [00:26<00:00,  6.83it/s]\n"
     ]
    },
    {
     "name": "stdout",
     "output_type": "stream",
     "text": [
      "Epoch 280/400\n"
     ]
    },
    {
     "name": "stderr",
     "output_type": "stream",
     "text": [
      "Training Epoch 280: 100%|██████████| 719/719 [00:22<00:00, 32.14it/s]\n",
      "Validation Epoch 280: 100%|██████████| 180/180 [00:26<00:00,  6.84it/s]\n"
     ]
    },
    {
     "name": "stdout",
     "output_type": "stream",
     "text": [
      "Epoch 281/400\n"
     ]
    },
    {
     "name": "stderr",
     "output_type": "stream",
     "text": [
      "Training Epoch 281: 100%|██████████| 719/719 [00:22<00:00, 32.22it/s]\n",
      "Validation Epoch 281: 100%|██████████| 180/180 [00:26<00:00,  6.87it/s]\n"
     ]
    },
    {
     "name": "stdout",
     "output_type": "stream",
     "text": [
      "Epoch 282/400\n"
     ]
    },
    {
     "name": "stderr",
     "output_type": "stream",
     "text": [
      "Training Epoch 282: 100%|██████████| 719/719 [00:22<00:00, 32.13it/s]\n",
      "Validation Epoch 282: 100%|██████████| 180/180 [00:26<00:00,  6.89it/s]\n"
     ]
    },
    {
     "name": "stdout",
     "output_type": "stream",
     "text": [
      "Epoch 283/400\n"
     ]
    },
    {
     "name": "stderr",
     "output_type": "stream",
     "text": [
      "Training Epoch 283: 100%|██████████| 719/719 [00:22<00:00, 31.82it/s]\n",
      "Validation Epoch 283: 100%|██████████| 180/180 [00:26<00:00,  6.79it/s]\n"
     ]
    },
    {
     "name": "stdout",
     "output_type": "stream",
     "text": [
      "Epoch 284/400\n"
     ]
    },
    {
     "name": "stderr",
     "output_type": "stream",
     "text": [
      "Training Epoch 284: 100%|██████████| 719/719 [00:22<00:00, 32.21it/s]\n",
      "Validation Epoch 284: 100%|██████████| 180/180 [00:26<00:00,  6.91it/s]\n"
     ]
    },
    {
     "name": "stdout",
     "output_type": "stream",
     "text": [
      "Epoch 285/400\n"
     ]
    },
    {
     "name": "stderr",
     "output_type": "stream",
     "text": [
      "Training Epoch 285: 100%|██████████| 719/719 [00:22<00:00, 32.67it/s]\n",
      "Validation Epoch 285: 100%|██████████| 180/180 [00:25<00:00,  6.99it/s]\n"
     ]
    },
    {
     "name": "stdout",
     "output_type": "stream",
     "text": [
      "Epoch 286/400\n"
     ]
    },
    {
     "name": "stderr",
     "output_type": "stream",
     "text": [
      "Training Epoch 286: 100%|██████████| 719/719 [00:22<00:00, 32.24it/s]\n",
      "Validation Epoch 286: 100%|██████████| 180/180 [00:26<00:00,  6.86it/s]\n"
     ]
    },
    {
     "name": "stdout",
     "output_type": "stream",
     "text": [
      "Epoch 287/400\n"
     ]
    },
    {
     "name": "stderr",
     "output_type": "stream",
     "text": [
      "Training Epoch 287: 100%|██████████| 719/719 [00:22<00:00, 31.41it/s]\n",
      "Validation Epoch 287: 100%|██████████| 180/180 [00:26<00:00,  6.72it/s]\n"
     ]
    },
    {
     "name": "stdout",
     "output_type": "stream",
     "text": [
      "Epoch 288/400\n"
     ]
    },
    {
     "name": "stderr",
     "output_type": "stream",
     "text": [
      "Training Epoch 288: 100%|██████████| 719/719 [00:22<00:00, 31.89it/s]\n",
      "Validation Epoch 288: 100%|██████████| 180/180 [00:26<00:00,  6.87it/s]\n"
     ]
    },
    {
     "name": "stdout",
     "output_type": "stream",
     "text": [
      "Epoch 289/400\n"
     ]
    },
    {
     "name": "stderr",
     "output_type": "stream",
     "text": [
      "Training Epoch 289: 100%|██████████| 719/719 [00:22<00:00, 32.50it/s]\n",
      "Validation Epoch 289: 100%|██████████| 180/180 [00:26<00:00,  6.88it/s]\n"
     ]
    },
    {
     "name": "stdout",
     "output_type": "stream",
     "text": [
      "Epoch 290/400\n"
     ]
    },
    {
     "name": "stderr",
     "output_type": "stream",
     "text": [
      "Training Epoch 290: 100%|██████████| 719/719 [00:21<00:00, 33.33it/s]\n",
      "Validation Epoch 290: 100%|██████████| 180/180 [00:25<00:00,  7.08it/s]\n"
     ]
    },
    {
     "name": "stdout",
     "output_type": "stream",
     "text": [
      "Epoch 291/400\n"
     ]
    },
    {
     "name": "stderr",
     "output_type": "stream",
     "text": [
      "Training Epoch 291: 100%|██████████| 719/719 [00:22<00:00, 32.58it/s]\n",
      "Validation Epoch 291: 100%|██████████| 180/180 [00:26<00:00,  6.91it/s]\n"
     ]
    },
    {
     "name": "stdout",
     "output_type": "stream",
     "text": [
      "Epoch 292/400\n"
     ]
    },
    {
     "name": "stderr",
     "output_type": "stream",
     "text": [
      "Training Epoch 292: 100%|██████████| 719/719 [00:23<00:00, 31.16it/s]\n",
      "Validation Epoch 292: 100%|██████████| 180/180 [00:27<00:00,  6.64it/s]\n"
     ]
    },
    {
     "name": "stdout",
     "output_type": "stream",
     "text": [
      "Epoch 293/400\n"
     ]
    },
    {
     "name": "stderr",
     "output_type": "stream",
     "text": [
      "Training Epoch 293: 100%|██████████| 719/719 [00:23<00:00, 31.23it/s]\n",
      "Validation Epoch 293: 100%|██████████| 180/180 [00:26<00:00,  6.71it/s]\n"
     ]
    },
    {
     "name": "stdout",
     "output_type": "stream",
     "text": [
      "Epoch 294/400\n"
     ]
    },
    {
     "name": "stderr",
     "output_type": "stream",
     "text": [
      "Training Epoch 294: 100%|██████████| 719/719 [00:22<00:00, 32.05it/s]\n",
      "Validation Epoch 294: 100%|██████████| 180/180 [00:26<00:00,  6.82it/s]\n"
     ]
    },
    {
     "name": "stdout",
     "output_type": "stream",
     "text": [
      "Epoch 295/400\n"
     ]
    },
    {
     "name": "stderr",
     "output_type": "stream",
     "text": [
      "Training Epoch 295: 100%|██████████| 719/719 [00:22<00:00, 32.12it/s]\n",
      "Validation Epoch 295: 100%|██████████| 180/180 [00:26<00:00,  6.84it/s]\n"
     ]
    },
    {
     "name": "stdout",
     "output_type": "stream",
     "text": [
      "Epoch 296/400\n"
     ]
    },
    {
     "name": "stderr",
     "output_type": "stream",
     "text": [
      "Training Epoch 296: 100%|██████████| 719/719 [00:22<00:00, 31.92it/s]\n",
      "Validation Epoch 296: 100%|██████████| 180/180 [00:26<00:00,  6.77it/s]\n"
     ]
    },
    {
     "name": "stdout",
     "output_type": "stream",
     "text": [
      "Epoch 297/400\n"
     ]
    },
    {
     "name": "stderr",
     "output_type": "stream",
     "text": [
      "Training Epoch 297: 100%|██████████| 719/719 [00:22<00:00, 32.29it/s]\n",
      "Validation Epoch 297: 100%|██████████| 180/180 [00:26<00:00,  6.92it/s]\n"
     ]
    },
    {
     "name": "stdout",
     "output_type": "stream",
     "text": [
      "Epoch 298/400\n"
     ]
    },
    {
     "name": "stderr",
     "output_type": "stream",
     "text": [
      "Training Epoch 298: 100%|██████████| 719/719 [00:21<00:00, 32.76it/s]\n",
      "Validation Epoch 298: 100%|██████████| 180/180 [00:25<00:00,  6.96it/s]\n"
     ]
    },
    {
     "name": "stdout",
     "output_type": "stream",
     "text": [
      "Epoch 299/400\n"
     ]
    },
    {
     "name": "stderr",
     "output_type": "stream",
     "text": [
      "Training Epoch 299: 100%|██████████| 719/719 [00:22<00:00, 31.52it/s]\n",
      "Validation Epoch 299: 100%|██████████| 180/180 [00:26<00:00,  6.68it/s]\n"
     ]
    },
    {
     "name": "stdout",
     "output_type": "stream",
     "text": [
      "Epoch 300/400\n"
     ]
    },
    {
     "name": "stderr",
     "output_type": "stream",
     "text": [
      "Training Epoch 300: 100%|██████████| 719/719 [00:21<00:00, 32.93it/s]\n",
      "Validation Epoch 300: 100%|██████████| 180/180 [00:25<00:00,  7.02it/s]\n"
     ]
    },
    {
     "name": "stdout",
     "output_type": "stream",
     "text": [
      "Epoch 301/400\n"
     ]
    },
    {
     "name": "stderr",
     "output_type": "stream",
     "text": [
      "Training Epoch 301: 100%|██████████| 719/719 [00:22<00:00, 32.25it/s]\n",
      "Validation Epoch 301: 100%|██████████| 180/180 [00:26<00:00,  6.92it/s]\n"
     ]
    },
    {
     "name": "stdout",
     "output_type": "stream",
     "text": [
      "Epoch 302/400\n"
     ]
    },
    {
     "name": "stderr",
     "output_type": "stream",
     "text": [
      "Training Epoch 302: 100%|██████████| 719/719 [00:22<00:00, 32.29it/s]\n",
      "Validation Epoch 302: 100%|██████████| 180/180 [00:26<00:00,  6.84it/s]\n"
     ]
    },
    {
     "name": "stdout",
     "output_type": "stream",
     "text": [
      "Epoch 303/400\n"
     ]
    },
    {
     "name": "stderr",
     "output_type": "stream",
     "text": [
      "Training Epoch 303: 100%|██████████| 719/719 [00:22<00:00, 32.19it/s]\n",
      "Validation Epoch 303: 100%|██████████| 180/180 [00:26<00:00,  6.86it/s]\n"
     ]
    },
    {
     "name": "stdout",
     "output_type": "stream",
     "text": [
      "Epoch 304/400\n"
     ]
    },
    {
     "name": "stderr",
     "output_type": "stream",
     "text": [
      "Training Epoch 304: 100%|██████████| 719/719 [00:22<00:00, 32.09it/s]\n",
      "Validation Epoch 304: 100%|██████████| 180/180 [00:26<00:00,  6.85it/s]\n"
     ]
    },
    {
     "name": "stdout",
     "output_type": "stream",
     "text": [
      "Epoch 305/400\n"
     ]
    },
    {
     "name": "stderr",
     "output_type": "stream",
     "text": [
      "Training Epoch 305: 100%|██████████| 719/719 [00:22<00:00, 31.56it/s]\n",
      "Validation Epoch 305: 100%|██████████| 180/180 [00:26<00:00,  6.71it/s]\n"
     ]
    },
    {
     "name": "stdout",
     "output_type": "stream",
     "text": [
      "Epoch 306/400\n"
     ]
    },
    {
     "name": "stderr",
     "output_type": "stream",
     "text": [
      "Training Epoch 306: 100%|██████████| 719/719 [00:21<00:00, 33.10it/s]\n",
      "Validation Epoch 306: 100%|██████████| 180/180 [00:25<00:00,  6.99it/s]\n"
     ]
    },
    {
     "name": "stdout",
     "output_type": "stream",
     "text": [
      "Epoch 307/400\n"
     ]
    },
    {
     "name": "stderr",
     "output_type": "stream",
     "text": [
      "Training Epoch 307: 100%|██████████| 719/719 [00:21<00:00, 33.37it/s]\n",
      "Validation Epoch 307: 100%|██████████| 180/180 [00:25<00:00,  7.11it/s]\n"
     ]
    },
    {
     "name": "stdout",
     "output_type": "stream",
     "text": [
      "Epoch 308/400\n"
     ]
    },
    {
     "name": "stderr",
     "output_type": "stream",
     "text": [
      "Training Epoch 308: 100%|██████████| 719/719 [00:22<00:00, 31.68it/s]\n",
      "Validation Epoch 308: 100%|██████████| 180/180 [00:26<00:00,  6.76it/s]\n"
     ]
    },
    {
     "name": "stdout",
     "output_type": "stream",
     "text": [
      "Epoch 309/400\n"
     ]
    },
    {
     "name": "stderr",
     "output_type": "stream",
     "text": [
      "Training Epoch 309: 100%|██████████| 719/719 [00:22<00:00, 32.49it/s]\n",
      "Validation Epoch 309: 100%|██████████| 180/180 [00:26<00:00,  6.90it/s]\n"
     ]
    },
    {
     "name": "stdout",
     "output_type": "stream",
     "text": [
      "Epoch 310/400\n"
     ]
    },
    {
     "name": "stderr",
     "output_type": "stream",
     "text": [
      "Training Epoch 310: 100%|██████████| 719/719 [00:22<00:00, 32.18it/s]\n",
      "Validation Epoch 310: 100%|██████████| 180/180 [00:26<00:00,  6.88it/s]\n"
     ]
    },
    {
     "name": "stdout",
     "output_type": "stream",
     "text": [
      "Epoch 311/400\n"
     ]
    },
    {
     "name": "stderr",
     "output_type": "stream",
     "text": [
      "Training Epoch 311: 100%|██████████| 719/719 [00:22<00:00, 32.49it/s]\n",
      "Validation Epoch 311: 100%|██████████| 180/180 [00:26<00:00,  6.89it/s]\n"
     ]
    },
    {
     "name": "stdout",
     "output_type": "stream",
     "text": [
      "Epoch 312/400\n"
     ]
    },
    {
     "name": "stderr",
     "output_type": "stream",
     "text": [
      "Training Epoch 312: 100%|██████████| 719/719 [00:22<00:00, 32.28it/s]\n",
      "Validation Epoch 312: 100%|██████████| 180/180 [00:25<00:00,  6.93it/s]\n"
     ]
    },
    {
     "name": "stdout",
     "output_type": "stream",
     "text": [
      "Epoch 313/400\n"
     ]
    },
    {
     "name": "stderr",
     "output_type": "stream",
     "text": [
      "Training Epoch 313: 100%|██████████| 719/719 [00:22<00:00, 32.47it/s]\n",
      "Validation Epoch 313: 100%|██████████| 180/180 [00:25<00:00,  6.98it/s]\n"
     ]
    },
    {
     "name": "stdout",
     "output_type": "stream",
     "text": [
      "Epoch 314/400\n"
     ]
    },
    {
     "name": "stderr",
     "output_type": "stream",
     "text": [
      "Training Epoch 314: 100%|██████████| 719/719 [00:22<00:00, 32.47it/s]\n",
      "Validation Epoch 314: 100%|██████████| 180/180 [00:25<00:00,  6.99it/s]\n"
     ]
    },
    {
     "name": "stdout",
     "output_type": "stream",
     "text": [
      "Epoch 315/400\n"
     ]
    },
    {
     "name": "stderr",
     "output_type": "stream",
     "text": [
      "Training Epoch 315: 100%|██████████| 719/719 [00:21<00:00, 34.08it/s]\n",
      "Validation Epoch 315: 100%|██████████| 180/180 [00:24<00:00,  7.22it/s]\n"
     ]
    },
    {
     "name": "stdout",
     "output_type": "stream",
     "text": [
      "Epoch 316/400\n"
     ]
    },
    {
     "name": "stderr",
     "output_type": "stream",
     "text": [
      "Training Epoch 316: 100%|██████████| 719/719 [00:22<00:00, 31.30it/s]\n",
      "Validation Epoch 316: 100%|██████████| 180/180 [00:26<00:00,  6.74it/s]\n"
     ]
    },
    {
     "name": "stdout",
     "output_type": "stream",
     "text": [
      "Epoch 317/400\n"
     ]
    },
    {
     "name": "stderr",
     "output_type": "stream",
     "text": [
      "Training Epoch 317: 100%|██████████| 719/719 [00:22<00:00, 31.47it/s]\n",
      "Validation Epoch 317: 100%|██████████| 180/180 [00:26<00:00,  6.76it/s]\n"
     ]
    },
    {
     "name": "stdout",
     "output_type": "stream",
     "text": [
      "Epoch 318/400\n"
     ]
    },
    {
     "name": "stderr",
     "output_type": "stream",
     "text": [
      "Training Epoch 318: 100%|██████████| 719/719 [00:22<00:00, 32.00it/s]\n",
      "Validation Epoch 318: 100%|██████████| 180/180 [00:26<00:00,  6.82it/s]\n"
     ]
    },
    {
     "name": "stdout",
     "output_type": "stream",
     "text": [
      "Epoch 319/400\n"
     ]
    },
    {
     "name": "stderr",
     "output_type": "stream",
     "text": [
      "Training Epoch 319: 100%|██████████| 719/719 [00:22<00:00, 31.78it/s]\n",
      "Validation Epoch 319: 100%|██████████| 180/180 [00:26<00:00,  6.84it/s]\n"
     ]
    },
    {
     "name": "stdout",
     "output_type": "stream",
     "text": [
      "Epoch 320/400\n"
     ]
    },
    {
     "name": "stderr",
     "output_type": "stream",
     "text": [
      "Training Epoch 320: 100%|██████████| 719/719 [00:22<00:00, 31.99it/s]\n",
      "Validation Epoch 320: 100%|██████████| 180/180 [00:26<00:00,  6.83it/s]\n"
     ]
    },
    {
     "name": "stdout",
     "output_type": "stream",
     "text": [
      "Epoch 321/400\n"
     ]
    },
    {
     "name": "stderr",
     "output_type": "stream",
     "text": [
      "Training Epoch 321: 100%|██████████| 719/719 [00:22<00:00, 32.21it/s]\n",
      "Validation Epoch 321: 100%|██████████| 180/180 [00:26<00:00,  6.87it/s]\n"
     ]
    },
    {
     "name": "stdout",
     "output_type": "stream",
     "text": [
      "Epoch 322/400\n"
     ]
    },
    {
     "name": "stderr",
     "output_type": "stream",
     "text": [
      "Training Epoch 322: 100%|██████████| 719/719 [00:22<00:00, 32.40it/s]\n",
      "Validation Epoch 322: 100%|██████████| 180/180 [00:26<00:00,  6.92it/s]\n"
     ]
    },
    {
     "name": "stdout",
     "output_type": "stream",
     "text": [
      "Epoch 323/400\n"
     ]
    },
    {
     "name": "stderr",
     "output_type": "stream",
     "text": [
      "Training Epoch 323: 100%|██████████| 719/719 [00:22<00:00, 31.53it/s]\n",
      "Validation Epoch 323: 100%|██████████| 180/180 [00:26<00:00,  6.78it/s]\n"
     ]
    },
    {
     "name": "stdout",
     "output_type": "stream",
     "text": [
      "Epoch 324/400\n"
     ]
    },
    {
     "name": "stderr",
     "output_type": "stream",
     "text": [
      "Training Epoch 324: 100%|██████████| 719/719 [00:22<00:00, 32.66it/s]\n",
      "Validation Epoch 324: 100%|██████████| 180/180 [00:25<00:00,  7.00it/s]\n"
     ]
    },
    {
     "name": "stdout",
     "output_type": "stream",
     "text": [
      "Epoch 325/400\n"
     ]
    },
    {
     "name": "stderr",
     "output_type": "stream",
     "text": [
      "Training Epoch 325: 100%|██████████| 719/719 [00:22<00:00, 32.02it/s]\n",
      "Validation Epoch 325: 100%|██████████| 180/180 [00:26<00:00,  6.83it/s]\n"
     ]
    },
    {
     "name": "stdout",
     "output_type": "stream",
     "text": [
      "Epoch 326/400\n"
     ]
    },
    {
     "name": "stderr",
     "output_type": "stream",
     "text": [
      "Training Epoch 326: 100%|██████████| 719/719 [00:22<00:00, 31.56it/s]\n",
      "Validation Epoch 326: 100%|██████████| 180/180 [00:26<00:00,  6.79it/s]\n"
     ]
    },
    {
     "name": "stdout",
     "output_type": "stream",
     "text": [
      "Epoch 327/400\n"
     ]
    },
    {
     "name": "stderr",
     "output_type": "stream",
     "text": [
      "Training Epoch 327: 100%|██████████| 719/719 [00:21<00:00, 32.77it/s]\n",
      "Validation Epoch 327: 100%|██████████| 180/180 [00:25<00:00,  6.95it/s]\n"
     ]
    },
    {
     "name": "stdout",
     "output_type": "stream",
     "text": [
      "Epoch 328/400\n"
     ]
    },
    {
     "name": "stderr",
     "output_type": "stream",
     "text": [
      "Training Epoch 328: 100%|██████████| 719/719 [00:21<00:00, 32.85it/s]\n",
      "Validation Epoch 328: 100%|██████████| 180/180 [00:25<00:00,  6.96it/s]\n"
     ]
    },
    {
     "name": "stdout",
     "output_type": "stream",
     "text": [
      "Epoch 329/400\n"
     ]
    },
    {
     "name": "stderr",
     "output_type": "stream",
     "text": [
      "Training Epoch 329: 100%|██████████| 719/719 [00:22<00:00, 32.60it/s]\n",
      "Validation Epoch 329: 100%|██████████| 180/180 [00:26<00:00,  6.91it/s]\n"
     ]
    },
    {
     "name": "stdout",
     "output_type": "stream",
     "text": [
      "Epoch 330/400\n"
     ]
    },
    {
     "name": "stderr",
     "output_type": "stream",
     "text": [
      "Training Epoch 330: 100%|██████████| 719/719 [00:22<00:00, 32.42it/s]\n",
      "Validation Epoch 330: 100%|██████████| 180/180 [00:26<00:00,  6.90it/s]\n"
     ]
    },
    {
     "name": "stdout",
     "output_type": "stream",
     "text": [
      "Epoch 331/400\n"
     ]
    },
    {
     "name": "stderr",
     "output_type": "stream",
     "text": [
      "Training Epoch 331: 100%|██████████| 719/719 [00:22<00:00, 31.94it/s]\n",
      "Validation Epoch 331: 100%|██████████| 180/180 [00:26<00:00,  6.85it/s]\n"
     ]
    },
    {
     "name": "stdout",
     "output_type": "stream",
     "text": [
      "Epoch 332/400\n"
     ]
    },
    {
     "name": "stderr",
     "output_type": "stream",
     "text": [
      "Training Epoch 332: 100%|██████████| 719/719 [00:22<00:00, 32.11it/s]\n",
      "Validation Epoch 332: 100%|██████████| 180/180 [00:26<00:00,  6.87it/s]\n"
     ]
    },
    {
     "name": "stdout",
     "output_type": "stream",
     "text": [
      "Epoch 333/400\n"
     ]
    },
    {
     "name": "stderr",
     "output_type": "stream",
     "text": [
      "Training Epoch 333: 100%|██████████| 719/719 [00:22<00:00, 32.33it/s]\n",
      "Validation Epoch 333: 100%|██████████| 180/180 [00:26<00:00,  6.87it/s]\n"
     ]
    },
    {
     "name": "stdout",
     "output_type": "stream",
     "text": [
      "Epoch 334/400\n"
     ]
    },
    {
     "name": "stderr",
     "output_type": "stream",
     "text": [
      "Training Epoch 334: 100%|██████████| 719/719 [00:22<00:00, 31.60it/s]\n",
      "Validation Epoch 334: 100%|██████████| 180/180 [00:26<00:00,  6.77it/s]\n"
     ]
    },
    {
     "name": "stdout",
     "output_type": "stream",
     "text": [
      "Epoch 335/400\n"
     ]
    },
    {
     "name": "stderr",
     "output_type": "stream",
     "text": [
      "Training Epoch 335: 100%|██████████| 719/719 [00:22<00:00, 32.09it/s]\n",
      "Validation Epoch 335: 100%|██████████| 180/180 [00:26<00:00,  6.91it/s]\n"
     ]
    },
    {
     "name": "stdout",
     "output_type": "stream",
     "text": [
      "Epoch 336/400\n"
     ]
    },
    {
     "name": "stderr",
     "output_type": "stream",
     "text": [
      "Training Epoch 336: 100%|██████████| 719/719 [00:22<00:00, 31.91it/s]\n",
      "Validation Epoch 336: 100%|██████████| 180/180 [00:26<00:00,  6.83it/s]\n"
     ]
    },
    {
     "name": "stdout",
     "output_type": "stream",
     "text": [
      "Epoch 337/400\n"
     ]
    },
    {
     "name": "stderr",
     "output_type": "stream",
     "text": [
      "Training Epoch 337: 100%|██████████| 719/719 [00:22<00:00, 31.87it/s]\n",
      "Validation Epoch 337: 100%|██████████| 180/180 [00:26<00:00,  6.78it/s]\n"
     ]
    },
    {
     "name": "stdout",
     "output_type": "stream",
     "text": [
      "Epoch 338/400\n"
     ]
    },
    {
     "name": "stderr",
     "output_type": "stream",
     "text": [
      "Training Epoch 338: 100%|██████████| 719/719 [00:21<00:00, 32.73it/s]\n",
      "Validation Epoch 338: 100%|██████████| 180/180 [00:25<00:00,  6.98it/s]\n"
     ]
    },
    {
     "name": "stdout",
     "output_type": "stream",
     "text": [
      "Epoch 339/400\n"
     ]
    },
    {
     "name": "stderr",
     "output_type": "stream",
     "text": [
      "Training Epoch 339: 100%|██████████| 719/719 [00:22<00:00, 32.61it/s]\n",
      "Validation Epoch 339: 100%|██████████| 180/180 [00:25<00:00,  6.93it/s]\n"
     ]
    },
    {
     "name": "stdout",
     "output_type": "stream",
     "text": [
      "Epoch 340/400\n"
     ]
    },
    {
     "name": "stderr",
     "output_type": "stream",
     "text": [
      "Training Epoch 340: 100%|██████████| 719/719 [00:22<00:00, 32.02it/s]\n",
      "Validation Epoch 340: 100%|██████████| 180/180 [00:26<00:00,  6.84it/s]\n"
     ]
    },
    {
     "name": "stdout",
     "output_type": "stream",
     "text": [
      "Epoch 341/400\n"
     ]
    },
    {
     "name": "stderr",
     "output_type": "stream",
     "text": [
      "Training Epoch 341: 100%|██████████| 719/719 [00:22<00:00, 32.39it/s]\n",
      "Validation Epoch 341: 100%|██████████| 180/180 [00:26<00:00,  6.86it/s]\n"
     ]
    },
    {
     "name": "stdout",
     "output_type": "stream",
     "text": [
      "Epoch 342/400\n"
     ]
    },
    {
     "name": "stderr",
     "output_type": "stream",
     "text": [
      "Training Epoch 342: 100%|██████████| 719/719 [00:22<00:00, 32.62it/s]\n",
      "Validation Epoch 342: 100%|██████████| 180/180 [00:26<00:00,  6.90it/s]\n"
     ]
    },
    {
     "name": "stdout",
     "output_type": "stream",
     "text": [
      "Epoch 343/400\n"
     ]
    },
    {
     "name": "stderr",
     "output_type": "stream",
     "text": [
      "Training Epoch 343: 100%|██████████| 719/719 [00:23<00:00, 30.64it/s]\n",
      "Validation Epoch 343: 100%|██████████| 180/180 [00:27<00:00,  6.65it/s]\n"
     ]
    },
    {
     "name": "stdout",
     "output_type": "stream",
     "text": [
      "Epoch 344/400\n"
     ]
    },
    {
     "name": "stderr",
     "output_type": "stream",
     "text": [
      "Training Epoch 344: 100%|██████████| 719/719 [00:22<00:00, 32.19it/s]\n",
      "Validation Epoch 344: 100%|██████████| 180/180 [00:26<00:00,  6.87it/s]\n"
     ]
    },
    {
     "name": "stdout",
     "output_type": "stream",
     "text": [
      "Epoch 345/400\n"
     ]
    },
    {
     "name": "stderr",
     "output_type": "stream",
     "text": [
      "Training Epoch 345: 100%|██████████| 719/719 [00:22<00:00, 31.42it/s]\n",
      "Validation Epoch 345: 100%|██████████| 180/180 [00:26<00:00,  6.77it/s]\n"
     ]
    },
    {
     "name": "stdout",
     "output_type": "stream",
     "text": [
      "Epoch 346/400\n"
     ]
    },
    {
     "name": "stderr",
     "output_type": "stream",
     "text": [
      "Training Epoch 346: 100%|██████████| 719/719 [00:21<00:00, 32.87it/s]\n",
      "Validation Epoch 346: 100%|██████████| 180/180 [00:25<00:00,  7.03it/s]\n"
     ]
    },
    {
     "name": "stdout",
     "output_type": "stream",
     "text": [
      "Epoch 347/400\n"
     ]
    },
    {
     "name": "stderr",
     "output_type": "stream",
     "text": [
      "Training Epoch 347: 100%|██████████| 719/719 [00:22<00:00, 31.76it/s]\n",
      "Validation Epoch 347: 100%|██████████| 180/180 [00:26<00:00,  6.76it/s]\n"
     ]
    },
    {
     "name": "stdout",
     "output_type": "stream",
     "text": [
      "Epoch 348/400\n"
     ]
    },
    {
     "name": "stderr",
     "output_type": "stream",
     "text": [
      "Training Epoch 348: 100%|██████████| 719/719 [00:23<00:00, 31.16it/s]\n",
      "Validation Epoch 348: 100%|██████████| 180/180 [00:26<00:00,  6.69it/s]\n"
     ]
    },
    {
     "name": "stdout",
     "output_type": "stream",
     "text": [
      "Epoch 349/400\n"
     ]
    },
    {
     "name": "stderr",
     "output_type": "stream",
     "text": [
      "Training Epoch 349: 100%|██████████| 719/719 [00:22<00:00, 31.78it/s]\n",
      "Validation Epoch 349: 100%|██████████| 180/180 [00:26<00:00,  6.81it/s]\n"
     ]
    },
    {
     "name": "stdout",
     "output_type": "stream",
     "text": [
      "Epoch 350/400\n"
     ]
    },
    {
     "name": "stderr",
     "output_type": "stream",
     "text": [
      "Training Epoch 350: 100%|██████████| 719/719 [00:22<00:00, 31.52it/s]\n",
      "Validation Epoch 350: 100%|██████████| 180/180 [00:26<00:00,  6.74it/s]\n"
     ]
    },
    {
     "name": "stdout",
     "output_type": "stream",
     "text": [
      "Epoch 351/400\n"
     ]
    },
    {
     "name": "stderr",
     "output_type": "stream",
     "text": [
      "Training Epoch 351: 100%|██████████| 719/719 [00:22<00:00, 32.61it/s]\n",
      "Validation Epoch 351: 100%|██████████| 180/180 [00:25<00:00,  6.96it/s]\n"
     ]
    },
    {
     "name": "stdout",
     "output_type": "stream",
     "text": [
      "Epoch 352/400\n"
     ]
    },
    {
     "name": "stderr",
     "output_type": "stream",
     "text": [
      "Training Epoch 352: 100%|██████████| 719/719 [00:22<00:00, 32.23it/s]\n",
      "Validation Epoch 352: 100%|██████████| 180/180 [00:26<00:00,  6.85it/s]\n"
     ]
    },
    {
     "name": "stdout",
     "output_type": "stream",
     "text": [
      "Epoch 353/400\n"
     ]
    },
    {
     "name": "stderr",
     "output_type": "stream",
     "text": [
      "Training Epoch 353: 100%|██████████| 719/719 [00:22<00:00, 32.11it/s]\n",
      "Validation Epoch 353: 100%|██████████| 180/180 [00:26<00:00,  6.87it/s]\n"
     ]
    },
    {
     "name": "stdout",
     "output_type": "stream",
     "text": [
      "Epoch 354/400\n"
     ]
    },
    {
     "name": "stderr",
     "output_type": "stream",
     "text": [
      "Training Epoch 354: 100%|██████████| 719/719 [00:22<00:00, 32.22it/s]\n",
      "Validation Epoch 354: 100%|██████████| 180/180 [00:26<00:00,  6.87it/s]\n"
     ]
    },
    {
     "name": "stdout",
     "output_type": "stream",
     "text": [
      "Epoch 355/400\n"
     ]
    },
    {
     "name": "stderr",
     "output_type": "stream",
     "text": [
      "Training Epoch 355: 100%|██████████| 719/719 [00:22<00:00, 32.54it/s]\n",
      "Validation Epoch 355: 100%|██████████| 180/180 [00:25<00:00,  6.97it/s]\n"
     ]
    },
    {
     "name": "stdout",
     "output_type": "stream",
     "text": [
      "Epoch 356/400\n"
     ]
    },
    {
     "name": "stderr",
     "output_type": "stream",
     "text": [
      "Training Epoch 356: 100%|██████████| 719/719 [00:22<00:00, 32.65it/s]\n",
      "Validation Epoch 356: 100%|██████████| 180/180 [00:26<00:00,  6.89it/s]\n"
     ]
    },
    {
     "name": "stdout",
     "output_type": "stream",
     "text": [
      "Epoch 357/400\n"
     ]
    },
    {
     "name": "stderr",
     "output_type": "stream",
     "text": [
      "Training Epoch 357: 100%|██████████| 719/719 [00:21<00:00, 33.38it/s]\n",
      "Validation Epoch 357: 100%|██████████| 180/180 [00:25<00:00,  7.16it/s]\n"
     ]
    },
    {
     "name": "stdout",
     "output_type": "stream",
     "text": [
      "Epoch 358/400\n"
     ]
    },
    {
     "name": "stderr",
     "output_type": "stream",
     "text": [
      "Training Epoch 358: 100%|██████████| 719/719 [00:21<00:00, 33.04it/s]\n",
      "Validation Epoch 358: 100%|██████████| 180/180 [00:25<00:00,  7.06it/s]\n"
     ]
    },
    {
     "name": "stdout",
     "output_type": "stream",
     "text": [
      "Epoch 359/400\n"
     ]
    },
    {
     "name": "stderr",
     "output_type": "stream",
     "text": [
      "Training Epoch 359: 100%|██████████| 719/719 [00:22<00:00, 32.21it/s]\n",
      "Validation Epoch 359: 100%|██████████| 180/180 [00:26<00:00,  6.86it/s]\n"
     ]
    },
    {
     "name": "stdout",
     "output_type": "stream",
     "text": [
      "Epoch 360/400\n"
     ]
    },
    {
     "name": "stderr",
     "output_type": "stream",
     "text": [
      "Training Epoch 360: 100%|██████████| 719/719 [00:22<00:00, 32.29it/s]\n",
      "Validation Epoch 360: 100%|██████████| 180/180 [00:26<00:00,  6.87it/s]\n"
     ]
    },
    {
     "name": "stdout",
     "output_type": "stream",
     "text": [
      "Epoch 361/400\n"
     ]
    },
    {
     "name": "stderr",
     "output_type": "stream",
     "text": [
      "Training Epoch 361: 100%|██████████| 719/719 [00:22<00:00, 31.54it/s]\n",
      "Validation Epoch 361: 100%|██████████| 180/180 [00:26<00:00,  6.76it/s]\n"
     ]
    },
    {
     "name": "stdout",
     "output_type": "stream",
     "text": [
      "Epoch 362/400\n"
     ]
    },
    {
     "name": "stderr",
     "output_type": "stream",
     "text": [
      "Training Epoch 362: 100%|██████████| 719/719 [00:22<00:00, 32.17it/s]\n",
      "Validation Epoch 362: 100%|██████████| 180/180 [00:26<00:00,  6.82it/s]\n"
     ]
    },
    {
     "name": "stdout",
     "output_type": "stream",
     "text": [
      "Epoch 363/400\n"
     ]
    },
    {
     "name": "stderr",
     "output_type": "stream",
     "text": [
      "Training Epoch 363: 100%|██████████| 719/719 [00:22<00:00, 32.33it/s]\n",
      "Validation Epoch 363: 100%|██████████| 180/180 [00:26<00:00,  6.88it/s]\n"
     ]
    },
    {
     "name": "stdout",
     "output_type": "stream",
     "text": [
      "Epoch 364/400\n"
     ]
    },
    {
     "name": "stderr",
     "output_type": "stream",
     "text": [
      "Training Epoch 364: 100%|██████████| 719/719 [00:22<00:00, 32.61it/s]\n",
      "Validation Epoch 364: 100%|██████████| 180/180 [00:26<00:00,  6.90it/s]\n"
     ]
    },
    {
     "name": "stdout",
     "output_type": "stream",
     "text": [
      "Epoch 365/400\n"
     ]
    },
    {
     "name": "stderr",
     "output_type": "stream",
     "text": [
      "Training Epoch 365: 100%|██████████| 719/719 [00:22<00:00, 32.07it/s]\n",
      "Validation Epoch 365: 100%|██████████| 180/180 [00:26<00:00,  6.87it/s]\n"
     ]
    },
    {
     "name": "stdout",
     "output_type": "stream",
     "text": [
      "Epoch 366/400\n"
     ]
    },
    {
     "name": "stderr",
     "output_type": "stream",
     "text": [
      "Training Epoch 366: 100%|██████████| 719/719 [00:22<00:00, 32.26it/s]\n",
      "Validation Epoch 366: 100%|██████████| 180/180 [00:26<00:00,  6.82it/s]\n"
     ]
    },
    {
     "name": "stdout",
     "output_type": "stream",
     "text": [
      "Epoch 367/400\n"
     ]
    },
    {
     "name": "stderr",
     "output_type": "stream",
     "text": [
      "Training Epoch 367: 100%|██████████| 719/719 [00:22<00:00, 32.03it/s]\n",
      "Validation Epoch 367: 100%|██████████| 180/180 [00:26<00:00,  6.85it/s]\n"
     ]
    },
    {
     "name": "stdout",
     "output_type": "stream",
     "text": [
      "Epoch 368/400\n"
     ]
    },
    {
     "name": "stderr",
     "output_type": "stream",
     "text": [
      "Training Epoch 368: 100%|██████████| 719/719 [00:22<00:00, 31.80it/s]\n",
      "Validation Epoch 368: 100%|██████████| 180/180 [00:26<00:00,  6.79it/s]\n"
     ]
    },
    {
     "name": "stdout",
     "output_type": "stream",
     "text": [
      "Epoch 369/400\n"
     ]
    },
    {
     "name": "stderr",
     "output_type": "stream",
     "text": [
      "Training Epoch 369: 100%|██████████| 719/719 [00:22<00:00, 32.39it/s]\n",
      "Validation Epoch 369: 100%|██████████| 180/180 [00:25<00:00,  6.98it/s]\n"
     ]
    },
    {
     "name": "stdout",
     "output_type": "stream",
     "text": [
      "Epoch 370/400\n"
     ]
    },
    {
     "name": "stderr",
     "output_type": "stream",
     "text": [
      "Training Epoch 370: 100%|██████████| 719/719 [00:22<00:00, 31.96it/s]\n",
      "Validation Epoch 370: 100%|██████████| 180/180 [00:26<00:00,  6.82it/s]\n"
     ]
    },
    {
     "name": "stdout",
     "output_type": "stream",
     "text": [
      "Epoch 371/400\n"
     ]
    },
    {
     "name": "stderr",
     "output_type": "stream",
     "text": [
      "Training Epoch 371: 100%|██████████| 719/719 [00:21<00:00, 33.00it/s]\n",
      "Validation Epoch 371: 100%|██████████| 180/180 [00:25<00:00,  7.02it/s]\n"
     ]
    },
    {
     "name": "stdout",
     "output_type": "stream",
     "text": [
      "Epoch 372/400\n"
     ]
    },
    {
     "name": "stderr",
     "output_type": "stream",
     "text": [
      "Training Epoch 372: 100%|██████████| 719/719 [00:22<00:00, 31.79it/s]\n",
      "Validation Epoch 372: 100%|██████████| 180/180 [00:26<00:00,  6.82it/s]\n"
     ]
    },
    {
     "name": "stdout",
     "output_type": "stream",
     "text": [
      "Epoch 373/400\n"
     ]
    },
    {
     "name": "stderr",
     "output_type": "stream",
     "text": [
      "Training Epoch 373: 100%|██████████| 719/719 [00:21<00:00, 32.77it/s]\n",
      "Validation Epoch 373: 100%|██████████| 180/180 [00:25<00:00,  7.01it/s]\n"
     ]
    },
    {
     "name": "stdout",
     "output_type": "stream",
     "text": [
      "Epoch 374/400\n"
     ]
    },
    {
     "name": "stderr",
     "output_type": "stream",
     "text": [
      "Training Epoch 374: 100%|██████████| 719/719 [00:22<00:00, 32.19it/s]\n",
      "Validation Epoch 374: 100%|██████████| 180/180 [00:26<00:00,  6.82it/s]\n"
     ]
    },
    {
     "name": "stdout",
     "output_type": "stream",
     "text": [
      "Epoch 375/400\n"
     ]
    },
    {
     "name": "stderr",
     "output_type": "stream",
     "text": [
      "Training Epoch 375: 100%|██████████| 719/719 [00:22<00:00, 31.96it/s]\n",
      "Validation Epoch 375: 100%|██████████| 180/180 [00:26<00:00,  6.83it/s]\n"
     ]
    },
    {
     "name": "stdout",
     "output_type": "stream",
     "text": [
      "Epoch 376/400\n"
     ]
    },
    {
     "name": "stderr",
     "output_type": "stream",
     "text": [
      "Training Epoch 376: 100%|██████████| 719/719 [00:22<00:00, 32.33it/s]\n",
      "Validation Epoch 376: 100%|██████████| 180/180 [00:26<00:00,  6.88it/s]\n"
     ]
    },
    {
     "name": "stdout",
     "output_type": "stream",
     "text": [
      "Epoch 377/400\n"
     ]
    },
    {
     "name": "stderr",
     "output_type": "stream",
     "text": [
      "Training Epoch 377: 100%|██████████| 719/719 [00:22<00:00, 32.55it/s]\n",
      "Validation Epoch 377: 100%|██████████| 180/180 [00:25<00:00,  6.94it/s]\n"
     ]
    },
    {
     "name": "stdout",
     "output_type": "stream",
     "text": [
      "Epoch 378/400\n"
     ]
    },
    {
     "name": "stderr",
     "output_type": "stream",
     "text": [
      "Training Epoch 378: 100%|██████████| 719/719 [00:22<00:00, 32.39it/s]\n",
      "Validation Epoch 378: 100%|██████████| 180/180 [00:26<00:00,  6.92it/s]\n"
     ]
    },
    {
     "name": "stdout",
     "output_type": "stream",
     "text": [
      "Epoch 379/400\n"
     ]
    },
    {
     "name": "stderr",
     "output_type": "stream",
     "text": [
      "Training Epoch 379: 100%|██████████| 719/719 [00:22<00:00, 32.57it/s]\n",
      "Validation Epoch 379: 100%|██████████| 180/180 [00:26<00:00,  6.90it/s]\n"
     ]
    },
    {
     "name": "stdout",
     "output_type": "stream",
     "text": [
      "Epoch 380/400\n"
     ]
    },
    {
     "name": "stderr",
     "output_type": "stream",
     "text": [
      "Training Epoch 380: 100%|██████████| 719/719 [00:22<00:00, 32.50it/s]\n",
      "Validation Epoch 380: 100%|██████████| 180/180 [00:25<00:00,  6.94it/s]\n"
     ]
    },
    {
     "name": "stdout",
     "output_type": "stream",
     "text": [
      "Epoch 381/400\n"
     ]
    },
    {
     "name": "stderr",
     "output_type": "stream",
     "text": [
      "Training Epoch 381: 100%|██████████| 719/719 [00:22<00:00, 32.08it/s]\n",
      "Validation Epoch 381: 100%|██████████| 180/180 [00:26<00:00,  6.82it/s]\n"
     ]
    },
    {
     "name": "stdout",
     "output_type": "stream",
     "text": [
      "Epoch 382/400\n"
     ]
    },
    {
     "name": "stderr",
     "output_type": "stream",
     "text": [
      "Training Epoch 382: 100%|██████████| 719/719 [00:22<00:00, 32.17it/s]\n",
      "Validation Epoch 382: 100%|██████████| 180/180 [00:26<00:00,  6.86it/s]\n"
     ]
    },
    {
     "name": "stdout",
     "output_type": "stream",
     "text": [
      "Epoch 383/400\n"
     ]
    },
    {
     "name": "stderr",
     "output_type": "stream",
     "text": [
      "Training Epoch 383: 100%|██████████| 719/719 [00:22<00:00, 31.43it/s]\n",
      "Validation Epoch 383: 100%|██████████| 180/180 [00:26<00:00,  6.68it/s]\n"
     ]
    },
    {
     "name": "stdout",
     "output_type": "stream",
     "text": [
      "Epoch 384/400\n"
     ]
    },
    {
     "name": "stderr",
     "output_type": "stream",
     "text": [
      "Training Epoch 384: 100%|██████████| 719/719 [00:21<00:00, 33.32it/s]\n",
      "Validation Epoch 384: 100%|██████████| 180/180 [00:25<00:00,  7.07it/s]\n"
     ]
    },
    {
     "name": "stdout",
     "output_type": "stream",
     "text": [
      "Epoch 385/400\n"
     ]
    },
    {
     "name": "stderr",
     "output_type": "stream",
     "text": [
      "Training Epoch 385: 100%|██████████| 719/719 [00:22<00:00, 31.83it/s]\n",
      "Validation Epoch 385: 100%|██████████| 180/180 [00:26<00:00,  6.79it/s]\n"
     ]
    },
    {
     "name": "stdout",
     "output_type": "stream",
     "text": [
      "Epoch 386/400\n"
     ]
    },
    {
     "name": "stderr",
     "output_type": "stream",
     "text": [
      "Training Epoch 386: 100%|██████████| 719/719 [00:22<00:00, 31.89it/s]\n",
      "Validation Epoch 386: 100%|██████████| 180/180 [00:26<00:00,  6.81it/s]\n"
     ]
    },
    {
     "name": "stdout",
     "output_type": "stream",
     "text": [
      "Epoch 387/400\n"
     ]
    },
    {
     "name": "stderr",
     "output_type": "stream",
     "text": [
      "Training Epoch 387: 100%|██████████| 719/719 [00:22<00:00, 32.09it/s]\n",
      "Validation Epoch 387: 100%|██████████| 180/180 [00:26<00:00,  6.87it/s]\n"
     ]
    },
    {
     "name": "stdout",
     "output_type": "stream",
     "text": [
      "Epoch 388/400\n"
     ]
    },
    {
     "name": "stderr",
     "output_type": "stream",
     "text": [
      "Training Epoch 388: 100%|██████████| 719/719 [00:22<00:00, 32.48it/s]\n",
      "Validation Epoch 388: 100%|██████████| 180/180 [00:25<00:00,  6.97it/s]\n"
     ]
    },
    {
     "name": "stdout",
     "output_type": "stream",
     "text": [
      "Epoch 389/400\n"
     ]
    },
    {
     "name": "stderr",
     "output_type": "stream",
     "text": [
      "Training Epoch 389: 100%|██████████| 719/719 [00:22<00:00, 31.93it/s]\n",
      "Validation Epoch 389: 100%|██████████| 180/180 [00:26<00:00,  6.82it/s]\n"
     ]
    },
    {
     "name": "stdout",
     "output_type": "stream",
     "text": [
      "Epoch 390/400\n"
     ]
    },
    {
     "name": "stderr",
     "output_type": "stream",
     "text": [
      "Training Epoch 390: 100%|██████████| 719/719 [00:22<00:00, 31.41it/s]\n",
      "Validation Epoch 390: 100%|██████████| 180/180 [00:26<00:00,  6.72it/s]\n"
     ]
    },
    {
     "name": "stdout",
     "output_type": "stream",
     "text": [
      "Epoch 391/400\n"
     ]
    },
    {
     "name": "stderr",
     "output_type": "stream",
     "text": [
      "Training Epoch 391: 100%|██████████| 719/719 [00:22<00:00, 31.64it/s]\n",
      "Validation Epoch 391: 100%|██████████| 180/180 [00:26<00:00,  6.76it/s]\n"
     ]
    },
    {
     "name": "stdout",
     "output_type": "stream",
     "text": [
      "Epoch 392/400\n"
     ]
    },
    {
     "name": "stderr",
     "output_type": "stream",
     "text": [
      "Training Epoch 392: 100%|██████████| 719/719 [00:22<00:00, 32.25it/s]\n",
      "Validation Epoch 392: 100%|██████████| 180/180 [00:26<00:00,  6.89it/s]\n"
     ]
    },
    {
     "name": "stdout",
     "output_type": "stream",
     "text": [
      "Epoch 393/400\n"
     ]
    },
    {
     "name": "stderr",
     "output_type": "stream",
     "text": [
      "Training Epoch 393: 100%|██████████| 719/719 [00:22<00:00, 31.92it/s]\n",
      "Validation Epoch 393: 100%|██████████| 180/180 [00:26<00:00,  6.79it/s]\n"
     ]
    },
    {
     "name": "stdout",
     "output_type": "stream",
     "text": [
      "Epoch 394/400\n"
     ]
    },
    {
     "name": "stderr",
     "output_type": "stream",
     "text": [
      "Training Epoch 394: 100%|██████████| 719/719 [00:22<00:00, 31.90it/s]\n",
      "Validation Epoch 394: 100%|██████████| 180/180 [00:26<00:00,  6.83it/s]\n"
     ]
    },
    {
     "name": "stdout",
     "output_type": "stream",
     "text": [
      "Epoch 395/400\n"
     ]
    },
    {
     "name": "stderr",
     "output_type": "stream",
     "text": [
      "Training Epoch 395: 100%|██████████| 719/719 [00:22<00:00, 32.36it/s]\n",
      "Validation Epoch 395: 100%|██████████| 180/180 [00:25<00:00,  6.94it/s]\n"
     ]
    },
    {
     "name": "stdout",
     "output_type": "stream",
     "text": [
      "Epoch 396/400\n"
     ]
    },
    {
     "name": "stderr",
     "output_type": "stream",
     "text": [
      "Training Epoch 396: 100%|██████████| 719/719 [00:22<00:00, 31.70it/s]\n",
      "Validation Epoch 396: 100%|██████████| 180/180 [00:26<00:00,  6.83it/s]\n"
     ]
    },
    {
     "name": "stdout",
     "output_type": "stream",
     "text": [
      "Epoch 397/400\n"
     ]
    },
    {
     "name": "stderr",
     "output_type": "stream",
     "text": [
      "Training Epoch 397: 100%|██████████| 719/719 [00:22<00:00, 31.95it/s]\n",
      "Validation Epoch 397: 100%|██████████| 180/180 [00:26<00:00,  6.85it/s]\n"
     ]
    },
    {
     "name": "stdout",
     "output_type": "stream",
     "text": [
      "Epoch 398/400\n"
     ]
    },
    {
     "name": "stderr",
     "output_type": "stream",
     "text": [
      "Training Epoch 398: 100%|██████████| 719/719 [00:21<00:00, 32.79it/s]\n",
      "Validation Epoch 398: 100%|██████████| 180/180 [00:25<00:00,  7.00it/s]\n"
     ]
    },
    {
     "name": "stdout",
     "output_type": "stream",
     "text": [
      "Epoch 399/400\n"
     ]
    },
    {
     "name": "stderr",
     "output_type": "stream",
     "text": [
      "Training Epoch 399: 100%|██████████| 719/719 [00:22<00:00, 31.62it/s]\n",
      "Validation Epoch 399: 100%|██████████| 180/180 [00:26<00:00,  6.74it/s]\n"
     ]
    },
    {
     "name": "stdout",
     "output_type": "stream",
     "text": [
      "Epoch 400/400\n"
     ]
    },
    {
     "name": "stderr",
     "output_type": "stream",
     "text": [
      "Training Epoch 400: 100%|██████████| 719/719 [00:22<00:00, 32.17it/s]\n",
      "Validation Epoch 400: 100%|██████████| 180/180 [00:26<00:00,  6.87it/s]\n"
     ]
    },
    {
     "data": {
      "text/html": [],
      "text/plain": [
       "<IPython.core.display.HTML object>"
      ]
     },
     "metadata": {},
     "output_type": "display_data"
    },
    {
     "data": {
      "text/html": [
       "<br>    <style><br>        .wandb-row {<br>            display: flex;<br>            flex-direction: row;<br>            flex-wrap: wrap;<br>            justify-content: flex-start;<br>            width: 100%;<br>        }<br>        .wandb-col {<br>            display: flex;<br>            flex-direction: column;<br>            flex-basis: 100%;<br>            flex: 1;<br>            padding: 10px;<br>        }<br>    </style><br><div class=\"wandb-row\"><div class=\"wandb-col\"><h3>Run history:</h3><br/><table class=\"wandb\"><tr><td>epoch/epoch</td><td>▁▁▁▂▂▂▂▂▂▃▃▃▃▃▃▃▄▄▄▄▄▅▅▅▅▅▅▆▆▆▇▇▇▇▇▇▇███</td></tr><tr><td>epoch/train-data-loss</td><td>▄▂▃▃▇▅▃█▂▂▃▃▂▃▂▅▃▃▃▅▁▂▄▂▃█▄▃▁▁▅▂▅▃▄▂▁▅▃▄</td></tr><tr><td>epoch/train-loss</td><td>█▅▄▃▂▂▃▂▃▂▃▂▁▃▂▂▂▃▁▃▄▄▂▂▃▃▁▃▁▃▂▂▃▁▂▃▂▂▃▄</td></tr><tr><td>epoch/train-physics-loss</td><td>█▂▂▂▃▂▁▂▃▂▂▂▂▂▁▂▁▂▁▂▁▂▁▂▂▂▁▂▂▂▂▂▂▂▁▂▂▃▁▁</td></tr><tr><td>epoch/train-score</td><td>█▆▅▄▂▁▂▁▁▁▃▃▁▁▁▁▁▁▁▁▂▂▂▂▁▁▁▁▁▁▁▁▂▁▂▁▁▁▁▂</td></tr><tr><td>epoch/val-data-loss</td><td>▄▆▁▃▇▁▂▁▂█▁▃▁▁▁▁▂▁▂▁▁▁▁▁▁▂▇▃▁▂▃▅▂▃▁▁▆▁▁▆</td></tr><tr><td>epoch/val-loss</td><td>▂▂▁▁▂▁▁▂▁▁▂▁▁▁▂▁▂▁▁▁▁▁▂█▁▁▁▁▁▁▁▁▃▁▁▁▁▁▁▁</td></tr><tr><td>epoch/val-physics-loss</td><td>█▆▇▂▄▁▃▃▃▂▂▄▂▃▃▃▂▂▃▂▃▃▃▃▃▆▃▃▁▂▄▄▃▃▂▃▂▄▃▄</td></tr><tr><td>epoch/val-score</td><td>█▂▂▁▁▁▁▁▁▁▁▁▁▅▁▁▁▂▁▃▁▃▁▁▁▁▁▁▂▁▁▁▁▁▁▁▁▁▁▁</td></tr><tr><td>train/data-loss</td><td>█▇▃█▆▃▃▃▂▅▂▂▃▁▄▃▅▃▇▄▃▃▃▅▂▃▂▄▁▆▃▃▅▃▅▃▄▂▆▃</td></tr><tr><td>train/loss</td><td>▁▁█▁▁▁▁▁▁▁▁▁▁▁▁▁▁▁▁▁▁▁▁▁▁▁▁▁▁▁▁▁▁▁▁▁▁▁▁▁</td></tr><tr><td>train/physics-loss</td><td>▁▇▆▆▅▄▆▆▆▆▅▅▅▆▅▅▆▅▆▆▆▅▆▅▅▅▅▇▄▅▆▆▅▅▅▆█▄▅▅</td></tr><tr><td>train/score</td><td>█▃▁▁▁▁▂▁▃▂▁▁▁▂▂▂▁▂▁▃▁▁▂▁▁▁▁▁▂▆▁▁▁▂▁▁▂▂▁▁</td></tr></table><br/></div><div class=\"wandb-col\"><h3>Run summary:</h3><br/><table class=\"wandb\"><tr><td>epoch/epoch</td><td>400</td></tr><tr><td>epoch/train-data-loss</td><td>21.30796</td></tr><tr><td>epoch/train-loss</td><td>47.12191</td></tr><tr><td>epoch/train-physics-loss</td><td>13.91802</td></tr><tr><td>epoch/train-score</td><td>3986.45706</td></tr><tr><td>epoch/val-data-loss</td><td>26.92227</td></tr><tr><td>epoch/val-loss</td><td>53.84454</td></tr><tr><td>epoch/val-physics-loss</td><td>15.15532</td></tr><tr><td>epoch/val-score</td><td>4797.43165</td></tr><tr><td>train/data-loss</td><td>26.83505</td></tr><tr><td>train/loss</td><td>53.6701</td></tr><tr><td>train/physics-loss</td><td>15.42793</td></tr><tr><td>train/score</td><td>3869.16724</td></tr></table><br/></div></div>"
      ],
      "text/plain": [
       "<IPython.core.display.HTML object>"
      ]
     },
     "metadata": {},
     "output_type": "display_data"
    },
    {
     "data": {
      "text/html": [
       " View run <strong style=\"color:#cdcd00\">PINN_24</strong> at: <a href='https://wandb.ai/p-alig-fh-ost/mse-vp1/runs/e48e4hh4' target=\"_blank\">https://wandb.ai/p-alig-fh-ost/mse-vp1/runs/e48e4hh4</a><br> View project at: <a href='https://wandb.ai/p-alig-fh-ost/mse-vp1' target=\"_blank\">https://wandb.ai/p-alig-fh-ost/mse-vp1</a><br>Synced 5 W&B file(s), 0 media file(s), 0 artifact file(s) and 0 other file(s)"
      ],
      "text/plain": [
       "<IPython.core.display.HTML object>"
      ]
     },
     "metadata": {},
     "output_type": "display_data"
    },
    {
     "data": {
      "text/html": [
       "Find logs at: <code>.\\wandb\\run-20250204_222045-e48e4hh4\\logs</code>"
      ],
      "text/plain": [
       "<IPython.core.display.HTML object>"
      ]
     },
     "metadata": {},
     "output_type": "display_data"
    }
   ],
   "source": [
    "trainer = Trainer(model, train_loader, val_loader, criterion, optimizer, config)\n",
    "trainer.fit()\n",
    "torch.save(model.state_dict(), os.path.join(save_path, f'{run.config[\"model\"]}_best.pth'))\n",
    "run.finish()"
   ]
  },
  {
   "cell_type": "code",
   "execution_count": 14,
   "metadata": {},
   "outputs": [
    {
     "name": "stdout",
     "output_type": "stream",
     "text": [
      "✔️ Last completed run: e48e4hh4\n"
     ]
    },
    {
     "data": {
      "image/png": "[encoded data removed]",
      "text/plain": [
       "<Figure size 1000x600 with 1 Axes>"
      ]
     },
     "metadata": {},
     "output_type": "display_data"
    },
    {
     "data": {
      "image/png": "[encoded data removed]",
      "text/plain": [
       "<Figure size 1000x600 with 1 Axes>"
      ]
     },
     "metadata": {},
     "output_type": "display_data"
    }
   ],
   "source": [
    "api = wandb.Api()\n",
    "\n",
    "# Retrieve all runs\n",
    "runs = api.runs(f\"{entity}/{project_name}\")\n",
    "\n",
    "# Sort by end time (stop time) and filter only completed runs\n",
    "finished_runs = [run for run in runs if run.state == \"finished\"]\n",
    "\n",
    "if not finished_runs:\n",
    "    print(\"❌ No completed run found!\")\n",
    "else:\n",
    "    last_run = sorted(finished_runs, key=lambda r: r.created_at, reverse=True)[0]\n",
    "    print(\"✔️ Last completed run:\", last_run.id)\n",
    "\n",
    "    run = api.run(f\"{entity}/{project_name}/{last_run.id}\")\n",
    "\n",
    "history = run.history()\n",
    "\n",
    "train_loss = history[\"epoch/train-loss\"]\n",
    "val_loss = history[\"epoch/val-loss\"]\n",
    "train_score = history[\"epoch/train-score\"]\n",
    "val_score = history[\"epoch/val-score\"]\n",
    "\n",
    "steps = range(len(history[\"_step\"].values))\n",
    "\n",
    "plt.figure(figsize=(10, 6))\n",
    "plt.plot(steps, train_loss, label=\"Training Loss\")\n",
    "plt.plot(steps, val_loss, label=\"Validation Loss\")\n",
    "plt.xlabel(\"Steps\")\n",
    "plt.ylabel(\"Metrics\")\n",
    "plt.title(\"Training and Validation Loss over Steps\")\n",
    "plt.legend()\n",
    "plt.show()\n",
    "\n",
    "plt.figure(figsize=(10, 6))\n",
    "plt.plot(steps, train_score, label=\"Train Score\")\n",
    "plt.plot(steps, val_score, label=\"Validation Score\")\n",
    "plt.xlabel(\"Steps\")\n",
    "plt.ylabel(\"Metrics\")\n",
    "plt.title(\"Training and Validation Score over Steps\")\n",
    "plt.legend()\n",
    "plt.show()"
   ]
  },
  {
   "cell_type": "markdown",
   "metadata": {},
   "source": [
    "Testing of group 2 (DF2 and DF4)"
   ]
  },
  {
   "cell_type": "code",
   "execution_count": 39,
   "metadata": {},
   "outputs": [
    {
     "name": "stdout",
     "output_type": "stream",
     "text": [
      "Found 507 unique motor IDs in the data set.\n",
      "(507, 16)\n"
     ]
    },
    {
     "name": "stderr",
     "output_type": "stream",
     "text": [
      "Testing: 100%|██████████| 4/4 [00:00<00:00, 38.21it/s]"
     ]
    },
    {
     "name": "stdout",
     "output_type": "stream",
     "text": [
      "Test RMSE: 28.8670, Test Score: 8656.1512\n"
     ]
    },
    {
     "name": "stderr",
     "output_type": "stream",
     "text": [
      "\n"
     ]
    }
   ],
   "source": [
    "model.load_state_dict(torch.load(os.path.join(save_path, f'{config[\"model\"]}_best.pth')))\n",
    "model = model.to(device)\n",
    "\n",
    "ds_test = CMAPSSDataset(mode='test', data_path=data_path, subset=config[\"dataset\"])\n",
    "test_rmse_24, test_score_24, all_predictions_24, ground_truth_24 = test_model(model, ds_test, batch_size=config[\"batch_size\"], device='cuda')\n",
    "\n",
    "# Save predictions\n",
    "model_results[\"PINN_24\"] = {\n",
    "    \"predictions\": all_predictions_24.squeeze(1).detach().numpy(),\n",
    "    \"labels\": ground_truth_24.squeeze(1).detach().numpy(),\n",
    "    \"rmse\": test_rmse_24,\n",
    "    \"score\": test_score_24   \n",
    "}"
   ]
  },
  {
   "cell_type": "markdown",
   "metadata": {},
   "source": [
    "## Overall Test"
   ]
  },
  {
   "cell_type": "code",
   "execution_count": 42,
   "metadata": {},
   "outputs": [
    {
     "name": "stdout",
     "output_type": "stream",
     "text": [
      "Array1: (200,)\n",
      "Array2: (509,)\n",
      "Array3: (200,)\n",
      "Array4: (507,)\n",
      "Pred13: 200 -- IDs13: 200\n",
      "Pred24: 507 -- IDs13: 507\n",
      "RMSE: 26.3\n",
      "RUL-Score: 19739\n",
      "F1 Score: 0.830\n"
     ]
    },
    {
     "data": {
      "text/html": [
       "<div>\n",
       "<style scoped>\n",
       "    .dataframe tbody tr th:only-of-type {\n",
       "        vertical-align: middle;\n",
       "    }\n",
       "\n",
       "    .dataframe tbody tr th {\n",
       "        vertical-align: top;\n",
       "    }\n",
       "\n",
       "    .dataframe thead th {\n",
       "        text-align: right;\n",
       "    }\n",
       "</style>\n",
       "<table border=\"1\" class=\"dataframe\">\n",
       "  <thead>\n",
       "    <tr style=\"text-align: right;\">\n",
       "      <th></th>\n",
       "      <th>engine_no</th>\n",
       "      <th>result</th>\n",
       "    </tr>\n",
       "  </thead>\n",
       "  <tbody>\n",
       "    <tr>\n",
       "      <th>0</th>\n",
       "      <td>0</td>\n",
       "      <td>1</td>\n",
       "    </tr>\n",
       "    <tr>\n",
       "      <th>1</th>\n",
       "      <td>1</td>\n",
       "      <td>1</td>\n",
       "    </tr>\n",
       "    <tr>\n",
       "      <th>2</th>\n",
       "      <td>2</td>\n",
       "      <td>1</td>\n",
       "    </tr>\n",
       "    <tr>\n",
       "      <th>3</th>\n",
       "      <td>3</td>\n",
       "      <td>1</td>\n",
       "    </tr>\n",
       "    <tr>\n",
       "      <th>4</th>\n",
       "      <td>4</td>\n",
       "      <td>1</td>\n",
       "    </tr>\n",
       "    <tr>\n",
       "      <th>...</th>\n",
       "      <td>...</td>\n",
       "      <td>...</td>\n",
       "    </tr>\n",
       "    <tr>\n",
       "      <th>702</th>\n",
       "      <td>702</td>\n",
       "      <td>0</td>\n",
       "    </tr>\n",
       "    <tr>\n",
       "      <th>703</th>\n",
       "      <td>703</td>\n",
       "      <td>1</td>\n",
       "    </tr>\n",
       "    <tr>\n",
       "      <th>704</th>\n",
       "      <td>704</td>\n",
       "      <td>1</td>\n",
       "    </tr>\n",
       "    <tr>\n",
       "      <th>705</th>\n",
       "      <td>705</td>\n",
       "      <td>1</td>\n",
       "    </tr>\n",
       "    <tr>\n",
       "      <th>706</th>\n",
       "      <td>706</td>\n",
       "      <td>1</td>\n",
       "    </tr>\n",
       "  </tbody>\n",
       "</table>\n",
       "<p>707 rows × 2 columns</p>\n",
       "</div>"
      ],
      "text/plain": [
       "     engine_no  result\n",
       "0            0       1\n",
       "1            1       1\n",
       "2            2       1\n",
       "3            3       1\n",
       "4            4       1\n",
       "..         ...     ...\n",
       "702        702       0\n",
       "703        703       1\n",
       "704        704       1\n",
       "705        705       1\n",
       "706        706       1\n",
       "\n",
       "[707 rows x 2 columns]"
      ]
     },
     "metadata": {},
     "output_type": "display_data"
    }
   ],
   "source": [
    "import pandas as pd\n",
    "from sklearn.metrics import f1_score, mean_squared_error\n",
    "\n",
    "rul_score = Score.compute_score\n",
    "\n",
    "load_path = os.path.join(data_path, 'ids.txt')\n",
    "arrays = {}\n",
    "current_key = None\n",
    "\n",
    "with open(load_path, 'r') as file:\n",
    "    for line in file:\n",
    "        line = line.strip()\n",
    "        if line.startswith(\"id\"):\n",
    "            current_key = line.replace(\":\", \"\")\n",
    "            arrays[current_key] = []\n",
    "        elif current_key and line:\n",
    "            arrays[current_key].extend(map(int, line.split()))\n",
    "\n",
    "# Konvertieren in NumPy-Arrays\n",
    "id_train_13 = np.array(arrays[\"id_train13\"])\n",
    "id_train_24 = np.array(arrays[\"id_train24\"])\n",
    "id_test_13 = np.array(arrays[\"id_test13\"])\n",
    "id_test_24 = np.array(arrays[\"id_test24\"])\n",
    "\n",
    "print(\"Array1:\", id_train_13.shape)\n",
    "print(\"Array2:\", id_train_24.shape)\n",
    "print(\"Array3:\", id_test_13.shape)\n",
    "print(\"Array4:\", id_test_24.shape)\n",
    "\n",
    "\n",
    "def merge_pred_id(ids, predictions):\n",
    "    if len(ids) != len(predictions):\n",
    "        raise ValueError(\"IDs und Predictions müssen die gleiche Länge haben.\")\n",
    "\n",
    "    combined = np.column_stack((ids, predictions))\n",
    "    return combined\n",
    "\n",
    "print(f'Pred13: {len(all_predictions_13)} -- IDs13: {len(id_test_13)}')\n",
    "print(f'Pred24: {len(all_predictions_24)} -- IDs13: {len(id_test_24)}')\n",
    "\n",
    "predictions13 = merge_pred_id(id_test_13, all_predictions_13.detach().numpy())\n",
    "predictions24 = merge_pred_id(id_test_24, all_predictions_24.detach().numpy())\n",
    "\n",
    "combined = np.vstack((predictions13, predictions24))\n",
    "predicted_rul = combined[np.argsort(combined[:, 0])]\n",
    "rul_true = rul = np.loadtxt(os.path.join(data_path, 'RUL_test.txt'), dtype=np.float32)\n",
    "rul_true = np.minimum(rul_true, 125)\n",
    "\n",
    "rmse = np.sqrt(mean_squared_error(rul_true, predicted_rul[:,1]))\n",
    "print(f'RMSE: {rmse:.1f}')\n",
    "\n",
    "score = rul_score(torch.tensor(rul_true), torch.tensor(predicted_rul[:,1]))\n",
    "print(f'RUL-Score: {score:.0f}')\n",
    "\n",
    "predicted_labels = predicted_rul.copy()\n",
    "predicted_labels[:,1] = (predicted_rul[:,1] <= 100).astype(int)\n",
    "true_labels = (rul_true <= 100).astype(int)\n",
    "\n",
    "F1_score = f1_score(true_labels, predicted_labels[:,1])\n",
    "print(f'F1 Score: {F1_score:.3f}')\n",
    "\n",
    "df_result = pd.DataFrame(predicted_labels, columns=['engine_no', 'result'], dtype=int)\n",
    "display(df_result)\n",
    "model_name = 'PINN'\n",
    "# Speichern als CSV-Datei\n",
    "csv_file_path = os.path.join(result_path, f'results_{model_name}.csv')\n",
    "df_result.to_csv(csv_file_path, index=False)\n",
    "\n",
    "# Save predictions\n",
    "model_results[\"PINN\"] = {\n",
    "    \"predictions\": predicted_rul[:,1],\n",
    "    \"labels\": rul_true,\n",
    "    \"rmse\": rmse,\n",
    "    \"score\": score,\n",
    "    \"f1_score\": F1_score\n",
    "}"
   ]
  },
  {
   "cell_type": "code",
   "execution_count": 43,
   "metadata": {},
   "outputs": [],
   "source": [
    "file_path = os.path.join(result_path, \"PINN_predictions.npz\")\n",
    "np.savez(file_path, model_results=model_results)"
   ]
  }
 ],
 "metadata": {
  "kernelspec": {
   "display_name": "delearn",
   "language": "python",
   "name": "python3"
  },
  "language_info": {
   "codemirror_mode": {
    "name": "ipython",
    "version": 3
   },
   "file_extension": ".py",
   "mimetype": "text/x-python",
   "name": "python",
   "nbconvert_exporter": "python",
   "pygments_lexer": "ipython3",
   "version": "3.11.8"
  }
 },
 "nbformat": 4,
 "nbformat_minor": 2
}
